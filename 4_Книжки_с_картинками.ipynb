{
  "nbformat": 4,
  "nbformat_minor": 0,
  "metadata": {
    "kernelspec": {
      "display_name": "Python 3",
      "language": "python",
      "name": "python3"
    },
    "language_info": {
      "codemirror_mode": {
        "name": "ipython",
        "version": 3
      },
      "file_extension": ".py",
      "mimetype": "text/x-python",
      "name": "python",
      "nbconvert_exporter": "python",
      "pygments_lexer": "ipython3",
      "version": "3.6.7"
    },
    "colab": {
      "provenance": [],
      "collapsed_sections": [],
      "include_colab_link": true
    }
  },
  "cells": [
    {
      "cell_type": "markdown",
      "metadata": {
        "id": "view-in-github",
        "colab_type": "text"
      },
      "source": [
        "<a href=\"https://colab.research.google.com/github/AlinaSabitova/Lab1-task-1.2.1/blob/main/4_%D0%9A%D0%BD%D0%B8%D0%B6%D0%BA%D0%B8_%D1%81_%D0%BA%D0%B0%D1%80%D1%82%D0%B8%D0%BD%D0%BA%D0%B0%D0%BC%D0%B8.ipynb\" target=\"_parent\"><img src=\"https://colab.research.google.com/assets/colab-badge.svg\" alt=\"Open In Colab\"/></a>"
      ]
    },
    {
      "cell_type": "markdown",
      "metadata": {
        "id": "CNgVour2wdv4"
      },
      "source": [
        "## 0. Подготовка\n",
        "\n",
        "В этом листке мы научимся базовой работе с картинками с помощью Питона. \n",
        "\n",
        "** Полезные ссылки **:\n",
        "\n",
        "- <a href=\"https://pillow.readthedocs.io/en/5.3.x/\">Документация PIL</a>\n",
        "- <a href=\"https://matplotlib.org/users/colors.html\">Цвета в matplotlib</a>\n",
        "\n",
        "Нам понадобится библиотека *PIL*. Если вы пользуетесь Colab -- она уже установлена. Если вы пользуетесь Jupyter notebook, <a href=\"https://stackoverflow.com/questions/20060096/installing-pil-with-pip\">вот ссылка на инструкцию.</a>"
      ]
    },
    {
      "cell_type": "markdown",
      "metadata": {
        "id": "YC-suV07wdv6"
      },
      "source": [
        "## 1. Как работать с картинками"
      ]
    },
    {
      "cell_type": "markdown",
      "metadata": {
        "id": "Km6SpViLwdv6"
      },
      "source": [
        "Импортируем все необходимые библиотеки:"
      ]
    },
    {
      "cell_type": "code",
      "metadata": {
        "id": "z9C_bRPTwdv7"
      },
      "source": [
        "import numpy as np # библиотека для \"умной\" обработки многомерных массивов.\n",
        "from PIL import Image\n",
        "import matplotlib.pyplot as plt"
      ],
      "execution_count": 1,
      "outputs": []
    },
    {
      "cell_type": "markdown",
      "metadata": {
        "id": "ivTTWFgqwdv9"
      },
      "source": [
        "Попробуем открыть картинку:"
      ]
    },
    {
      "cell_type": "code",
      "metadata": {
        "id": "cT_ZWdhlwdv-",
        "colab": {
          "base_uri": "https://localhost:8080/",
          "height": 1000
        },
        "outputId": "4c3ce117-5718-4c0f-e85a-e3ace92d65ac"
      },
      "source": [
        "# Если вы пользуетесь Google Colab, нужно сначала загрузить картинку на сервер. \n",
        "# Запустите этот код и выберите картинку с компьютера.\n",
        "\n",
        "from google.colab import files\n",
        "files.upload()"
      ],
      "execution_count": 3,
      "outputs": [
        {
          "output_type": "display_data",
          "data": {
            "text/plain": [
              "<IPython.core.display.HTML object>"
            ],
            "text/html": [
              "\n",
              "     <input type=\"file\" id=\"files-ca49f2b4-e26e-40b2-98ea-24c9c4c9281b\" name=\"files[]\" multiple disabled\n",
              "        style=\"border:none\" />\n",
              "     <output id=\"result-ca49f2b4-e26e-40b2-98ea-24c9c4c9281b\">\n",
              "      Upload widget is only available when the cell has been executed in the\n",
              "      current browser session. Please rerun this cell to enable.\n",
              "      </output>\n",
              "      <script>// Copyright 2017 Google LLC\n",
              "//\n",
              "// Licensed under the Apache License, Version 2.0 (the \"License\");\n",
              "// you may not use this file except in compliance with the License.\n",
              "// You may obtain a copy of the License at\n",
              "//\n",
              "//      http://www.apache.org/licenses/LICENSE-2.0\n",
              "//\n",
              "// Unless required by applicable law or agreed to in writing, software\n",
              "// distributed under the License is distributed on an \"AS IS\" BASIS,\n",
              "// WITHOUT WARRANTIES OR CONDITIONS OF ANY KIND, either express or implied.\n",
              "// See the License for the specific language governing permissions and\n",
              "// limitations under the License.\n",
              "\n",
              "/**\n",
              " * @fileoverview Helpers for google.colab Python module.\n",
              " */\n",
              "(function(scope) {\n",
              "function span(text, styleAttributes = {}) {\n",
              "  const element = document.createElement('span');\n",
              "  element.textContent = text;\n",
              "  for (const key of Object.keys(styleAttributes)) {\n",
              "    element.style[key] = styleAttributes[key];\n",
              "  }\n",
              "  return element;\n",
              "}\n",
              "\n",
              "// Max number of bytes which will be uploaded at a time.\n",
              "const MAX_PAYLOAD_SIZE = 100 * 1024;\n",
              "\n",
              "function _uploadFiles(inputId, outputId) {\n",
              "  const steps = uploadFilesStep(inputId, outputId);\n",
              "  const outputElement = document.getElementById(outputId);\n",
              "  // Cache steps on the outputElement to make it available for the next call\n",
              "  // to uploadFilesContinue from Python.\n",
              "  outputElement.steps = steps;\n",
              "\n",
              "  return _uploadFilesContinue(outputId);\n",
              "}\n",
              "\n",
              "// This is roughly an async generator (not supported in the browser yet),\n",
              "// where there are multiple asynchronous steps and the Python side is going\n",
              "// to poll for completion of each step.\n",
              "// This uses a Promise to block the python side on completion of each step,\n",
              "// then passes the result of the previous step as the input to the next step.\n",
              "function _uploadFilesContinue(outputId) {\n",
              "  const outputElement = document.getElementById(outputId);\n",
              "  const steps = outputElement.steps;\n",
              "\n",
              "  const next = steps.next(outputElement.lastPromiseValue);\n",
              "  return Promise.resolve(next.value.promise).then((value) => {\n",
              "    // Cache the last promise value to make it available to the next\n",
              "    // step of the generator.\n",
              "    outputElement.lastPromiseValue = value;\n",
              "    return next.value.response;\n",
              "  });\n",
              "}\n",
              "\n",
              "/**\n",
              " * Generator function which is called between each async step of the upload\n",
              " * process.\n",
              " * @param {string} inputId Element ID of the input file picker element.\n",
              " * @param {string} outputId Element ID of the output display.\n",
              " * @return {!Iterable<!Object>} Iterable of next steps.\n",
              " */\n",
              "function* uploadFilesStep(inputId, outputId) {\n",
              "  const inputElement = document.getElementById(inputId);\n",
              "  inputElement.disabled = false;\n",
              "\n",
              "  const outputElement = document.getElementById(outputId);\n",
              "  outputElement.innerHTML = '';\n",
              "\n",
              "  const pickedPromise = new Promise((resolve) => {\n",
              "    inputElement.addEventListener('change', (e) => {\n",
              "      resolve(e.target.files);\n",
              "    });\n",
              "  });\n",
              "\n",
              "  const cancel = document.createElement('button');\n",
              "  inputElement.parentElement.appendChild(cancel);\n",
              "  cancel.textContent = 'Cancel upload';\n",
              "  const cancelPromise = new Promise((resolve) => {\n",
              "    cancel.onclick = () => {\n",
              "      resolve(null);\n",
              "    };\n",
              "  });\n",
              "\n",
              "  // Wait for the user to pick the files.\n",
              "  const files = yield {\n",
              "    promise: Promise.race([pickedPromise, cancelPromise]),\n",
              "    response: {\n",
              "      action: 'starting',\n",
              "    }\n",
              "  };\n",
              "\n",
              "  cancel.remove();\n",
              "\n",
              "  // Disable the input element since further picks are not allowed.\n",
              "  inputElement.disabled = true;\n",
              "\n",
              "  if (!files) {\n",
              "    return {\n",
              "      response: {\n",
              "        action: 'complete',\n",
              "      }\n",
              "    };\n",
              "  }\n",
              "\n",
              "  for (const file of files) {\n",
              "    const li = document.createElement('li');\n",
              "    li.append(span(file.name, {fontWeight: 'bold'}));\n",
              "    li.append(span(\n",
              "        `(${file.type || 'n/a'}) - ${file.size} bytes, ` +\n",
              "        `last modified: ${\n",
              "            file.lastModifiedDate ? file.lastModifiedDate.toLocaleDateString() :\n",
              "                                    'n/a'} - `));\n",
              "    const percent = span('0% done');\n",
              "    li.appendChild(percent);\n",
              "\n",
              "    outputElement.appendChild(li);\n",
              "\n",
              "    const fileDataPromise = new Promise((resolve) => {\n",
              "      const reader = new FileReader();\n",
              "      reader.onload = (e) => {\n",
              "        resolve(e.target.result);\n",
              "      };\n",
              "      reader.readAsArrayBuffer(file);\n",
              "    });\n",
              "    // Wait for the data to be ready.\n",
              "    let fileData = yield {\n",
              "      promise: fileDataPromise,\n",
              "      response: {\n",
              "        action: 'continue',\n",
              "      }\n",
              "    };\n",
              "\n",
              "    // Use a chunked sending to avoid message size limits. See b/62115660.\n",
              "    let position = 0;\n",
              "    do {\n",
              "      const length = Math.min(fileData.byteLength - position, MAX_PAYLOAD_SIZE);\n",
              "      const chunk = new Uint8Array(fileData, position, length);\n",
              "      position += length;\n",
              "\n",
              "      const base64 = btoa(String.fromCharCode.apply(null, chunk));\n",
              "      yield {\n",
              "        response: {\n",
              "          action: 'append',\n",
              "          file: file.name,\n",
              "          data: base64,\n",
              "        },\n",
              "      };\n",
              "\n",
              "      let percentDone = fileData.byteLength === 0 ?\n",
              "          100 :\n",
              "          Math.round((position / fileData.byteLength) * 100);\n",
              "      percent.textContent = `${percentDone}% done`;\n",
              "\n",
              "    } while (position < fileData.byteLength);\n",
              "  }\n",
              "\n",
              "  // All done.\n",
              "  yield {\n",
              "    response: {\n",
              "      action: 'complete',\n",
              "    }\n",
              "  };\n",
              "}\n",
              "\n",
              "scope.google = scope.google || {};\n",
              "scope.google.colab = scope.google.colab || {};\n",
              "scope.google.colab._files = {\n",
              "  _uploadFiles,\n",
              "  _uploadFilesContinue,\n",
              "};\n",
              "})(self);\n",
              "</script> "
            ]
          },
          "metadata": {}
        },
        {
          "output_type": "stream",
          "name": "stdout",
          "text": [
            "Saving 03.02.02.png to 03.02.02.png\n"
          ]
        },
        {
          "output_type": "execute_result",
          "data": {
            "text/plain": [
              "{'03.02.02.png': b'\\x89PNG\\r\\n\\x1a\\n\\x00\\x00\\x00\\rIHDR\\x00\\x00\\x00\\xd4\\x00\\x00\\x00\\x8e\\x08\\x06\\x00\\x00\\x00I\\xcb&\\x89\\x00\\x00\\x00\\x01sRGB\\x00\\xae\\xce\\x1c\\xe9\\x00\\x00\\x00\\x04gAMA\\x00\\x00\\xb1\\x8f\\x0b\\xfca\\x05\\x00\\x00\\x00\\tpHYs\\x00\\x00\\x12t\\x00\\x00\\x12t\\x01\\xdef\\x1fx\\x00\\x00\\x17>IDATx^\\xed\\x9d\\x0fL\\x9b\\xe7\\x9d\\xc7\\xbfw\\xdc|\\x8a\\xe6\\x96\\xcd\\xbd\\xac\\xceXL\\xa2\\x98D5\\x8b\\x84/*nn\\xa4\\xd3\\xc0\\xbd\\x0eO\\x99}\\xeaA\\xd5\\xe2\\xa9\\x0b\\xdb\\x05\\xee\\x16\\xfb\\xd6\\x01\\xcb\\xd5\\xb9^\\\\\\xe5\\xf0\\x94\\x03\\xd6\\xd6\\xaeVH%XT\\x93i\\xd0h0N\\xb8[\\x82Om\\xd12\\xd8E\\xe6\\xd4\\xe2,\\xc5\\xbd\\x06\\xa7i\\xdf.\\x17\\xefX\\xdf\\x89\\xee]\\xd1\\xdd\\xf3\\xfa}\\x02\\x94\\x84\\xf0\\xc7\\xaf\\xff\\x91\\xdfGr\\xfc\\xbe/\\x8e\\x01\\xf3|\\xdf\\xdf\\x9f\\xe7y~\\xbf?\\xf9\\xe8\\xa3\\x8f\\xfe\\x0f\\x04A\\xa8\\xc2\\x9f\\xf2g\\x82 T\\x80\\x04E\\x10*B\\x82\"\\x08\\x15!A\\x11\\x84\\x8a\\x90\\xa0\\x08BEHP\\x04\\xa1\"$(\\x82P\\x11\\x12\\x14A\\xa8\\x08\\t\\x8a T\\x84\\x04E\\x10*B\\x82\"\\x08\\x15!A\\x11\\x84\\x8a\\x90\\xa0\\x08BEHP\\x04\\xa1\"$(\\x82P\\x11\\x12\\x14A\\xa8\\x08\\t\\x8a T\\x84\\x04E\\x10*B\\x82\"\\x08\\x15!A\\x11\\x84\\x8a\\x90\\xa0r\\x81Y\\x11\\xd2\\x1c?&\\xf2\\x1a\\x12T\\xd6\\x89\\xa2\\xcb\\xe9D\\xcf\\x9b\\xfc\\x94\\xc8k\\xa8\\x8cX\\xb6\\xb9:\\x08\\xf7#\\xe7\\xf0\\xa9M\\xff\\x89_\\xcc\\xf2k\\xab\\xe63\\xf8\\x1c~\\x83w\\xf8Y:\\xf9\\xd4\\'\\x80\\xff\\xfd#?\\xc9)\\x8cp\\x9d\\xec\\x84\\xbd\\x88\\x9ff\\x19\\x12T\\xb6\\x99\\x08\\xc0\\xf6\\xb4\\x0e\\x9d\\'\\xeb`\\xe0\\x97\\x88\\xfc\\x85\\\\\\xbe,#\\xbc5\\ti\\xb7\\x91\\xc4\\xb4A Ae\\x99\\xe9\\xb7c0n/\\xe6gD\\xbeC\\x82\\xca*q\\xc4^\\xd7\\xa0t\\x87\\x9e\\x9f\\x13\\xf9\\x0e\\t*\\x9b\\xcc\\xc4\\x10\\xbd\\xc2\\xdc\\xbd\\x0c\\x04\\xd4\\x92\\xc4\\x0f\\x16q\\xb3kDj\\x90\\xa0\\xb2\\xc9\\xbbS\\x98,,E\\xc9f~\\x9e6\"\\xe8\\xb2Ya\\xabm\\x81\\xef\\xb9\\x00\\x02\\xdf?\\x82\\xc6Z\\x1b\\x9c\\xcfG \\xf2W\\x10\\xea@\\x82\\xca\"\\x89\\xd8$\\xc4]%\\x19KHH\\x89\\x08\\xc2\\x03!\\x8cD\\x01\\xcb\\xe3\\xdd\\x08\\x1e2C\\xcb\\xbf\\x965\\xae\\xf4\\xa3\\xd1\\xea@\\xc7h\\x82_\\xc8o(m\\x9eE\"\\xcfZ\\xd1q\\x17\\x1b\\xd8\\xcetK*\\x82\\x80\\xb5\\x0b\\xfa\\x93\\x9d\\xa8\\xc9\\x91\\xf9\\x9ay\\xce\\x07`=<\\xc8O\\x96\\xc7~\\xfc,\\\\{\\xf8I\\x0eC\\x16*k\\x08\\x881Ka\\xda\\x9a\\xe7\\t\\x89\\xd9\\xd4\\x021\\xe1\\xf2\\x14?\\xba\\x05\\x9bkPU\\xc6\\x8fs\\x1c\\xb2P\\xd9bv\\x14\\xbe\\xfdA\\x94d\\xc4j\\xc8\\x16\\xea)D>o\\xc0\\x96-%\\xf8\\xe4\\xf4\\x08\\xa2[\\x0e\\xc0\\xeb\\xb6\\xc3X\\xc8_\\xb2.\\xe4\\xf7=\\x02\\xb4\\x0f\\xc3\\xb5\\xce\\x01\\x1fy\\xce\\x86\\x96\\xffq!\\xf8\\xf8\\xbe\\x1b\\xdcO\\xf1\\\\;\\x1a\\xfd\\t\\x1cx\\xc1\\x9f3+!V\\x82,T\\xb6x\\x7f\\x1aQ\\x94\\xc2\\x98\\x91\\x81r\\x07t;Kao\\xf2\\xa3\\xf5\\xb0\\x0b\\x9e\\x80\\x1f\\xd5\\xd3\\x014\\xd6w!\\x9a\\xf2\\xa2\\\\f\\xa1\\xd6\\xfd\\x1e\"~\\xfb\\xae\\x04\\xcb\\x17\\xf6A_\\xa8\\x85v\\xf1\\xa3`\\x12\\xbd/\\x8c\\xc3p\\xd0\\x937b\\x92!Ae\\tq*\\n\\x81Y\\x8c\\xccL\\xe9\\x1aQ\\xf7\\x83V\\xd8\\xb7\\xf2\\xd3\\x02\\x03L\\xbb\\xd9\\xf3L?\\xfa^\\xc9n\\x9e\\xcf\\xe8h\\xc5\\x81=KmS\\x02a\\xdfS\\x18\\xd9\\xe3\\x81\\xcf\\x91_.1\\t*K\\xc4\\xdf\\x9e\\x84\\xc6h\\x80\\x8e\\x9f\\xaf\\t1\\x8e\\xf0\\xf3-p:\\x9d\\xa8\\xad\\xadE\\xa3o\\x10\\xb1\\x99\\x04\\xc6\\x9ew\\'\\xcfkk\\xeb\\xe1;#\\xf0\\x17\\xb3\\xe1\\x19\\xf6\\xc2f\\xb5\\xe1\\xc8\\x99\\x1b3i\\x89\\xdfeSPZ\\x18\\xca-0.\\xf9\\x10\\x84!/\\xda/V\\xe1\\xa8\\xbb\"\\xfbY\\xc85B\\x82\\xca\\n\\tLEE\\x98w\\x95\\xf0\\xf35 \\xb2\\xb8\\xe5\\xef\\x1a\\x11\\xda\\xc2\\xe2\\x8e`\\x10}\\x1d5\\x90\\xc2\\x01\\xb8\\x1fq\\xa2C\\xaaCgG#L\\x1a\\x01\\xe1\\xe3\\x01\\x84g\\x94\\xff\"\\xc4&d\\xc7\\x0c\\x9fPN\\x19\\x12~\\xff{\\xf9\\xd9\\x00KY\\x8eY\\x80D\\x18\\x81\\xe7\\xa3\\xd0?\\\\\\x03K\\xbe\\xa9\\x89A\\x82\\xca\\n\\xd3\\x88\\xbf\\xa1\\x87\\xa9d\\xed#&z\\xea{\\xcc\\x15:\\x8a\\xa3\\x0e\\x9ej\\xbf\\xf3.laO\\x92\\xc4\\xdc\\xba\\x87-\\x10\\xfe\\xbd\\x1d\\xa3\\x02\\x93O\\xa1\\x01z\\xfe\\xf6\\xa6\\xbf\\xae\\x81aG\\r\\x9c{\\xb9)\\xb8\\x12B\\xdf(\\xa0\\xdb\\xdf\\xb0\\xe0\\x06\\xe6\\x08\\xd1\\x1f\\xfb1&\\x99Qc\\xcd\\xcf\\xe5\\xc2$\\xa8lp%\\x86I\\x98P|7?_5q\\x08\\xd8\\x07\\xf7\\xdfZ\\x16\\\\\\xa1\\xd8$\"\\xf2s\\x91\\x05fflL_\\xebD\\xdb\\xb16tw7\\xc0T\\x90|\\x05\\xb0\\xad\\x0e\\xfe\\xbf\\x07\\xba\\xea\\x99;\\xf8\\x18s\\x13\\x1f\\x1f\\xc4\\x1d_kC\\xe7!\\xf6>\\xd7_\\x93\\x0b$B\\xe89\\xcd\\\\\\xd0\\xa22\\x94\\xae\\xcb\\x17\\xce>\\x946\\xcf\\x02\\xd2+>\\xd8N\\x95 \\xd8U\\x83T\\x1d\\xae\\xe8\\t\\x07\\xdc}\"\\xb4\\xb5~\\x0c\\x1c4\\xf1\\xab*\\xc2\\x06yKm\\x87\"\\xdau`\\xfeN\\x1f\\xdal\\xabSG\\xe2\\xe5\\x16\\xd4\\xb6\\xb3\\xef\\xf4\\xe5V\\x9cm\\xb6\\xf0\\xab\\xf9\\x05\\t*\\x0b\\xc4\\x83N\\xd4\\x0b.\\x15\\x06\\x8d\\x80A\\x97\\x13\\x81\\x0b@\\xe5\\x93\\xc3\\xf0|Q\\xc3\\xafg\\ny\\x1e\\xaa\\x05Pe\\x15\\x83\\x88\\xb0\\xc7\\x01\\xdf8\\xa0q\\xb4a\\xf8\\x90\\x99_\\xcf/\\xc8\\xe5\\xcb8\"bQ\\x01\\xa6\\xf5$$d\\x84(\\xc6&\\xe2\\x10\\xe5\\xb9\\x9f\\x99(\\xc6\\x99\\x98\\x00\\x0b\\xee+[\\x10Sb\\xbc\\x17\\x813q~\\x96\\'\\xcc1\\xd7\\x95\\x89I\\xc6\\xf899*\\xccOHP\\x19\\'\\x8e\\xa9\\x8b\\x1a\\x94l]G\\x90p\\xb9\\x1f\\xf5N7\\x8e4\\xd7\\xc3\\x7fN\\x828>\\x821\\xf9\\xfa\\x8e2\\x98\\xae\\xafx\\x98\\x8b#t\\xa2\\x17\\xd7\\n\\xf2,\\x08\\xb9*`\\x9a\\x1f\\xe63$\\xa8Lsu\\n\\x933f\\x94n\\xe7\\xe7k\\xe1\\x9a\\xc0\\x9c<\\xe6\\x12\\xed\\xac\\x83\\xc38\\x89\\x9e\\xee\\x084\\xb2a\\xfaPT,\\xd6\\x9c\\x80p{3z\\xefr\\xa1\\xb12\\xcfr\\xceW\\xe2\\x88\\xf2\\xc3|\\x86\\x04\\x95i\\xe2l\\xe0\\xc8)\\xed\\xf5\\xac\\xa1\\xdb]\\x83\\xe6J\\x03\\xb3T!x\\xbf\\xd5\\x81k\\x0f\\xfb\\x11\\xecjBeA?\\xdc\\xb5N\\xd4>\\xe2\\xc1\\xc8\\xddM\\x08\\xfa\\xaaSNvd\\x9c\\xcf\\xe8\\xf96\\x16\\rtw\\xe6\\xd9\\xcd`\\x11\\x94\\x94\\xc80\\xc2\\xe9F8/:1\\xec\\xa9`C\\'\\xdfQ3)\\xc1\\xa2\\xcbK\\x11L\\xcen\\x81\\xe5\\x9e\\xbc\\xbb\\x1d\\xccC\\x16*\\x1d0\\xd7k\\xf4Y\\x1f|\\xc1^\\x04\\xfe\\xa1\\x16\\xf5\\xbep\\xd2U\\x93W(\\xc4.\\xc6`\\xdce\\xdc\\x00b\\xe2\\xc8>\\xa7JsY\\xdam\\xe6\\xbc\\x16\\x93\\x0c\\t*\\x1d\\xbc\\xde\\x0f\\xdf\\xd0(\\xa4\\xadv\\xb8\\xbe\\xb1\\x0f\\xf1\\xb0\\x0f\\x1d\\xc3\\xf2::\\x16x_\\x04J\\xf2}\\x0f\\xd4<f\\xb8N\\x0f\\xac{\\xeb\\xc6F\\x84\\x04\\x95\\x0ev\\xd7\\xc1\\x7f\\xac\\x15\\xf5{\\xb4H\\\\\\x8d\\xb3\\xbb\\xb8\\x1e\\xa6\\xed:^\\x94\\xc5\\x04c~\\xae\\xaa\\xb99\\x9b6\\x8c\\xadU\\x05\\x12T:(\\xd0\\xc1X\\xb6\\x05\\xd7\\xc6\\xfb\\xe1?y\\r\\x95\\xcd>\\x1c\\xb8\\x87]\\x97\\x8b\\xb2hJ`\\xd8(\\x06\\x8a\\xb8\\x01\\x12T\\xba\\xd8\\xa4\\x87\\xb9\\xb2\\x06\\x8d\\x0fk1\\xfa\\xb4\\x0f\\xbdoJJQ\\x96\\xb2R\\xacsJ\\x97\\xc8\\x03HP\\xe9\\xe0j\\x0cc\\xe7b\\x90\\xa3&\\xfd}U0\\xce\\xc6\\xd0sj\\x14\\xbf\\xfe\\xef(\\x0b\\xbc\\xf5y\\xb7\\xc7\\x87X=$\\xa84\\x10\\xfdI3\\x8e\\xf8|\\x08\\xc9-j>\\x14\\x99\\xb04\\xd0o\\xfb\\x04\\xaeD\\x81\\xf2]F\\xe5E\\xc4\\x86\\x84\\x04\\x95\\x06L\\x8f\\xfaP\\xb7K\\xc2\\xc4K\\x01x\\xffm\\x10:\\x9b\\x07\\xed\\x8fj\\x10\\x7fK\\x8f\\xe2b\\n\\xe2724\\xb1\\x9b).\\xf5\\xc2\\xf9M\\x01\\xae\\x9f5\\xc1\\x92K{\\x90\\x08U!A\\xa5H\\xec\\xdc\\x18t{-+\\xd6\\x86\\x10\\xcf\\x1c\\x81\\xe3\\xa7\\xe5\\x08\\x06\\xec+.\\x0b\\xb2Z\\xad\\xfc\\x88\\xb8\\x15g\\xcf\\x9e\\xe5G\\xb9\\x03\\t*\\x15\\x12a\\x1cqF\\xf0\\xd5\\xa1\\x95\\xad\\x8e\\xbc\\x11\\xb0Y:\\x9a\\xb7\\xfb|\\x88\\xd5A1T\\nD_\\xea\\xc4\\x98\\x14A\\xec2\\xbf\\xb0,JQ\\x16c1\\xf5\\x81\\xda\\xe8\\x90\\xa0\\xd6\\x8b\\\\\\xff\\xa0\\x8f/\\'\\x9a^\\xa9\\x1c\\xb1\\\\\\x94E\\x8b\\xd2\\xa5\\xf5\\xb2\\x88\\r\\x07\\tj\\x9dD\\x7f\\xdc5_g!zy\\xa1\\x06\\xdeMI\\x16e)G\\xe96~NlXHP\\xeb!Y\\x9d\\x07\\xd0\\xf2=MB<\\x9e\\xac{\\xb7\\x1cRl\\n\\xb1\\xa2b\\x186\\xf1\\x0b\\xc4\\x86\\x85\\x04\\xb5\\x0ed\\xeb4\\xf5\\xd0Q<\\xb1\\x97_\\xb88\\xcd\\xb7g\\xdc\\x1c\\xe1r\\x14H\\xa51\\xf5\\x9c\\x04Q\\\\\\xc9\\xad\\xcc0\\xb3\"\\xa4\\x94\\xeb\\xa2o<HPkF\\xc0\\xd4\\xc5R4<lF\\xf1v\\xbe\\xea\\xe1J\\x141^\\xa5\\xf5F\\x94\\xa2,)5\\xa6\\x9e\\xe8\\x82\\xc3\\xb1\\xe0bf\\x1f\\x01\\x83\\xdfu\\xa0yh\\x05W\\xf76\\x84\\x04\\xb5f\\xf4\\xb0?\\xd3\\x8aj\\x1d;\\xdaV\\xca\\xafMb\\xea]~x\\x03JQ\\x16jL}{@\\x82J\\x85\"\\x03\\x94\\xd2\\x92\"\\xe2\\xef,St?Y\\x94%3\\x8d\\xa9\\xd5@8\\xd7\\x83#\\xdft\\xc0f\\xb5\\xc2j\\xb5\\xa1\\xb6\\xb9\\x0bcW\\xf9\\x17\\x89\\x15!A\\xa5\\x82\\xde0\\xbf\\x15c\\xf2\\xede\\xea\\xe0%\\x8b\\xb2d\\xa21u\\x8a\\xc8\\x15\\x93\\x8e9Q\\x7fl\\x04\\xbaG\\xfd\\x18\\xf8\\xd9Y\\x9c=\\xedG\\xf5G\\xfd8\\xe2\\xeeA\\x8c\\xbf\\x8c\\xb85$\\xa8\\x94\\xd8\\x02\\x83\\xbcq\\x90!^\\x12\\x98\\x9d\\xba\\x11\\xe1\\xd2$\\x90\\xc1\\xc6\\xd4\\xebCD\\xe497|\\xaf$`~\\xdc\\x8f\\xa6J\\x034\\x05@\\xf4\\x94\\x1b\\xbdo\\xb0/_\\x8d`\\x92\\xac\\xd4\\xaa A\\xa5\\x84\\x1e\\x86\\xeb\\xbb1.N\\xb1hi)JQ\\x16\\xbd\\xc9\\x98\\xdb{\\xa0.\\xf4\\xe2{C\\t\\xa0\\xd0\\x8e\\xba\\x07\\x16&\\x9fM_\\xf5\\xa0f\\xaf\\x05\\x95\\x87\\x1aQ\\x95\\xeb\\x166G A\\xa5\\xc8\\x96b^\\xa0\\x7ff\\x12S7\\xdc\\xc5\\x95\\xa2,\\xe6\\x9d\\xb9m\\x9f\"?\\x1fLn\\x86\\xc4\\xfd\\xe5<&\\xe4\\x14U\\xa0\\xe1X+<\\x0e\\x13m\\x8a\\\\%$\\xa8\\x14\\xd1o+\\xe1%\\xc1b\\x88_I\\x1e,\\x90,\\xca\\x92\\xeb\\t\\x89(\\xc6_U\\xe6\\xb8L[$\\x84\\xbf\\xefNvFt>d\\x83\\xc3\\xd9\\x82\\xae\\xf1\\xa4\\xd42\\x86\\xf8\\xe6 |\\xf5\\xb5\\xb0\\xed\\x97\\x13\"=\\x88.\\xf1\\xa3\\x85W:\\xd0\\xd2\\xdc\\x81\\xd1\\x1c\\xcd\\xd8\\x93\\xa0R\\xa5\\xc8\\x00\\xc5\\xeb\\x930uy\\xc9\\xe0{{\\x12\\x11M\\xa6\\x1aS\\xaf\\x93\\x19\\x01q>\\x87\\x16=\\xf1\\x14\\x06\\x8a\\x9b\\x93\\x9d\\x11\\x83}}x\\xe2\\xdei\\xf4{\\x9cp\\x0fdh\\xf4\\n\\x83\\xf0|{\\x04%O\\xf5\\xa1\\xfb\\x1bF$&z\\xe19\\xb5\\xa8@\\xf3\\\\\\x04\\xfd\\xc7C\\x88LL\\xe3\\x1a\\xbf\\x94k\\x90\\xa0Re\\xb3\\x01%|\\x13nl\\xfa\\xe3\\xe5\\xee\\x13\\x97\\xa7 1w/\\xa7\\xd7\\x98\\xcf~\\x80\\x0f\\xf8!\\x8aj\\xe0\\xbe\\xde\\x19\\xb1@\\x0b\\xcb\\xa3u\\xcc\\x05\\x94\\x98\\xd0\\x02\\x08g\\xc0PE\\x7f\\xd2\\x83\\xf8\\xfeF\\xd4lUbO\\x99\\x92\\xc5%\\xa2\\xde\\x1c\\xc7\\x88lL\\xe5\\xaci\\x8eN\\xeb\\x91\\xa0R\\xa6\\x18\\x86\\x9d\\xca\\x91\\x14\\x8b+\\xb1\\x08gZ.\\xcab*Y_c\\xea,\\xa0\\xb9\\xb7\\x0c\\xc6\\xc5\\xfb\\xba\\xe4\\x9b\\x85\\xfc,\\x8da\\xe0\\xd5\\xf5Z)%\\x1d/7\\xcdn\\x0cFo\\xb1\\xe61\\x0e\\xa1\\xa0\\n\\xeej\\x16\\xc5\\xcd\\x8c\"tF~\\xa5\\x05\\xd5\\xd7\\xdb\\x982\\xe2\\xe7_KfR5Kc\\xbd\\x1c\\x82\\x04\\x952:\\x18\\x8c\\xdcD\\xbd\\x19_\\xd4\\x92E@\\x8cy+\\xa5\\xdb\\xd3\\x97\\x90H\\x0c\\xb7$w\\xf7\\xae\\xf5a\\xfb\\xfe\\xd8\\xc2\\xc0\\xde\\xac\\x9f\\xb7\\xa0\\xb7\\xea\\xcb\\x14\\x9d~\\x8f\\x1f\\xad\\x91\\xabL\\x8c\\xaf\\x08\\xec\\xfb1\\xabsj\\x04\\x93\\xfc\\xf2\\x8d\\x18Py\\xd0\\x85\\xcam\\xec\\xf7:\\x17J\\xb6\\xe9\\xd1<P\\x8d\\x8a\\xf9\\xa6\\n\\x02\"c\\x8a\\xa8\\xcd\\xec&\\x95\\xab\\x90\\xa0T\\xa0\\xb8\\x98\\xe7\\xce\\xa5)\\xc4\\xafg\\xfafc\\x98zk}\\x8d\\xa9W\\x8b\\xce\\xd6\\x96\\xdc\\x06\\xbe\\xd6\\xc7\\xf0w,\\x0b\\xb5\\xd5\\x0b\\x98\\x85\\xdd\\xc1\\x8f\\xd3\\xc1ffu\\x0eU\\xb28\\xd2\\x8c\\x1ao\\x1dV\\xde\\xaf,b\\xe2Ue\\xd5b\\xc5}\\xe5\\x0b?\\xe7|s9\\x13\\xcaw\\xe7n\\xce\\x91\\x04\\xa5\\x02:c)O+/\\xca\\xf4\\xbd?\\x8d(\\x1b>\\xc6\\x1c\\xeb\\xb2~#z\\x94\\xee\\xe1?\\xfd;\\xcb[!S\\xf1z\\xbb\\njatx\\xd0y\\xb2\\r\\r\\xe5\\xabp~g\\'\\xf0\\xcbd\\'\\xc3\\x8fwe\\xc4\\xc5\\x88\\xd2\\\\\\x8e7\\xe7\\xceUHPj\\xf0\\xd9\\x12(\\xcbd\\x172}\\xe2T\\x14\\xc2\\x0e\\x03\\x8a\\xf3\\xa0\\xc2\\x91\\xa9\\xba.\\xb9\\x92C\\x9a`7\\x04\\xe5\\x92\\xc2\\xa5\\xa82\\x885\\x95\\xa8\\xb5fh\\x14\\xcf\\\\c\\xce\\x9d\\x8c\\x1e\\x9f^\\xd4C+\\xca\\xe2\\'\\x19\\xcd\\xbd\\xa6\\x9c^uB\\x82R\\x83B=\\x0c\\xfc\\x8f\\x7f=\\xd37\\xc5\\xee\\xa8\\x9a\\xdd\\xc6\\x15+\\x1c\\xe5\\x04[k\\xe0;d\\x82\\xe6R\\x0f\\xda\\x831\\xa5\\x1bb\"\\x8a\\xdegz!h\\xf4\\xb0\\x1fs\\xa3\"S^\\xd6fvsJ\\xae\\xca\\x88 z)y\\x05\\xf1\\x97\\xbd\\xf0\\x9eV&\\xa4*v__\\xe1\\x9f\\x9b\\x90\\xa0T\\xc1\\x80\\x92]\\xca\\x91\\x92\\xe9K \\x1e\\x93\\xf2\\xaa(\\x8b\\xde\\xe1G\\xf71;\\xfe\\xfc\\xe5f\\xd4>h\\x85\\xb5\\xb6\\x19\\x83\\x7ffGkw\\x10.\\xee\\x12f\\x84\\x02\\x13\\x1a\\xfc\\xad\\xa8)\\x93\\xd0\\xefr\\xa0\\xd6\\xe9\\x84\\xef\\xa7\\xd7wD/q\\x03s\\x10\\x12\\x94*h\\xa1\\xdf\\xc6\\x07\\xdd\\x1bqL\\xcfM!\\x96\\x87EY\\xf4{\\x1b\\xd0\\x16\\x1c\\xc0p2y1\\x8c\\xbe\\xf6\\x06X2mb\\xe7$H\\x85\\x164\\xb4\\x07104\\x80\\xbe`\\x10\\xbe\\xaf\\xde\\xa5,<\\xdeS\\x81\\xb2\\xf5\\xb4R\\xcd $(\\x950l\\xbf\\xee\\x8aL!~>\\xce\\xfe-E\\xc9g\\xf9%bu\\x08!\\xb48l\\xb0\\xd9\\xea\\xd1?_\\x9a-\\x8e\\x91\\x97\\xe4\\xac\\x9f\\x06\\x95\\xb6}9?\\xa7G\\x82R\\tm\\x89\\x89\\xc7KQL\\x9e\\x95\\x8b\\xb2\\x98`\\xcc\\xf1\\xbbi\\xae\\x91\\xf8U\\x08\\x91Y~\\xc2\\x11_\\t\\xa2\\x87\\xc5R\\x9a\\xcf7\\xa0>c\\x81\\xdc\\xfa!A\\xa9\\xc5\\xdd\\xc5\\xf3\\xb3\\xf7\\xe1p8\\xb5\\xa2,\\xb7)\\xda;\\xe5[\\x92\\x16\\x15\\x87\\xdbQ\\xb3\\x95\\x89i\\xa2\\x0b\\xcd\\xc7\\xd9g\\xa9g\\xb1\\xdc\\xbf\\xda\\xa1\\xcf\\x83\\x8c)\\tJ-6\\x19P\\xbch\\x11lJEYnS4\\x15n\\xb49K\\x10{\\xa1\\x11Ng-\\xea\\xdbc(9\\xd8\\x86\\xee\\x93.\\x98s\\xdf8%!A\\xa9\\x86\\x1e\\xc5<\\xd3\\'\\xfb\\xfb\\xaa\\x16e)2\\xc2\\xb2\\xd7\\x88\\xf5N\\xad\\xaa\\x8f\\x0e\\x86\\xddf\\x94nS9\\xa2)\\xd0\\xc2\\xfc\\xf5\\xb6\\xe4J\\xf7`\\xb0\\x0f}\\xc1649\\xccya\\x99\\xae\\x93\\xc1f\\x01\"b\\x03~\\xf8^\\x1cG\\xa2@\\x83\\x92/5\\xe1\\x89\\x83\\x16\\xe8\\xf2\\xe8\\xc3Z\\x89x\\xd0\\x89\\xfa\\x1f\\xca\\xd3\\x92&\\xb8~\\xe4\\x87\\x9dv\\xb9\\xdevd\\xccB\\xc5\\x83n4>7\\n\\xe3\\xdf\\xd4\\xc0 &\\x109\\xfd\\x14z_\\xe7_\\xdc \\x18v\\xf2\\x95j\\xf9P\\x94\\x85H\\x0b\\x99\\x11\\xd4\\xec(\\x82\\xa7\\xe4E-f\\x14k\\xa6\\x10\\x93g\\xe96W\\xa3b\\xdeE\\xda \\\\\\xdfl\\xb8\\xa7\\x94o:$n72#\\xa8h\\x04\\xa3\\xb2\\x88\\x8aL\\xd8W\\xeb\\xc5\\xc0\\xc0\\x00\\x86\\x83,\\xd0\\xdch\\xb5\\xbeyY1\\xe3.\\xe3\\xc2*i\\xe2\\xb6\"#\\x82\\x8a_\\xe0\\xfbox*Y\\xa3\\xd5&\\xcbTm8\\n\\x8aa\\xdak\\xc4>S^\\xac\\xe0#\\xd2@\\x06\\x04\\xa5\\xd4\\xf6\\x961\\xed\\xca\\xdd\\x8da\\xea\\xa0G\\xf5\\xb1N\\xd4\\xf1Z}\\xc4\\xedG\\xda\\xb2|\\xd2\\xb9\\x0e8\\x9e\\x0c\\xf1E\\x8dK\\xa9\\x84w\\xc8\\x83\\nj\\xefBl0\\xd2\\x9f6\\xbf:\\x08\\xf7#\\x01Da\\x81\\xe7t+*i9\\x0e\\xb1\\x81I\\xbf\\xa0\\xc6;`\\xf5\\x84\\x80\\xc2\\x1a\\xf8O7\\xac\\xbe\\xb8F\"\\x84\\x96\\xda\\x8eu\\xb6p\\xd1\\xa0\\xda7\\x80\\xa6rJ\\r\\x10\\x99%\\xed\\x82\\x12N7\\xc2\\xf9|\\x8cyy^\\x0c{*r2\\xfb%\\x17.!6>r=\\x8dt\\x93vA\\x8d\\xb5[q\\xe4e\\x16\\xae\\x7f\\xbd\\x1bA\\'-\\x17%66i\\xce\\xf2\\xc5\\x11\\xe3\\xab!r\\xbd\\xbe7A\\xa8Az-\\xd4\\xec(|\\xfb\\xbd\\x08\\xc3\\x88\\x86\\x93\\x9d\\xa8YKIb\\x8a\\xa1\\x88<$\\xbd\\x82\\xba\\xd0\\x05\\x87\\xab\\x1f\\xa2\\xc6\\x8e\\xb6a\\xd7*j\\xb2\\x11D~\\x93V\\x97O|\\'\\xae\\xd4\\x02(+\\x9d\\xef\\xf4G\\x10\\x1b\\x99\\xb4\\nJ.\\xa5%\\x93\\xf3\\r\\xc7\\x08B%\\xd2((\\xa5\\x94\\x96\\x1c\\xcfX\\xee\\xc9\\x93\\x84\\xc4\\xdc\\x18:\\xacV\\xb8\\xfb\\xe2\\x90\\xe4\\xdatD\\x06\\x100\\xe8\\xb2\\xc2js\\xc0Yk\\x83\\xd5\\xea\\xc6\\xe0z\\xfb\\x12\\xe4\\x00\\xaa\\xc7P\\xe2\\xa5\\x08&g\\xb7\\xc0\\xb2s\\x1a\\x1d\\x0f\\x1eAHS\\t\\xef\\xe9<Yf$\\x0c\\xc2\\xed\\x94Wu\\xdc\\x1a\\xd3\\xa1 \\xfc\\x0eZ\\x00\\xab&\\xd2\\x85\\x1e\\xd4\\xbbz\\x99\\xbcLp\\x05\\xfd\\xb0\\xe7\\xe9\\xc7\\xab\\xae\\x85\\xba\\xd0\\x85\\xfao\\xb6\\xe0\\x88\\xab\\x1e\\x81\\x17\\' \\x17\\xcf\\xd5\\xeew\\xe4\\xcf\\x9a\\xbd+\\xf1\\x15\\xc5\\x04\\x8d\\x05\\x8e\\xfbILj\\xa3\\xd9i\\xda\\x10I+U\\x05\\x95\\x88M&\\xfb#i\\xf4\\xd5\\xd0\\xce\\x8c@d\\x83\\xcf\\xfdp\\xaev\\xf2\\xb9\\x91\\xc4\\xbbS@Q\\x1d\\xdaN\\x0f``\\xc9\\xa3\\xef\\x19\\xb9\\xfe\\xb7\\x0e\\xf6cO\\xa02\\xbf\\xeaW\\xe6\\x07\\x05\\x9a\\r\\xb1\\x87LUA\\xe9\\xbe\\xd4\\x88\\xba2\\x1d4\\xb3#\\x08\\xfdW\\x19\\\\\\xcf\\xe4\\xd7\\xe0\\x13\\xde\\x8bC\\xfb\\x05\\x0b\\xcc\\x85Zh\\x17?\\xb4\"F\\xbaz!\\xee\\x7f\\x02\\x072Y\\x96\\x98\\xc8;\\xd2\\xbe\\xf4(\\x7f\\x90 \\\\\\x88\\xe0\\xbd;\\xcd0\\x17}\\xfc^\\x19=Q\\x0b\\xf7\\xb8\\x1d\\xdd]\\xccJm\\xc4\\x8d\\x919A\\x04\\x01k\\x0b\\x06\\xf3<\\x86\"A\\xad\\x804\\x11\\x80\\xb3y\\n5\\'\\xfdk[\\xe9\\x91N\\xe6\\xe2\\x08?\\x1b@\\xe7\\x7fD n2\\xa3\\xaa\\xd1\\x85\\xa6J\\x03\\xc4\\xf3\\x01\\xd4\\xb7k\\xe0=\\xd9\\x00\\xd3\\xcd\\xfc\\'\\x9et\\x89\\x15\\xea\\xa1+H@\\xb8\\xbb\\x01\\xdd\\xdf\\xbd\\x03\\xfd\\xcf\\xf6a\\xea\\x83\\x04\\xe2\\x97%\\xe8L\\xfbPw\\xb0\\x01\\xd5\\x9fM \\xfcb\\x00\\xc1\\xf3\\xd7 \\xbe/@*,\\xc5>g\\x03\\x1a\\xbe|\\x93)\\x909\\x11\\xb13]\\xe8\\xfa\\xd1\\x18\\xa6g\\x95o\\xac\\xdbU\\x85\\x03\\xdf:p\\xd3\\xda\\xe8\\xe2\\x9b!\\xf4\\xbe8\\x88\\x91\\x898{!\\xf3h>Y\\x8c\\xaa\\xaf\\x95\\xe3\\xbd\\'\\x03\\x08\\xafEPb\\x0c\\x83~\\x1fz\\xcf\\t\\xecs(E\\xcd\\xbf\\x1c\\xc5\\x81\\xcf/\\xfa\\xe9\\xae\\x8c\\xa2\\xe3\\xe9A\\xc0\\xd1\\x84\\xa6\\x8a\\xcc(\\x94\\x04u+\\xe6\\xa2\\xe8r\\xba1X\\xe6\\xc5\\xc0\\xe1\\\\Y)/`\\xf0\\xdb\\xf5\\x08\\xbc\\xc1\\xc6b\\x91\\x16\\xe2\\x95Dr\\x13\\xa7F\\xa7\\x87F\\x94P\\xe5\\x0b\\xc2\\xb5B\\x87\\na\\xa0\\x05\\xce\\xe7\"\\xec?\\xb1\\xb8EW\\x01\\xcf\\xd3\\x1eTlf\\xe3s\\xbc\\x03NO\\x88\\xc5\\xbez\\xe8\\x0b%\\x98\\x1a;\\xe1\\xf9\"\\xf3\\xd9\\xc51t<v\\x04\\xa1\\x19-\\xec\\xc7\\xfb\\xe0\\xda\\xb3\\xe8\\xfd\\xd9\\xa0\\xee\\xfdg7z\\xdeW\\xde\\xa7R\\x1e\\xb7\\xb2\\xc0~\\xe4\\x81\\xfb\\x87\\x02\\xca\\x0f\\xfb\\xe1}`a0\\x0bC-\\xa8\\x7f6\\x02mE\\x13\\xda\\x9f\\xacV,\\xbe\\x14G\\xc8\\xd7\\x8c\\x8eQ9\\x02_\\xad\\xa0\\x94\\xcfa\\xe4\\xaf:\\xe1\\xbf?\\xa2dg\\x97l\\x11\\x8a<kC\\xcb\\x10\\xfb=2\\x98\\x95M\\xeb\\xc4n\\xbe\\x938\\xd3\\x83\\xfe\\xabl\\x10}%\\x87\\xb6\\x9d\\xbc\\xf5\\x1aF$;ZO\\x0f\\xa3\\xefd_\\xb2S\\xc6\\xc0q;\\xb4\\t&&o\\xf7\\x8ab\\x92\\xd1o\\xe5\\xf3\\x82\\x92\\x06\\xf6\\x7fR\\xc4$\\xa3-\\xafD\\x95| \\xb1;\\xfe\\xfd^EL2Z\\x0b*\\xef\\x97\\x0fX,y^\\xe9\\xce\\xae b\\xd4\\xcf\\xc4\\xf4\\x86\\x04\\xf3c\\x8d\\x8a\\x98d\\n\\xb40:\\x9bQW\\x94\\xc0\\xe8q\\x0fzy\\x9f\\'\\xd9B\\xfa\\x98\\x98$M%\\xdc\\x87\\xb9\\x98d4\\x06T7\\xca\\x1d\\xe7\\xd7\\xc0\\x1b\\x83\\xe8\\xb9lG\\xe3C\\x06H\\xb1I$\\x7f*\\xa3aQ?\\xae(\\xc6_\\x95o5Z\\x94\\xee\\xca\\x8c\\x98dHP\\xcb\\xc1\\xacS\\xff\\x0b\\xf2J\\x8fr\\x94\\xa6\\xb3\\x07\\xedZ\\xd9\\xc1\\xee\\xc2?h\\x80\\x85\\xef|\\x16\\xc7\\x99\\x9bw\\xf85\\x94=\\xd9\\tW\\xf9Z\\x13&\\xfbP\\xb6L\\xfd\\x8b}{n>\\xbc\\xc5\\xd9?\\xf0#\\xc6\\xe5\\x10\\xba\\xc3\\xf2\\xa05\\xa2|\\xf7\\xd2\\xec\\x93\\x01\\xa6\\xbf\\x94\\x9f\\xe3\\xe8\\xfd\\xf1h\\xd2\\x8aF\\x7f\\xda\\xa3LK\\x94\\xdd\\x87\\xb2\\x14\\xa7R\\xe2\\xbf\\x01su\\xaba*`\\xa2\\x1e\\x0e\\'\\xdf\\xdfb]\\xd4\\x9d\\xe3R\\x04\\xaf\\xcd\\xb0gM\\x15\\xcay\\x97\\xfeL@\\x82Z\\x8e\\x0b\\xaf1\\x17\\x87=\\xef(\\x81q-\\x7f|y\\x95\\xfc\\xa2\\x8e\\xeb\\xab~\\xec\\xef\\xc0\\x98<*\\xd6\\x80p\\xc6\\x8bz\\xef$\\xaa\\x9e\\xe9^\\xb0&k\\x82\\xb9|\\xcb$YVS\\x95J\\xfc\\xf5\\x04o!\\xba\\xfc\\xfb\\xc8H\\xe3\\xb2\\x05I`*\\xaat!\\xc4\\xdd\\x9fNy)\\x9a\\xa1\\xb2\\x01\\xae\\x07\\x98\\xa5M\\xb0\\xbf\\x93\\xdc\\x93\\x97Y\\xbd\\xea\\x8a\\x85w\\x15&\\xc6\\x94\\xd6\\xa2\\xf2:\\xd2U\\xfc.jA\\x82Z\\x86\\xe8/X,!\\x1flZ\\xe3\\xfc\\x88\\xae\\x1am\\xbc\\xdb\\xfa\\x9a\\x1eCM\\xb0\\xac\\xe1\\x1b\\xc5O\\xbbQ\\xdf\\r4\\xbe\\xd0\\x89\\x86\\xc5\\x81x\\x06\\x91>\\xfc\\x80\\x1f\\xad\\xc0\\xac\\x84?\\xc86$\\r\\xcb\\xb9\\xc4\\xf3\\xa3\\xca\\x16\\x9f\\x8a\\xfbQ>\\x7f\\xe3\\x13\\x11\\x1dW\\xa6\\xe8M\\xe5\\xa6\\x8c\\xae#%A\\xdd\\x14\\x01\\x93\\xe7\\xf9\\xddt\\xbb<\\x9d\\x9bK\\xb0\\x80_.k\\xfd\\xf3R\\xb4\\xbf\\xe0E\\xe5|\\xe6QBt(\\x80\\xfe\\t\\xfesg\\x00\\xddn\\x0b\\x8fY\\xa4\\x9b\\xae}\\x94\\xfe\\xc8\\x0f*\\xcc(e\\xaf4\\xec\\xe2w\\x8c\\xf7\\x7f\\xab\\xdc\\xacRF\\xc2\\xc4\\xaf\\x92m\\xb5a\\xb9\\xb7l\\xe1\\xc677\\x89H\\xb2\\x93\\xbc\\x1e\\x96\\xb2\\xcc\\xc5O2$\\xa8\\x9b\\xf2\\x1e\\x84\\xb7\\xf8a\\x8e!\\x0cx\\xe0~\\t8\\xf0\\xed:\\x18\\x16Y4!\\xdc\\x0e/\\x0b\\xf8qW\\x06\\xef\\xc7\\xdb\\xaaQ\\x9f\\xdc\\xc4\\x19\\xc3\\xf8\\xebJ\\xf7\\xfbyX\\x0c:qN>\\xd0\\xc1n+O\\x0evs\\x95]\\xb99M\\xfc\\x12\\x13K\\x1a\\xab\\xe1wrg\\xe2\\xb5\\x92\\xc0\\xb5\\xf7\\x94#\\xbdn\\xd1\\xef}AY\\xf6&/\\x133mK^\\xc9\\x18$\\xa8\\x9b!\\xc8-=s\\x0fy\\x9e\\xc9}\"\\x01\\xf3\\x83f\\xc4\\x9f\\xa9\\x85\\xc3f\\x85\\xad\\xd6\\x99|v\\xfaF\\xa1?\\xe4K6*[\\x11\\xe9\\xba\\xab\\xf6\\xc1\\xc7-\\xcb\\x9c\\xc4\\xae(|\\xb0$\\x9e\\x93>\\xe4\\x07\\x7f\\\\\\xfc\\x05\\x1d*=\\xad\\xb0\\xeb5\\x88\\xf8\\xbd\\xe8\\xbd\\xc0%1\\' \\xdc\\xeeE\\xff\\x8c\\x06\\xe6\\x7f\\xf4/d\\x1e\\xefi\\x80_\\xee6/\\x85\\xe1?1\\xa6t\\x9b\\x97\\x11\\xc2\\xf0\\x1d\\x95\\x17\\xc6\\xca\\xc4\\x11\\xbf\\xb2\\xda`R\\x8f\\x12\\x9e\\x0c\\x89\\\\P\\xa299Q\\xe2m\\xedW,`\\xd22f\\x16\\x9a\\x87\\xba\\x19\\xf2\\xd6\\xfd\\x87\\xbc\\x90\\x13X:g\\'\\xfa\\xbe\\x9e\\x03\\xa5\\xff\\x93?\\x93\\x1fw\\x1c\\xebV\\xba\\xb2\\xcf\\xc5\\x11:\\xeeE ,@\\xb3\\xcd\\x0c\\xfb\\xc1&\\x1c(_\\xc19\\x9d_M\\xaf\\x81\\xaeH^\"\\x96\\x80\\x90`\\xbf\\xe4\\xfe6\\xb4\\xa1\\x05-C\\xec\\xa6\\xae\\xd3C\\xb7IB\"9\\xbfeG\\xdbq\\xa0\\xe5\\xf0 \\x8b%u\\xcc\\nh %\\x04$\\x98u\\xf9\\xd8\\xdc\\x0e\\x13Pd\\xa8\\x17=/\\x8e :#\\x8b\\x81\\xbd\\x7fY\\x15\\x0e\\xc8\\x13\\xc4;o\\xb4\\x98\\xc2\\xb9\\x1e\\x04^\\x0c!r\\x99}\\xbe\\x85Llz3\\xea\\x1e\\xd4a\\xf0x\\xaf\\x92\\xfeN\\xc2\\xbe\\xf7\\xd9U\\xec\\xf2\\x9eK`\\xec\\xc4\\xf7\\x108;\\t\\xb1@\\x07\\xed_h\\xa1y7\\x868S\\x94\\xe5\\xf0\\x00Z\\x1f\\xc8\\xa0\\xc5f\\x90\\xa0\\x96C\\x88bL\\xd0\\xa2t\\xb7\\x01\\xda\\x0cf\\x89\\x88\\xb5!\\xcdJ\\xd0lZ\\xe4\\xfb\\xce\\xd7\"1\\xa3\\xa9\\xaf\\r\\xd5\\x19\\x0e\\x80\\xc9\\xe5[\\x0e\\xbd\\x89\\x05\\xb4$\\xa6\\xdcE@\\xe8\\xb0\\r\\xb6\\xfd6\\xd4\\xf7qw\\x8f\\x11?\\xdb\\x9f\\xcc\\xfai*\\xed\\xd8\\x97\\x85l\\x12\\t\\x8a\\xc8O\\xae\\x8e!t~I\\xac%\\x8e\"\\xf8C&.\\x8d\\t\\r\\x8fUd\\xa5\\xec\\x02\\t\\x8a\\xc8O\\xb4w%S\\xf6\\xda\\n\\x0f\\xda\\x1f2\\x003\\x11t5\\xf9\\x10fW\\xed\\xc7|\\xb0gi!3\\xc5PD\\xde\"N\\xf4\\xe0\\xa9\\xf6\\x10\\xa6\\xe5\\xa4<3V\\xc5\\xf7\\xd5\\xe0\\xd1G\\xed0gv\\xea\\xe9c\\x90\\xa0\\x08BE\\xc8\\xe5#\\x08\\x15!A\\x11\\x84\\x8a\\x90\\xa0\\x08BEHP\\x04\\xa1\"$(\\x82P\\x11\\x12\\x14A\\xa8\\x08\\t\\x8a T\\x84\\x04E\\x10*B\\x82\"\\x08\\x15!A\\x11\\x84\\x8a\\x90\\xa0\\x08BEHP\\x04\\xa1\"$(\\x82P\\x11\\x12\\x14A\\xa8\\x08\\t\\x8a T\\x84\\x04E\\x10*B\\x82\"\\x08\\x15!A\\x11\\x84j\\x00\\xff\\x0f\\xa3\\x980\\x18\\xb1@\\xc2;\\x00\\x00\\x00\\x00IEND\\xaeB`\\x82'}"
            ]
          },
          "metadata": {},
          "execution_count": 3
        }
      ]
    },
    {
      "cell_type": "code",
      "source": [
        "!ls"
      ],
      "metadata": {
        "colab": {
          "base_uri": "https://localhost:8080/"
        },
        "id": "n14_I2OMXUy8",
        "outputId": "745bfa41-61a7-4375-f309-124a9d414782"
      },
      "execution_count": 4,
      "outputs": [
        {
          "output_type": "stream",
          "name": "stdout",
          "text": [
            "03.02.02.png  sample_data\n"
          ]
        }
      ]
    },
    {
      "cell_type": "code",
      "metadata": {
        "id": "8fCTzuM4wdv_"
      },
      "source": [
        "# Или скачайте картинки автоматически:\n",
        "from requests import get\n",
        "from os import system\n",
        "\n",
        "\n",
        "with open(\"downloader.py\", \"wb\") as f:\n",
        "    f.write(get('https://wikiart_downloader.py').content)\n",
        "!python downloader.py #Для Google Colab\n",
        "%run -i 'downloader.py' # Для jupyter notebook\n"
      ],
      "execution_count": null,
      "outputs": []
    },
    {
      "cell_type": "code",
      "source": [
        "import cv2\n",
        "\n",
        "\n",
        "img = cv2.imread(\"03.02.02.png\")\n",
        "img_cvt=cv2.cvtColor(img, cv2.COLOR_BGR2RGB)\n",
        "plt.imshow(img_cvt)\n",
        "plt.show()"
      ],
      "metadata": {
        "colab": {
          "base_uri": "https://localhost:8080/",
          "height": 269
        },
        "id": "hCkWBKXnXnHO",
        "outputId": "10d5874a-ea9f-4c1c-8d9f-4e6ffa92f74f"
      },
      "execution_count": 7,
      "outputs": [
        {
          "output_type": "display_data",
          "data": {
            "text/plain": [
              "<Figure size 432x288 with 1 Axes>"
            ],
            "image/png": "[encoded data removed]"
          },
          "metadata": {
            "needs_background": "light"
          }
        }
      ]
    },
    {
      "cell_type": "code",
      "metadata": {
        "id": "tukchAnmxg8i"
      },
      "source": [
        "dir"
      ],
      "execution_count": null,
      "outputs": []
    },
    {
      "cell_type": "code",
      "metadata": {
        "id": "Nmdj_3QjwdwB"
      },
      "source": [
        "im = Image.open(\"03.02.02.png\")\n",
        "im.show()"
      ],
      "execution_count": 10,
      "outputs": []
    },
    {
      "cell_type": "markdown",
      "metadata": {
        "id": "FB-0TC9TwdwC"
      },
      "source": [
        "Картинка для нас -- это многомерный массив чисел. Нам нужно хранить отдельно цвет каждого пикселя, то есть нам понадобится массив размера (высота * ширина * 3), потому что цвет пикселя задаётся тремя цветами: разные компоненты отвечают за красный, синий и зелёный. Такая модель называется RGB (red-green-blue). Бывают и другие цветовые модели. Например, принтеры используют модель CMYK на основе четырёх цветов.\n",
        "\n",
        "В этом листке мы будем пользоваться библиотекой numpy, которая позволяет эффективно работать с массивами. Синтаксис numpy отличается от обычного синтаксиса массивов. Например, получать элемент с координатами x, y, z нужно с помощью оператора [x, y, z], а не [x][y][z]:"
      ]
    },
    {
      "cell_type": "code",
      "metadata": {
        "id": "sIrLBc4nwdwC",
        "colab": {
          "base_uri": "https://localhost:8080/"
        },
        "outputId": "8f1f2c15-ff48-4f6b-8f86-2f7b98a9bb39"
      },
      "source": [
        "python_array = [[1, 2, 3], [4, 5, 6], [7, 8, 9]]\n",
        "numpy_array = np.array(python_array)\n",
        "print(python_array[1][2])\n",
        "print(numpy_array[1, 2])"
      ],
      "execution_count": 8,
      "outputs": [
        {
          "output_type": "stream",
          "name": "stdout",
          "text": [
            "6\n",
            "6\n"
          ]
        }
      ]
    },
    {
      "cell_type": "markdown",
      "metadata": {
        "id": "S5B6FwRrwdwF"
      },
      "source": [
        "Преобразуем нашу картинку в массив и посмотрим на её размер."
      ]
    },
    {
      "cell_type": "code",
      "metadata": {
        "id": "Bp5_UAoqwdwF",
        "colab": {
          "base_uri": "https://localhost:8080/"
        },
        "outputId": "2141821b-d98a-42b2-bcd9-09f5252cd28f"
      },
      "source": [
        "image_array = np.asarray(im)\n",
        "print(image_array.shape)"
      ],
      "execution_count": 11,
      "outputs": [
        {
          "output_type": "stream",
          "name": "stdout",
          "text": [
            "(142, 212, 4)\n"
          ]
        }
      ]
    },
    {
      "cell_type": "markdown",
      "metadata": {
        "id": "EYHzy4tuwdwH"
      },
      "source": [
        "Видим, что у нас картинка высоты 609, ширины 1000, а каждый пиксель задаётся тремя цветами."
      ]
    },
    {
      "cell_type": "markdown",
      "metadata": {
        "id": "HBYUD_EZwdwH"
      },
      "source": [
        "## 2. Подробнее о цветах\n",
        "\n",
        "Цвет каждого пикселя задаётся тремя числами от 0 до 255 -- всего чисел 256. Каждое число характеризует насыщенность (\"освещенность\") красного, зелёного или синего цвета: (0, 0, 0) соответствует чёрному цвету, (255, 255, 255) -- белому, а, например, (255, 0, 0) -- красному.\n",
        "\n",
        "### Задача 1. Палитра\n",
        "\n",
        "Ниже реализована функция, которая позволяет нарисовать кружок данного цвета. В качестве цвета можно передавать массив из трёх элементов -- цвет точки. \n",
        "\n",
        "В matplotlib цвет нужно передавать не от 0 до 255, а от 0 до 1, то есть 255 будет соответствовать единице, а 0 -- нулю.\n",
        "\n",
        "Выпишите ниже формулу, которая преобразует число от 0 до 255 в число от 0 до 1. Реализуйте соотвествующую функцию."
      ]
    },
    {
      "cell_type": "code",
      "source": [
        "n=[]\n",
        "for i in range(256):\n",
        "  n.append(i/255)\n",
        "for index, i in enumerate(n):\n",
        "  print(index, \"%.3f\" % i)"
      ],
      "metadata": {
        "colab": {
          "base_uri": "https://localhost:8080/"
        },
        "id": "9FC36OT6bQBw",
        "outputId": "3b62b65b-06af-4668-83bf-1f16c92a4f2e"
      },
      "execution_count": 12,
      "outputs": [
        {
          "output_type": "stream",
          "name": "stdout",
          "text": [
            "0 0.000\n",
            "1 0.004\n",
            "2 0.008\n",
            "3 0.012\n",
            "4 0.016\n",
            "5 0.020\n",
            "6 0.024\n",
            "7 0.027\n",
            "8 0.031\n",
            "9 0.035\n",
            "10 0.039\n",
            "11 0.043\n",
            "12 0.047\n",
            "13 0.051\n",
            "14 0.055\n",
            "15 0.059\n",
            "16 0.063\n",
            "17 0.067\n",
            "18 0.071\n",
            "19 0.075\n",
            "20 0.078\n",
            "21 0.082\n",
            "22 0.086\n",
            "23 0.090\n",
            "24 0.094\n",
            "25 0.098\n",
            "26 0.102\n",
            "27 0.106\n",
            "28 0.110\n",
            "29 0.114\n",
            "30 0.118\n",
            "31 0.122\n",
            "32 0.125\n",
            "33 0.129\n",
            "34 0.133\n",
            "35 0.137\n",
            "36 0.141\n",
            "37 0.145\n",
            "38 0.149\n",
            "39 0.153\n",
            "40 0.157\n",
            "41 0.161\n",
            "42 0.165\n",
            "43 0.169\n",
            "44 0.173\n",
            "45 0.176\n",
            "46 0.180\n",
            "47 0.184\n",
            "48 0.188\n",
            "49 0.192\n",
            "50 0.196\n",
            "51 0.200\n",
            "52 0.204\n",
            "53 0.208\n",
            "54 0.212\n",
            "55 0.216\n",
            "56 0.220\n",
            "57 0.224\n",
            "58 0.227\n",
            "59 0.231\n",
            "60 0.235\n",
            "61 0.239\n",
            "62 0.243\n",
            "63 0.247\n",
            "64 0.251\n",
            "65 0.255\n",
            "66 0.259\n",
            "67 0.263\n",
            "68 0.267\n",
            "69 0.271\n",
            "70 0.275\n",
            "71 0.278\n",
            "72 0.282\n",
            "73 0.286\n",
            "74 0.290\n",
            "75 0.294\n",
            "76 0.298\n",
            "77 0.302\n",
            "78 0.306\n",
            "79 0.310\n",
            "80 0.314\n",
            "81 0.318\n",
            "82 0.322\n",
            "83 0.325\n",
            "84 0.329\n",
            "85 0.333\n",
            "86 0.337\n",
            "87 0.341\n",
            "88 0.345\n",
            "89 0.349\n",
            "90 0.353\n",
            "91 0.357\n",
            "92 0.361\n",
            "93 0.365\n",
            "94 0.369\n",
            "95 0.373\n",
            "96 0.376\n",
            "97 0.380\n",
            "98 0.384\n",
            "99 0.388\n",
            "100 0.392\n",
            "101 0.396\n",
            "102 0.400\n",
            "103 0.404\n",
            "104 0.408\n",
            "105 0.412\n",
            "106 0.416\n",
            "107 0.420\n",
            "108 0.424\n",
            "109 0.427\n",
            "110 0.431\n",
            "111 0.435\n",
            "112 0.439\n",
            "113 0.443\n",
            "114 0.447\n",
            "115 0.451\n",
            "116 0.455\n",
            "117 0.459\n",
            "118 0.463\n",
            "119 0.467\n",
            "120 0.471\n",
            "121 0.475\n",
            "122 0.478\n",
            "123 0.482\n",
            "124 0.486\n",
            "125 0.490\n",
            "126 0.494\n",
            "127 0.498\n",
            "128 0.502\n",
            "129 0.506\n",
            "130 0.510\n",
            "131 0.514\n",
            "132 0.518\n",
            "133 0.522\n",
            "134 0.525\n",
            "135 0.529\n",
            "136 0.533\n",
            "137 0.537\n",
            "138 0.541\n",
            "139 0.545\n",
            "140 0.549\n",
            "141 0.553\n",
            "142 0.557\n",
            "143 0.561\n",
            "144 0.565\n",
            "145 0.569\n",
            "146 0.573\n",
            "147 0.576\n",
            "148 0.580\n",
            "149 0.584\n",
            "150 0.588\n",
            "151 0.592\n",
            "152 0.596\n",
            "153 0.600\n",
            "154 0.604\n",
            "155 0.608\n",
            "156 0.612\n",
            "157 0.616\n",
            "158 0.620\n",
            "159 0.624\n",
            "160 0.627\n",
            "161 0.631\n",
            "162 0.635\n",
            "163 0.639\n",
            "164 0.643\n",
            "165 0.647\n",
            "166 0.651\n",
            "167 0.655\n",
            "168 0.659\n",
            "169 0.663\n",
            "170 0.667\n",
            "171 0.671\n",
            "172 0.675\n",
            "173 0.678\n",
            "174 0.682\n",
            "175 0.686\n",
            "176 0.690\n",
            "177 0.694\n",
            "178 0.698\n",
            "179 0.702\n",
            "180 0.706\n",
            "181 0.710\n",
            "182 0.714\n",
            "183 0.718\n",
            "184 0.722\n",
            "185 0.725\n",
            "186 0.729\n",
            "187 0.733\n",
            "188 0.737\n",
            "189 0.741\n",
            "190 0.745\n",
            "191 0.749\n",
            "192 0.753\n",
            "193 0.757\n",
            "194 0.761\n",
            "195 0.765\n",
            "196 0.769\n",
            "197 0.773\n",
            "198 0.776\n",
            "199 0.780\n",
            "200 0.784\n",
            "201 0.788\n",
            "202 0.792\n",
            "203 0.796\n",
            "204 0.800\n",
            "205 0.804\n",
            "206 0.808\n",
            "207 0.812\n",
            "208 0.816\n",
            "209 0.820\n",
            "210 0.824\n",
            "211 0.827\n",
            "212 0.831\n",
            "213 0.835\n",
            "214 0.839\n",
            "215 0.843\n",
            "216 0.847\n",
            "217 0.851\n",
            "218 0.855\n",
            "219 0.859\n",
            "220 0.863\n",
            "221 0.867\n",
            "222 0.871\n",
            "223 0.875\n",
            "224 0.878\n",
            "225 0.882\n",
            "226 0.886\n",
            "227 0.890\n",
            "228 0.894\n",
            "229 0.898\n",
            "230 0.902\n",
            "231 0.906\n",
            "232 0.910\n",
            "233 0.914\n",
            "234 0.918\n",
            "235 0.922\n",
            "236 0.925\n",
            "237 0.929\n",
            "238 0.933\n",
            "239 0.937\n",
            "240 0.941\n",
            "241 0.945\n",
            "242 0.949\n",
            "243 0.953\n",
            "244 0.957\n",
            "245 0.961\n",
            "246 0.965\n",
            "247 0.969\n",
            "248 0.973\n",
            "249 0.976\n",
            "250 0.980\n",
            "251 0.984\n",
            "252 0.988\n",
            "253 0.992\n",
            "254 0.996\n",
            "255 1.000\n"
          ]
        }
      ]
    },
    {
      "cell_type": "markdown",
      "metadata": {
        "id": "oQASyBNjwdwI"
      },
      "source": [
        "Формула:\n",
        "\n",
        "\n",
        "<напишите тут формулу>"
      ]
    },
    {
      "cell_type": "code",
      "metadata": {
        "id": "xgXG1qFuwdwI"
      },
      "source": [
        "def get_float_color(color): # реализуйте тут функцию\n",
        "    assert len(color) == 3, \"Цвет должен быть массивом длины 3\"\n",
        "    assert 0 <= color[0] <= 255 and 0 <= color[1] <= 255 and 0 <= color[2] <= 255, \"Все цвета должны быть числами от 0 до 255\"\n",
        "    # ваш код\n",
        "    color_zero_one = 1\n",
        "    return color_zero_one\n",
        "    "
      ],
      "execution_count": 13,
      "outputs": []
    },
    {
      "cell_type": "code",
      "metadata": {
        "id": "dFdj_qt2wdwK"
      },
      "source": [
        "def draw_circle(color): # функция, которая рисует кружок, её изменять не надо\n",
        "    plt.figure(figsize=(2, 2))\n",
        "    plt.axis('off')\n",
        "    plt.scatter([0], [0], s=10000, color=color)\n",
        "    plt.show()"
      ],
      "execution_count": 14,
      "outputs": []
    },
    {
      "cell_type": "code",
      "metadata": {
        "id": "HFZU5dK4wdwL",
        "outputId": "0eb1094e-0bb0-41e7-b1f2-d2c4a00df1a1",
        "colab": {
          "base_uri": "https://localhost:8080/",
          "height": 140
        }
      },
      "source": [
        "draw_circle((1.000, 0.973, 0.863))"
      ],
      "execution_count": 18,
      "outputs": [
        {
          "output_type": "display_data",
          "data": {
            "text/plain": [
              "<Figure size 144x144 with 1 Axes>"
            ],
            "image/png": "[encoded data removed]"
          },
          "metadata": {
            "needs_background": "light"
          }
        }
      ]
    },
    {
      "cell_type": "code",
      "metadata": {
        "id": "gA0OpNSbwdwN",
        "outputId": "0f2e4ba2-74e5-4fa1-ac30-2c314afecdcc",
        "colab": {
          "base_uri": "https://localhost:8080/",
          "height": 140
        }
      },
      "source": [
        "draw_circle((1.000, 1.000, 1.000))"
      ],
      "execution_count": 17,
      "outputs": [
        {
          "output_type": "display_data",
          "data": {
            "text/plain": [
              "<Figure size 144x144 with 1 Axes>"
            ],
            "image/png": "[encoded data removed]"
          },
          "metadata": {
            "needs_background": "light"
          }
        }
      ]
    },
    {
      "cell_type": "markdown",
      "metadata": {
        "id": "Qje-oV3FwdwO"
      },
      "source": [
        "*Задание:* Нарисуйте кружки следующих цветов:\n",
        "\n",
        "- серо-буро-малиновый\n",
        "- индиго\n",
        "- персиковый\n",
        "- фуксия\n",
        "- кирпичный\n",
        "\n",
        "(просто подберите числа для функции draw_circle, чтобы получился примерно такой цвет)."
      ]
    },
    {
      "cell_type": "code",
      "metadata": {
        "id": "rUAIkuAlwdwP"
      },
      "source": [
        "# ваш код\n"
      ],
      "execution_count": null,
      "outputs": []
    },
    {
      "cell_type": "markdown",
      "metadata": {
        "id": "Vq-Qav1JwdwQ"
      },
      "source": [
        "## Задача 2. Какого цвета картинка?\n",
        "\n",
        "Картинки часто бывают довольно разноцветные. Но что мы будем видеть, если отойдём от неё на большое расстояние? Логично предположить, что близкие пиксели для глаза будут сливаться в точку одного цвета. Наверное, цвет такой общей точки будет примерно средним арифметическим от цвета входящих в неё точек. Мы может посчитать такое среднее арифметическое отдельно по каждой компоненте цвета. Например, для цветов (0, 0, 1), (1, 1, 0) средним будет (0.5, 0.5, 0.5).\n",
        "\n",
        "Напишите функцию, которая принимает на вход картинку и возвращает средний цвет всех пикселей этой картинки. Запустите эту функцию от картинки выше (\"Sacred Allegory\" Джованни Беллини).\n"
      ]
    },
    {
      "cell_type": "code",
      "metadata": {
        "id": "8nE6pJzswdwR"
      },
      "source": [
        "def mean_color(picture):\n",
        "    # ваш код"
      ],
      "execution_count": null,
      "outputs": []
    },
    {
      "cell_type": "markdown",
      "metadata": {
        "id": "I008y7sowdwS"
      },
      "source": [
        "## Задача 3. Расстояние между цветами\n",
        "Для следующей задачи нам потребуется находить цвета, которые \"близки\" друг к другу. Например, розовый ближе к красному, чем к зелёному.\n",
        "\n",
        "Давайте считать, что каждый цвет -- это точка в трёхмерном пространстве. Давайте считать расстояние между цветами просто обычным (евклидовым) расстоянием между двумя точками, которое задаётся формулой (эта формула следует из теоремы Пифагора):\n",
        "\n",
        "$$d(c_1, c_2) = \\sqrt{(r_1 - r_2)^2 + (g_1 - g_2)^2 + (b_1 - b_2)^2},$$\n",
        "\n",
        "где $c_1 = (r_1, g_1, b_1), c_2 = (r_2, g_2, b_2)$.\n",
        "\n",
        "Реализуйте вычисление расстояния между двумя заданными цветами."
      ]
    },
    {
      "cell_type": "code",
      "metadata": {
        "id": "QPx7wdi_wdwT"
      },
      "source": [
        "def dist(color1, color2):\n",
        "    # ваш код\n",
        "    return d"
      ],
      "execution_count": null,
      "outputs": []
    },
    {
      "cell_type": "markdown",
      "metadata": {
        "id": "Z5cKu8O_wdwU"
      },
      "source": [
        "# 4. Картинки из картинок\n",
        "\n",
        "## Задача 4\n",
        "\n",
        "От вас требуется реализовать класс, который обладает следующим функционалом:\n",
        "\n",
        "1. Собирает все картинки, лежащие в папке с ноутбуком и названные 1.jpg, 2.jpg, 3.jpg и т.д. Умеет показывать картинку по её номеру (прямо в ноутбуке)\n",
        "2. Имеет метод get_cropped(i, size), который возвращает картинку с номером i, обрезанную (как угодно) до размера size (размер -- это массив из двух элементов).\n",
        "2. (*) Имеет метод get_resized(i, size), который возвращает картинку с номером i, уменьшенную до размера size, при этом цвет каждого пикселя -- среднее арифметическое цветов нескольких пикселей вокруг.\n",
        "3. (**) Имеет метод get_pixelart(pic), который принимает на вход другую картинку и проделывает следующее:\n",
        "    - из всех имеющихся у нас картинок находит самую близкую по цвету к каждому пикселю картинки pic\n",
        "    - отрисовывает картинку pic, заменив каждый пиксель самой подходящей картинкой.\n",
        "Найдите в Интернете картинки с выраженным цветом, и попробуйте с помощью этих картинок нарисовать картинку той же тематики. Например, портрет из портретов или картину Ван Гога из картин Ван Гога. \n",
        "4. Код должен проходить онлайн-проверку стиля PEP-8.\n",
        "\n",
        "Обратите внимание! Код этой задачи нужно сохранить в отдельном файле .py. По этой задаче будет code-review, то есть помимо правильности работы программы будет проверено то, что соблюдён стиль кода. Если ваш код генерирует больше 2 предупреждений в <a href=\"http://pep8online.com/\">PEP-8</a>, он оценивается в 0 баллов."
      ]
    }
  ]
}