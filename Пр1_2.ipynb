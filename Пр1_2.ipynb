{
  "nbformat": 4,
  "nbformat_minor": 0,
  "metadata": {
    "colab": {
      "provenance": [],
      "include_colab_link": true
    },
    "kernelspec": {
      "name": "python3",
      "display_name": "Python 3"
    },
    "language_info": {
      "name": "python"
    }
  },
  "cells": [
    {
      "cell_type": "markdown",
      "metadata": {
        "id": "view-in-github",
        "colab_type": "text"
      },
      "source": [
        "<a href=\"https://colab.research.google.com/github/AlinaSabitova/Lab1-task-1.2.1/blob/main/%D0%9F%D1%801_2.ipynb\" target=\"_parent\"><img src=\"https://colab.research.google.com/assets/colab-badge.svg\" alt=\"Open In Colab\"/></a>"
      ]
    },
    {
      "cell_type": "code",
      "execution_count": 1,
      "metadata": {
        "colab": {
          "base_uri": "https://localhost:8080/"
        },
        "id": "ltrTeLyFUh8q",
        "outputId": "011be8b6-11ac-45d7-8955-a6ceea78f031"
      },
      "outputs": [
        {
          "output_type": "stream",
          "name": "stdout",
          "text": [
            "Johanna has 2 apples and Martin has 1 apples\n",
            "Johanna has 2 ideas and Martin has 2 ideas\n"
          ]
        }
      ],
      "source": [
        "# 1.2.1\n",
        "\n",
        "# “Если у тебя есть яблоко, а у меня есть яблоко, и мы\n",
        "# обменяемся этими яблоками, тогда\n",
        "# у нас с тобой по-прежнему будет по одному яблоку. Но если у\n",
        "# вас есть идея, а у меня есть\n",
        "# идея, и мы обмениваемся этими идеями, тогда у каждого из нас\n",
        "# будет по две идеи”.\n",
        "# Джордж Бернард Шоу \n",
        "class Person:\n",
        " apples = 0\n",
        " ideas = 0\n",
        "johanna = Person()\n",
        "johanna.apples = 1\n",
        "johanna.ideas = 1\n",
        "martin = Person()\n",
        "martin.apples = 2\n",
        "martin.ideas = 1\n",
        "def exchange_apples(you, me):\n",
        "# Здесь, несмотря на цитату Дж.Б. Шоу, наши персонажи начали с разного количества яблок, чтобы лучше понять результат.\n",
        "# Мы собираемся попросить Мартина и Джоанну обменяться ВСЕМИ своими яблоками друг с другом.  \n",
        "  exchanged = you.apples\n",
        "  you.apples = me.apples\n",
        "  me.apples = exchanged\n",
        "  return you.apples, me.apples\n",
        "def exchange_ideas(you, me):\n",
        "# \"ты\" и \"я\" обменяемся своими идеями друг с другом.\n",
        "# Какие операции необходимо выполнить, чтобы каждый объект получал общее количество идей?\n",
        "# Подсказка: как бы вы распределили общее количество идей по атрибут каждой идеи? \n",
        "# Вам нужна временная переменная для хранения суммы идей, или вы можете найти другой способ?\n",
        "# Используйте здесь столько строк кода, сколько вам нужно. \n",
        "  exchanged = you.ideas\n",
        "  you.ideas += me.ideas\n",
        "  me.ideas += exchanged\n",
        "  return you.ideas, me.ideas\n",
        "exchange_apples(johanna, martin)\n",
        "print(\"Johanna has {} apples and Martin has {} apples\".format(johanna.apples, martin.apples))\n",
        "exchange_ideas(johanna, martin)\n",
        "print(\"Johanna has {} ideas and Martin has {} ideas\".format(johanna.ideas, martin.ideas))   "
      ]
    },
    {
      "cell_type": "code",
      "source": [
        "# 1.2.2\n",
        "\n",
        "# определите базовый класс города \n",
        "\n",
        "class City:\n",
        " name = \"\"\n",
        " country = \"\"\n",
        " elevation = 0\n",
        " population = 0 \n",
        "# создайте новый экземпляр класса City и определите каждый атрибут \n",
        "city1 = City()\n",
        "city1.name = \"Cusco\"\n",
        "city1.country = \"Peru\"\n",
        "city1.elevation = 3399\n",
        "city1.population = 358052 \n",
        "# создайте новый экземпляр класса City и определите каждый атрибут\n",
        "city2 = City()\n",
        "city2.name = \"Sofia\"\n",
        "city2.country = \"Bulgaria\"\n",
        "city2.elevation = 2290\n",
        "city2.population = 1241675 \n",
        "# создайте новый экземпляр класса City и определите каждый атрибут \n",
        "city3 = City()\n",
        "city3.name = \"Seoul\"\n",
        "city3.country = \"South Korea\"\n",
        "city3.elevation = 38\n",
        "city3.population = 9733509\n",
        "def max_elevation_city(min_population): \n",
        "# Инициализируйте переменную, которая будет содержать информация о городе с самой высокой возвышенностью \n",
        "  return_city = City() \n",
        "  return_city.population = min_population\n",
        "# Оцените 1-й экземпляр на соответствие требованиям:\n",
        "# есть ли в городе #1 хотя бы минимальное население и\n",
        "# является ли его возвышенность самой высокой из оцененных на данный момент? \n",
        "  if (city1.population >= min_population) and (city1.elevation > return_city.elevation):\n",
        "    return_city = city1 \n",
        "# Оцените 2-й экземпляр на соответствие требованиям:\n",
        "# есть ли в городе #2 хотя бы минимальное население и\n",
        "# является ли его возвышенность самой высокой из оцененных на данный момент? \n",
        "  if (city2.population >= min_population) and (city2.elevation > return_city.elevation):\n",
        "    return_city = city2 \n",
        "# Оцените 3-й экземпляр на соответствие требованиям:\n",
        "# есть ли в городе #3 хотя бы минимальное население и\n",
        "# является ли его возвышенность самой высокой из оцененных на данный момент? \n",
        "  if (city3.population >= min_population) and (city3.elevation > return_city.elevation):\n",
        "    return_city = city3\n",
        "# Форматирование возвращаемой строки \n",
        "  if return_city.name:\n",
        "    return f'{return_city.name}, {return_city.country}'\n",
        "  else:\n",
        "    return \"\"\n",
        "print(max_elevation_city(100000))\n",
        "# Вывод на экран \"Cusco, Peru\"\n",
        "print(max_elevation_city(1000000))\n",
        "# Вывод на экран \"Sofia, Bulgaria\"\n",
        "print(max_elevation_city(10000000))\n",
        "# Вывод на экран \"\" "
      ],
      "metadata": {
        "id": "SgyfjFbSeSOv",
        "outputId": "b6d8eeca-8420-4bf0-b423-7c094befc217",
        "colab": {
          "base_uri": "https://localhost:8080/"
        }
      },
      "execution_count": 2,
      "outputs": [
        {
          "output_type": "stream",
          "name": "stdout",
          "text": [
            "Cusco, Peru\n",
            "Sofia, Bulgaria\n",
            "\n"
          ]
        }
      ]
    },
    {
      "cell_type": "code",
      "source": [
        "# 1.2.3\n"
      ],
      "metadata": {
        "id": "H5SPOv11jyQ8"
      },
      "execution_count": null,
      "outputs": []
    }
  ]
}