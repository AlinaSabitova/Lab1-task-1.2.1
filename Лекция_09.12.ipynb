{
  "nbformat": 4,
  "nbformat_minor": 0,
  "metadata": {
    "colab": {
      "provenance": [],
      "authorship_tag": "ABX9TyOsQ1SpX8qqJDdlWLX30xYg",
      "include_colab_link": true
    },
    "kernelspec": {
      "name": "python3",
      "display_name": "Python 3"
    },
    "language_info": {
      "name": "python"
    }
  },
  "cells": [
    {
      "cell_type": "markdown",
      "metadata": {
        "id": "view-in-github",
        "colab_type": "text"
      },
      "source": [
        "<a href=\"https://colab.research.google.com/github/AlinaSabitova/Lab1-task-1.2.1/blob/main/%D0%9B%D0%B5%D0%BA%D1%86%D0%B8%D1%8F_09.12.ipynb\" target=\"_parent\"><img src=\"https://colab.research.google.com/assets/colab-badge.svg\" alt=\"Open In Colab\"/></a>"
      ]
    },
    {
      "cell_type": "code",
      "execution_count": 2,
      "metadata": {
        "colab": {
          "base_uri": "https://localhost:8080/"
        },
        "id": "1vAatBGLevd1",
        "outputId": "0271f40d-6439-4e4d-aef7-81e09dde4d46"
      },
      "outputs": [
        {
          "output_type": "execute_result",
          "data": {
            "text/plain": [
              "['BitGenerator',\n",
              " 'Generator',\n",
              " 'MT19937',\n",
              " 'PCG64',\n",
              " 'PCG64DXSM',\n",
              " 'Philox',\n",
              " 'RandomState',\n",
              " 'SFC64',\n",
              " 'SeedSequence',\n",
              " '__RandomState_ctor',\n",
              " '__all__',\n",
              " '__builtins__',\n",
              " '__cached__',\n",
              " '__doc__',\n",
              " '__file__',\n",
              " '__loader__',\n",
              " '__name__',\n",
              " '__package__',\n",
              " '__path__',\n",
              " '__spec__',\n",
              " '_bounded_integers',\n",
              " '_common',\n",
              " '_generator',\n",
              " '_mt19937',\n",
              " '_pcg64',\n",
              " '_philox',\n",
              " '_pickle',\n",
              " '_sfc64',\n",
              " 'beta',\n",
              " 'binomial',\n",
              " 'bit_generator',\n",
              " 'bytes',\n",
              " 'chisquare',\n",
              " 'choice',\n",
              " 'default_rng',\n",
              " 'dirichlet',\n",
              " 'exponential',\n",
              " 'f',\n",
              " 'gamma',\n",
              " 'geometric',\n",
              " 'get_state',\n",
              " 'gumbel',\n",
              " 'hypergeometric',\n",
              " 'laplace',\n",
              " 'logistic',\n",
              " 'lognormal',\n",
              " 'logseries',\n",
              " 'mtrand',\n",
              " 'multinomial',\n",
              " 'multivariate_normal',\n",
              " 'negative_binomial',\n",
              " 'noncentral_chisquare',\n",
              " 'noncentral_f',\n",
              " 'normal',\n",
              " 'pareto',\n",
              " 'permutation',\n",
              " 'poisson',\n",
              " 'power',\n",
              " 'rand',\n",
              " 'randint',\n",
              " 'randn',\n",
              " 'random',\n",
              " 'random_integers',\n",
              " 'random_sample',\n",
              " 'ranf',\n",
              " 'rayleigh',\n",
              " 'sample',\n",
              " 'seed',\n",
              " 'set_state',\n",
              " 'shuffle',\n",
              " 'standard_cauchy',\n",
              " 'standard_exponential',\n",
              " 'standard_gamma',\n",
              " 'standard_normal',\n",
              " 'standard_t',\n",
              " 'test',\n",
              " 'triangular',\n",
              " 'uniform',\n",
              " 'vonmises',\n",
              " 'wald',\n",
              " 'weibull',\n",
              " 'zipf']"
            ]
          },
          "metadata": {},
          "execution_count": 2
        }
      ],
      "source": [
        "import numpy as np\n",
        "dir(np.random)"
      ]
    },
    {
      "cell_type": "code",
      "source": [
        "help(np.random.randint)"
      ],
      "metadata": {
        "colab": {
          "base_uri": "https://localhost:8080/"
        },
        "id": "ebsElrDtgMQc",
        "outputId": "788dbfde-7623-47fd-85b9-30e15d13db01"
      },
      "execution_count": 4,
      "outputs": [
        {
          "output_type": "stream",
          "name": "stdout",
          "text": [
            "Help on built-in function randint:\n",
            "\n",
            "randint(...) method of numpy.random.mtrand.RandomState instance\n",
            "    randint(low, high=None, size=None, dtype=int)\n",
            "    \n",
            "    Return random integers from `low` (inclusive) to `high` (exclusive).\n",
            "    \n",
            "    Return random integers from the \"discrete uniform\" distribution of\n",
            "    the specified dtype in the \"half-open\" interval [`low`, `high`). If\n",
            "    `high` is None (the default), then results are from [0, `low`).\n",
            "    \n",
            "    .. note::\n",
            "        New code should use the ``integers`` method of a ``default_rng()``\n",
            "        instance instead; please see the :ref:`random-quick-start`.\n",
            "    \n",
            "    Parameters\n",
            "    ----------\n",
            "    low : int or array-like of ints\n",
            "        Lowest (signed) integers to be drawn from the distribution (unless\n",
            "        ``high=None``, in which case this parameter is one above the\n",
            "        *highest* such integer).\n",
            "    high : int or array-like of ints, optional\n",
            "        If provided, one above the largest (signed) integer to be drawn\n",
            "        from the distribution (see above for behavior if ``high=None``).\n",
            "        If array-like, must contain integer values\n",
            "    size : int or tuple of ints, optional\n",
            "        Output shape.  If the given shape is, e.g., ``(m, n, k)``, then\n",
            "        ``m * n * k`` samples are drawn.  Default is None, in which case a\n",
            "        single value is returned.\n",
            "    dtype : dtype, optional\n",
            "        Desired dtype of the result. Byteorder must be native.\n",
            "        The default value is int.\n",
            "    \n",
            "        .. versionadded:: 1.11.0\n",
            "    \n",
            "    Returns\n",
            "    -------\n",
            "    out : int or ndarray of ints\n",
            "        `size`-shaped array of random integers from the appropriate\n",
            "        distribution, or a single such random int if `size` not provided.\n",
            "    \n",
            "    See Also\n",
            "    --------\n",
            "    random_integers : similar to `randint`, only for the closed\n",
            "        interval [`low`, `high`], and 1 is the lowest value if `high` is\n",
            "        omitted.\n",
            "    Generator.integers: which should be used for new code.\n",
            "    \n",
            "    Examples\n",
            "    --------\n",
            "    >>> np.random.randint(2, size=10)\n",
            "    array([1, 0, 0, 0, 1, 1, 0, 0, 1, 0]) # random\n",
            "    >>> np.random.randint(1, size=10)\n",
            "    array([0, 0, 0, 0, 0, 0, 0, 0, 0, 0])\n",
            "    \n",
            "    Generate a 2 x 4 array of ints between 0 and 4, inclusive:\n",
            "    \n",
            "    >>> np.random.randint(5, size=(2, 4))\n",
            "    array([[4, 0, 2, 1], # random\n",
            "           [3, 2, 2, 0]])\n",
            "    \n",
            "    Generate a 1 x 3 array with 3 different upper bounds\n",
            "    \n",
            "    >>> np.random.randint(1, [3, 5, 10])\n",
            "    array([2, 2, 9]) # random\n",
            "    \n",
            "    Generate a 1 by 3 array with 3 different lower bounds\n",
            "    \n",
            "    >>> np.random.randint([1, 5, 7], 10)\n",
            "    array([9, 8, 7]) # random\n",
            "    \n",
            "    Generate a 2 by 4 array using broadcasting with dtype of uint8\n",
            "    \n",
            "    >>> np.random.randint([1, 3, 5, 7], [[10], [20]], dtype=np.uint8)\n",
            "    array([[ 8,  6,  9,  7], # random\n",
            "           [ 1, 16,  9, 12]], dtype=uint8)\n",
            "\n"
          ]
        }
      ]
    },
    {
      "cell_type": "code",
      "source": [
        "def kos_root():\n",
        "  \"\"\"Return the puthnare of the KOS root directory\"\"\"\n",
        "  global _kos_root\n",
        "  if _kos_root: return _kos_root\n",
        "\n",
        "def function(a, b):\n",
        "  \"\"\"function(a, b) -> list\"\"\"\n",
        "\n",
        "def compl(real=0.0,imag=0.0):\n",
        "  \"\"\"Form a complex number.\n",
        "\n",
        "  Keyword arguments:\n",
        "  real -- the real part (default 0.0)\n",
        "  imag -- the imaginary part (default 0.0)\n",
        "\n",
        "  \"\"\"\n",
        "  \n",
        "  if imag ==0.0 and real == 0.0: return complex_zero\n",
        "  ..."
      ],
      "metadata": {
        "id": "QuxKQ4fSgp0H"
      },
      "execution_count": 8,
      "outputs": []
    },
    {
      "cell_type": "code",
      "source": [
        "print(compl.__doc__)"
      ],
      "metadata": {
        "colab": {
          "base_uri": "https://localhost:8080/"
        },
        "id": "1EXXWB0Eh6jD",
        "outputId": "a5dd1c4b-e955-445a-cb09-016502ca939e"
      },
      "execution_count": 6,
      "outputs": [
        {
          "output_type": "stream",
          "name": "stdout",
          "text": [
            "Form a complex number.\n",
            "\n",
            "  Keyword arguments:\n",
            "  real -- the real part (default 0.0)\n",
            "  imag -- the imaginary part (default 0.0)\n",
            "\n",
            "  \n"
          ]
        }
      ]
    },
    {
      "cell_type": "code",
      "source": [
        "help(compl)"
      ],
      "metadata": {
        "colab": {
          "base_uri": "https://localhost:8080/"
        },
        "id": "OP1qTB-giGRs",
        "outputId": "ffd8e3c8-dd03-4817-ba2e-f3cfc84bc572"
      },
      "execution_count": 7,
      "outputs": [
        {
          "output_type": "stream",
          "name": "stdout",
          "text": [
            "Help on function compl in module __main__:\n",
            "\n",
            "compl(real=0.0, imag=0.0)\n",
            "    Form a complex number.\n",
            "    \n",
            "    Keyword arguments:\n",
            "    real -- the real part (default 0.0)\n",
            "    imag -- the imaginary part (default 0.0)\n",
            "\n"
          ]
        }
      ]
    },
    {
      "cell_type": "code",
      "source": [
        "class AClass:\n",
        "  c = \"class attribute\"\n",
        "  \"\"\"This is AClass.c's docstring.\"\"\"\n",
        "\n",
        "  def __init__(self):\n",
        "    \"\"\"Method __init__'s docstring\"\"\"\n",
        "\n",
        "    self.i = \"instance attribute\"\n",
        "    \"\"\"This is self.i's docstring.\"\"\"\n",
        "\n",
        "  def f(x):\n",
        "    \"\"\"Function f's docstring.\"\"\"\n",
        "    return x**2\n",
        "\n",
        "  f.a = 1\n",
        "  \"\"\"Function attribute f.a's docstring.\"\"\""
      ],
      "metadata": {
        "id": "vwrEgqHZiLRz"
      },
      "execution_count": 9,
      "outputs": []
    },
    {
      "cell_type": "code",
      "source": [
        "help(AClass)"
      ],
      "metadata": {
        "colab": {
          "base_uri": "https://localhost:8080/"
        },
        "id": "OovITt1ZiJaU",
        "outputId": "8c21c915-5dcb-42f8-ae2d-9c55afa368cb"
      },
      "execution_count": 10,
      "outputs": [
        {
          "output_type": "stream",
          "name": "stdout",
          "text": [
            "Help on class AClass in module __main__:\n",
            "\n",
            "class AClass(builtins.object)\n",
            " |  Methods defined here:\n",
            " |  \n",
            " |  __init__(self)\n",
            " |      Method __init__\"s docstring\n",
            " |  \n",
            " |  f(x)\n",
            " |      Function f's docstring.\n",
            " |  \n",
            " |  ----------------------------------------------------------------------\n",
            " |  Data descriptors defined here:\n",
            " |  \n",
            " |  __dict__\n",
            " |      dictionary for instance variables (if defined)\n",
            " |  \n",
            " |  __weakref__\n",
            " |      list of weak references to the object (if defined)\n",
            " |  \n",
            " |  ----------------------------------------------------------------------\n",
            " |  Data and other attributes defined here:\n",
            " |  \n",
            " |  c = 'class attribute'\n",
            "\n"
          ]
        }
      ]
    },
    {
      "cell_type": "code",
      "source": [
        "import os"
      ],
      "metadata": {
        "id": "dQFC7MD4kYLw"
      },
      "execution_count": 11,
      "outputs": []
    },
    {
      "cell_type": "code",
      "source": [
        "path = os.path.join(\"first\", \"second\", \"1.txt\")\n",
        "print(path)\n",
        "\n",
        "if not os.path.exists(path):\n",
        "    os.makedirs(path)"
      ],
      "metadata": {
        "colab": {
          "base_uri": "https://localhost:8080/"
        },
        "id": "oRxBlfHBkah_",
        "outputId": "07fd6646-e8fc-45e7-e4c1-58c341231bdd"
      },
      "execution_count": 21,
      "outputs": [
        {
          "output_type": "stream",
          "name": "stdout",
          "text": [
            "first/second/1.txt\n"
          ]
        }
      ]
    },
    {
      "cell_type": "code",
      "source": [
        "file_path = os.path.join(path, \"1.txt\")"
      ],
      "metadata": {
        "id": "Fy_gAaQvk-vE"
      },
      "execution_count": 13,
      "outputs": []
    },
    {
      "cell_type": "code",
      "source": [
        "os.path.basename(file_path)"
      ],
      "metadata": {
        "colab": {
          "base_uri": "https://localhost:8080/",
          "height": 36
        },
        "id": "voIwuuxolPpJ",
        "outputId": "5c265b45-055a-4439-bae9-2904a5007d21"
      },
      "execution_count": 16,
      "outputs": [
        {
          "output_type": "execute_result",
          "data": {
            "text/plain": [
              "'1.txt'"
            ],
            "application/vnd.google.colaboratory.intrinsic+json": {
              "type": "string"
            }
          },
          "metadata": {},
          "execution_count": 16
        }
      ]
    },
    {
      "cell_type": "code",
      "source": [
        "os.path.dirname(file_path)"
      ],
      "metadata": {
        "colab": {
          "base_uri": "https://localhost:8080/",
          "height": 36
        },
        "id": "VGCa9Q-QlZ5s",
        "outputId": "3c2a0644-394a-445b-88b1-02d088978140"
      },
      "execution_count": 17,
      "outputs": [
        {
          "output_type": "execute_result",
          "data": {
            "text/plain": [
              "'first/second/1.txt'"
            ],
            "application/vnd.google.colaboratory.intrinsic+json": {
              "type": "string"
            }
          },
          "metadata": {},
          "execution_count": 17
        }
      ]
    },
    {
      "cell_type": "code",
      "source": [
        "dirname = \".\""
      ],
      "metadata": {
        "id": "fhOCNNBnljZo"
      },
      "execution_count": 18,
      "outputs": []
    },
    {
      "cell_type": "code",
      "source": [
        "[f for f in os.listdir(dirname) if os.path.isfile(os.path.join(dirname, f))]"
      ],
      "metadata": {
        "colab": {
          "base_uri": "https://localhost:8080/"
        },
        "id": "PxWPxIi5ltfC",
        "outputId": "1cb9eb7f-eebb-45bc-88e9-58d862fa9d04"
      },
      "execution_count": 19,
      "outputs": [
        {
          "output_type": "execute_result",
          "data": {
            "text/plain": [
              "[]"
            ]
          },
          "metadata": {},
          "execution_count": 19
        }
      ]
    },
    {
      "cell_type": "code",
      "source": [
        "help(os.path)"
      ],
      "metadata": {
        "colab": {
          "base_uri": "https://localhost:8080/"
        },
        "id": "2uXn700hmD0K",
        "outputId": "f3339798-6e3a-4966-9307-1c4ca9aa9da2"
      },
      "execution_count": 20,
      "outputs": [
        {
          "output_type": "stream",
          "name": "stdout",
          "text": [
            "Help on module posixpath:\n",
            "\n",
            "NAME\n",
            "    posixpath - Common operations on Posix pathnames.\n",
            "\n",
            "MODULE REFERENCE\n",
            "    https://docs.python.org/3.8/library/posixpath\n",
            "    \n",
            "    The following documentation is automatically generated from the Python\n",
            "    source files.  It may be incomplete, incorrect or include features that\n",
            "    are considered implementation detail and may vary between Python\n",
            "    implementations.  When in doubt, consult the module reference at the\n",
            "    location listed above.\n",
            "\n",
            "DESCRIPTION\n",
            "    Instead of importing this module directly, import os and refer to\n",
            "    this module as os.path.  The \"os.path\" name is an alias for this\n",
            "    module on Posix systems; on other systems (e.g. Windows),\n",
            "    os.path provides the same operations in a manner specific to that\n",
            "    platform, and is an alias to another module (e.g. ntpath).\n",
            "    \n",
            "    Some of this can actually be useful on non-Posix systems too, e.g.\n",
            "    for manipulation of the pathname component of URLs.\n",
            "\n",
            "FUNCTIONS\n",
            "    abspath(path)\n",
            "        Return an absolute path.\n",
            "    \n",
            "    basename(p)\n",
            "        Returns the final component of a pathname\n",
            "    \n",
            "    commonpath(paths)\n",
            "        Given a sequence of path names, returns the longest common sub-path.\n",
            "    \n",
            "    commonprefix(m)\n",
            "        Given a list of pathnames, returns the longest common leading component\n",
            "    \n",
            "    dirname(p)\n",
            "        Returns the directory component of a pathname\n",
            "    \n",
            "    exists(path)\n",
            "        Test whether a path exists.  Returns False for broken symbolic links\n",
            "    \n",
            "    expanduser(path)\n",
            "        Expand ~ and ~user constructions.  If user or $HOME is unknown,\n",
            "        do nothing.\n",
            "    \n",
            "    expandvars(path)\n",
            "        Expand shell variables of form $var and ${var}.  Unknown variables\n",
            "        are left unchanged.\n",
            "    \n",
            "    getatime(filename)\n",
            "        Return the last access time of a file, reported by os.stat().\n",
            "    \n",
            "    getctime(filename)\n",
            "        Return the metadata change time of a file, reported by os.stat().\n",
            "    \n",
            "    getmtime(filename)\n",
            "        Return the last modification time of a file, reported by os.stat().\n",
            "    \n",
            "    getsize(filename)\n",
            "        Return the size of a file, reported by os.stat().\n",
            "    \n",
            "    isabs(s)\n",
            "        Test whether a path is absolute\n",
            "    \n",
            "    isdir(s)\n",
            "        Return true if the pathname refers to an existing directory.\n",
            "    \n",
            "    isfile(path)\n",
            "        Test whether a path is a regular file\n",
            "    \n",
            "    islink(path)\n",
            "        Test whether a path is a symbolic link\n",
            "    \n",
            "    ismount(path)\n",
            "        Test whether a path is a mount point\n",
            "    \n",
            "    join(a, *p)\n",
            "        Join two or more pathname components, inserting '/' as needed.\n",
            "        If any component is an absolute path, all previous path components\n",
            "        will be discarded.  An empty last part will result in a path that\n",
            "        ends with a separator.\n",
            "    \n",
            "    lexists(path)\n",
            "        Test whether a path exists.  Returns True for broken symbolic links\n",
            "    \n",
            "    normcase(s)\n",
            "        Normalize case of pathname.  Has no effect under Posix\n",
            "    \n",
            "    normpath(path)\n",
            "        Normalize path, eliminating double slashes, etc.\n",
            "    \n",
            "    realpath(filename)\n",
            "        Return the canonical path of the specified filename, eliminating any\n",
            "        symbolic links encountered in the path.\n",
            "    \n",
            "    relpath(path, start=None)\n",
            "        Return a relative version of a path\n",
            "    \n",
            "    samefile(f1, f2)\n",
            "        Test whether two pathnames reference the same actual file or directory\n",
            "        \n",
            "        This is determined by the device number and i-node number and\n",
            "        raises an exception if an os.stat() call on either pathname fails.\n",
            "    \n",
            "    sameopenfile(fp1, fp2)\n",
            "        Test whether two open file objects reference the same file\n",
            "    \n",
            "    samestat(s1, s2)\n",
            "        Test whether two stat buffers reference the same file\n",
            "    \n",
            "    split(p)\n",
            "        Split a pathname.  Returns tuple \"(head, tail)\" where \"tail\" is\n",
            "        everything after the final slash.  Either part may be empty.\n",
            "    \n",
            "    splitdrive(p)\n",
            "        Split a pathname into drive and path. On Posix, drive is always\n",
            "        empty.\n",
            "    \n",
            "    splitext(p)\n",
            "        Split the extension from a pathname.\n",
            "        \n",
            "        Extension is everything from the last dot to the end, ignoring\n",
            "        leading dots.  Returns \"(root, ext)\"; ext may be empty.\n",
            "\n",
            "DATA\n",
            "    __all__ = ['normcase', 'isabs', 'join', 'splitdrive', 'split', 'splite...\n",
            "    altsep = None\n",
            "    curdir = '.'\n",
            "    defpath = '/bin:/usr/bin'\n",
            "    devnull = '/dev/null'\n",
            "    extsep = '.'\n",
            "    pardir = '..'\n",
            "    pathsep = ':'\n",
            "    sep = '/'\n",
            "    supports_unicode_filenames = False\n",
            "\n",
            "FILE\n",
            "    /usr/lib/python3.8/posixpath.py\n",
            "\n",
            "\n"
          ]
        }
      ]
    },
    {
      "cell_type": "code",
      "source": [
        "for var in range(5):\n",
        "    print(var)"
      ],
      "metadata": {
        "colab": {
          "base_uri": "https://localhost:8080/"
        },
        "id": "SEOKBY-dmfkw",
        "outputId": "453f2f21-7e94-4f99-89f4-c634876d01dd"
      },
      "execution_count": 23,
      "outputs": [
        {
          "output_type": "stream",
          "name": "stdout",
          "text": [
            "0\n",
            "1\n",
            "2\n",
            "3\n",
            "4\n"
          ]
        }
      ]
    },
    {
      "cell_type": "code",
      "source": [
        "for letter in 'Hello world':\n",
        "    print(letter)"
      ],
      "metadata": {
        "colab": {
          "base_uri": "https://localhost:8080/"
        },
        "id": "_KAW2H0ami9B",
        "outputId": "8d8a6547-2c3e-4485-913d-731688cff8ff"
      },
      "execution_count": 24,
      "outputs": [
        {
          "output_type": "stream",
          "name": "stdout",
          "text": [
            "H\n",
            "e\n",
            "l\n",
            "l\n",
            "o\n",
            " \n",
            "w\n",
            "o\n",
            "r\n",
            "l\n",
            "d\n"
          ]
        }
      ]
    },
    {
      "cell_type": "code",
      "source": [
        "for key in {'Name': 'John',\n",
        "            'Age': 15,\n",
        "            'Gender':'Male',\n",
        "           }:\n",
        "    print(key)"
      ],
      "metadata": {
        "colab": {
          "base_uri": "https://localhost:8080/"
        },
        "id": "kZpkou2-mzIj",
        "outputId": "2ed0fff1-9710-4398-9b73-a5a49f25587a"
      },
      "execution_count": 25,
      "outputs": [
        {
          "output_type": "stream",
          "name": "stdout",
          "text": [
            "Name\n",
            "Age\n",
            "Gender\n"
          ]
        }
      ]
    },
    {
      "cell_type": "code",
      "source": [
        "for element in [0,1,2,3,4,5]:\n",
        "    print(element)"
      ],
      "metadata": {
        "colab": {
          "base_uri": "https://localhost:8080/"
        },
        "id": "gdzg9SxXn1P0",
        "outputId": "c3e5878a-7ab9-43b5-fc51-b31206be74da"
      },
      "execution_count": 27,
      "outputs": [
        {
          "output_type": "stream",
          "name": "stdout",
          "text": [
            "0\n",
            "1\n",
            "2\n",
            "3\n",
            "4\n",
            "5\n"
          ]
        }
      ]
    },
    {
      "cell_type": "code",
      "source": [
        "my_list = [0,1,2,3,4,5,6,7,8,9]\n",
        "my_iter = iter(my_list)\n",
        "print(my_iter)"
      ],
      "metadata": {
        "colab": {
          "base_uri": "https://localhost:8080/"
        },
        "id": "hiDjJf5JogEz",
        "outputId": "5fd01eb6-8477-4d6c-e431-9cc81e7af45e"
      },
      "execution_count": 28,
      "outputs": [
        {
          "output_type": "stream",
          "name": "stdout",
          "text": [
            "<list_iterator object at 0x7f1bd468e910>\n"
          ]
        }
      ]
    },
    {
      "cell_type": "code",
      "source": [
        "print(my_iter.__next__())"
      ],
      "metadata": {
        "colab": {
          "base_uri": "https://localhost:8080/"
        },
        "id": "7TDM1I6xo1Aw",
        "outputId": "99712866-327e-47f5-9508-08290b4adec6"
      },
      "execution_count": 30,
      "outputs": [
        {
          "output_type": "stream",
          "name": "stdout",
          "text": [
            "1\n"
          ]
        }
      ]
    },
    {
      "cell_type": "code",
      "source": [
        "print(next(my_iter))"
      ],
      "metadata": {
        "colab": {
          "base_uri": "https://localhost:8080/"
        },
        "id": "iJrGTHudo_3u",
        "outputId": "e71eadf4-852b-4e66-ae3b-8b56484daf91"
      },
      "execution_count": 31,
      "outputs": [
        {
          "output_type": "stream",
          "name": "stdout",
          "text": [
            "2\n"
          ]
        }
      ]
    },
    {
      "cell_type": "code",
      "source": [
        "my_list = [0,1,2,3,4,5,6,7,8,9]\n",
        "my_iter = iter(my_list)\n",
        "print(next(my_iter))\n",
        "print(next(my_iter))"
      ],
      "metadata": {
        "colab": {
          "base_uri": "https://localhost:8080/"
        },
        "id": "NufkKJ6dpFH4",
        "outputId": "06865eab-76f1-4fba-a1b5-960885cca2a5"
      },
      "execution_count": 32,
      "outputs": [
        {
          "output_type": "stream",
          "name": "stdout",
          "text": [
            "0\n",
            "1\n"
          ]
        }
      ]
    },
    {
      "cell_type": "code",
      "source": [
        "my_list = [0,1,2,3,4,5]\n",
        "my_iter1 = iter(my_list)\n",
        "my_iter2 = iter(my_iter1)\n",
        "\n",
        "print(my_iter1)\n",
        "print(my_iter2)\n",
        "print(my_iter1 == my_iter2)"
      ],
      "metadata": {
        "colab": {
          "base_uri": "https://localhost:8080/"
        },
        "id": "86WmvvnNpZTj",
        "outputId": "b92dfc97-151b-4366-8414-87c54880d17b"
      },
      "execution_count": 33,
      "outputs": [
        {
          "output_type": "stream",
          "name": "stdout",
          "text": [
            "<list_iterator object at 0x7f1bd45ccee0>\n",
            "<list_iterator object at 0x7f1bd45ccee0>\n",
            "True\n"
          ]
        }
      ]
    },
    {
      "cell_type": "code",
      "source": [
        "next(my_iter2)"
      ],
      "metadata": {
        "colab": {
          "base_uri": "https://localhost:8080/"
        },
        "id": "Pr-H8KQFp5nR",
        "outputId": "16fd98a2-6d14-4cbc-d589-82bb710c6543"
      },
      "execution_count": 34,
      "outputs": [
        {
          "output_type": "execute_result",
          "data": {
            "text/plain": [
              "0"
            ]
          },
          "metadata": {},
          "execution_count": 34
        }
      ]
    },
    {
      "cell_type": "code",
      "source": [
        "next(my_iter1)"
      ],
      "metadata": {
        "colab": {
          "base_uri": "https://localhost:8080/"
        },
        "id": "ts2PUjscqBQ_",
        "outputId": "5cb4fefe-ee04-4fb6-ff74-aa080576e2eb"
      },
      "execution_count": 35,
      "outputs": [
        {
          "output_type": "execute_result",
          "data": {
            "text/plain": [
              "1"
            ]
          },
          "metadata": {},
          "execution_count": 35
        }
      ]
    },
    {
      "cell_type": "code",
      "source": [
        "my_object = [1,2,3]\n",
        "#my_object = 2\n",
        "#my object = 'hello'\n",
        "try:\n",
        "    iter(my_object)\n",
        "except TypeError:\n",
        "    print('not iterable')\n",
        "else:\n",
        "    print('iterable')"
      ],
      "metadata": {
        "colab": {
          "base_uri": "https://localhost:8080/"
        },
        "id": "JFwU-iBHqE09",
        "outputId": "acbc27b8-6933-4f74-e68e-0695a83736c5"
      },
      "execution_count": 39,
      "outputs": [
        {
          "output_type": "stream",
          "name": "stdout",
          "text": [
            "not iterable\n"
          ]
        }
      ]
    },
    {
      "cell_type": "code",
      "source": [
        "a = [12,13,14,15,16,17]\n",
        "b = a.__getitem__(3)\n",
        "print(b)"
      ],
      "metadata": {
        "colab": {
          "base_uri": "https://localhost:8080/"
        },
        "id": "VvdPOVrCqzhR",
        "outputId": "7a7893f0-25f5-4438-da87-769bcd3634f2"
      },
      "execution_count": 40,
      "outputs": [
        {
          "output_type": "stream",
          "name": "stdout",
          "text": [
            "15\n"
          ]
        }
      ]
    },
    {
      "cell_type": "code",
      "source": [
        "print(range(5))\n",
        "print(type(range(5)))"
      ],
      "metadata": {
        "colab": {
          "base_uri": "https://localhost:8080/"
        },
        "id": "AzbzGYqFrqhX",
        "outputId": "a1e0d721-e132-4608-d5f1-6b650abe2eb6"
      },
      "execution_count": 41,
      "outputs": [
        {
          "output_type": "stream",
          "name": "stdout",
          "text": [
            "range(0, 5)\n",
            "<class 'range'>\n"
          ]
        }
      ]
    },
    {
      "cell_type": "code",
      "source": [
        "a = range(5)\n",
        "next(a)"
      ],
      "metadata": {
        "id": "7pGqyvLwrzZl"
      },
      "execution_count": null,
      "outputs": []
    },
    {
      "cell_type": "code",
      "source": [
        "my_iter = iter(range(5))"
      ],
      "metadata": {
        "id": "8Pf2PX4VsBrg"
      },
      "execution_count": 42,
      "outputs": []
    },
    {
      "cell_type": "code",
      "source": [
        "next(my_iter)"
      ],
      "metadata": {
        "colab": {
          "base_uri": "https://localhost:8080/"
        },
        "id": "ylFpBWvnsJNR",
        "outputId": "80e42431-cfd8-41b9-e801-2d085572458b"
      },
      "execution_count": 43,
      "outputs": [
        {
          "output_type": "execute_result",
          "data": {
            "text/plain": [
              "0"
            ]
          },
          "metadata": {},
          "execution_count": 43
        }
      ]
    },
    {
      "cell_type": "code",
      "source": [
        "class NaiveRange():\n",
        "  def __init__(self, start, end):\n",
        "    self.end = end\n",
        "    self.ind = start\n",
        "\n",
        "  def __iter__(self):\n",
        "    return self\n",
        "\n",
        "  def __next__(self):\n",
        "    if self.ind >= self.end:\n",
        "      raise StopIteration\n",
        "    self.ind += 1\n",
        "    return(self.ind - 1)"
      ],
      "metadata": {
        "id": "KqJ7Z5qlsRwE"
      },
      "execution_count": 44,
      "outputs": []
    },
    {
      "cell_type": "code",
      "source": [
        "class BaseIter(object):\n",
        "  def __init__(self, start, end):\n",
        "    self.end = end\n",
        "    self.ind = start\n",
        "\n",
        "  def __next__(self):\n",
        "    if self.ind >= self.end:\n",
        "      raise StopIteration\n",
        "    self.ind += 1\n",
        "    return(self.ind - 1)\n",
        "\n",
        "\n",
        "class AdvancedRange(object):\n",
        "  def __init__(self, start, end):\n",
        "    self.end = end\n",
        "    self.start = start\n",
        "  def __iter__(self):\n",
        "    return BaseIter(self.start, self.end)"
      ],
      "metadata": {
        "id": "6cd63qZ5tNWa"
      },
      "execution_count": 46,
      "outputs": []
    },
    {
      "cell_type": "code",
      "source": [
        "my_range = AdvancedRange(3, 9)"
      ],
      "metadata": {
        "id": "VwJXkqHPt1mO"
      },
      "execution_count": 47,
      "outputs": []
    },
    {
      "cell_type": "code",
      "source": [
        "list(my_range)"
      ],
      "metadata": {
        "colab": {
          "base_uri": "https://localhost:8080/"
        },
        "id": "Wm6wtQt8uVNA",
        "outputId": "1b37a7ed-432b-4c2f-dd6f-62ee3131a7ee"
      },
      "execution_count": 48,
      "outputs": [
        {
          "output_type": "execute_result",
          "data": {
            "text/plain": [
              "[3, 4, 5, 6, 7, 8]"
            ]
          },
          "metadata": {},
          "execution_count": 48
        }
      ]
    }
  ]
}