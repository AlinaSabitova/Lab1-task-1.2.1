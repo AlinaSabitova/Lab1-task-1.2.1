{
  "nbformat": 4,
  "nbformat_minor": 0,
  "metadata": {
    "colab": {
      "provenance": [],
      "authorship_tag": "ABX9TyPkn6y97LOMrVmV0kOvnvpG",
      "include_colab_link": true
    },
    "kernelspec": {
      "name": "python3",
      "display_name": "Python 3"
    },
    "language_info": {
      "name": "python"
    }
  },
  "cells": [
    {
      "cell_type": "markdown",
      "metadata": {
        "id": "view-in-github",
        "colab_type": "text"
      },
      "source": [
        "<a href=\"https://colab.research.google.com/github/AlinaSabitova/Lab1-task-1.2.1/blob/main/Untitled0.ipynb\" target=\"_parent\"><img src=\"https://colab.research.google.com/assets/colab-badge.svg\" alt=\"Open In Colab\"/></a>"
      ]
    },
    {
      "cell_type": "code",
      "execution_count": null,
      "metadata": {
        "id": "dNumiHtS5-nq"
      },
      "outputs": [],
      "source": [
        "x[0] = 4\n",
        "x[1] = \"a\"\n",
        "x[2] = [1, 2, 3]\n",
        "\n"
      ]
    },
    {
      "cell_type": "code",
      "source": [
        "a  = [5, 3, 8]\n",
        "b = a * 2\n",
        "c = a + [42, 56]\n",
        "print (8 in a)"
      ],
      "metadata": {
        "colab": {
          "base_uri": "https://localhost:8080/"
        },
        "id": "1l6SsKnXAshS",
        "outputId": "58381d04-9fbd-43c4-9593-d2df793d819a"
      },
      "execution_count": 18,
      "outputs": [
        {
          "output_type": "stream",
          "name": "stdout",
          "text": [
            "True\n"
          ]
        }
      ]
    },
    {
      "cell_type": "code",
      "source": [
        "a = [7, 9, 6, 6, 9, 1, 5]\n",
        "\n",
        "print(a[3:6])\n",
        "print(a[1:2])\n",
        "print(a[1:6:2])\n",
        "print(a[:4])\n",
        "print(a[5:])\n",
        "print(a[:])"
      ],
      "metadata": {
        "colab": {
          "base_uri": "https://localhost:8080/"
        },
        "id": "555kHycz7IqY",
        "outputId": "4b227905-1e97-4472-f54e-5785f857fb26"
      },
      "execution_count": 53,
      "outputs": [
        {
          "output_type": "stream",
          "name": "stdout",
          "text": [
            "[6, 9, 1]\n",
            "[9]\n",
            "[9, 6, 1]\n",
            "[7, 9, 6, 6]\n",
            "[1, 5]\n",
            "[7, 9, 6, 6, 9, 1, 5]\n"
          ]
        }
      ]
    },
    {
      "cell_type": "code",
      "source": [
        "a[0:2] = [1, 12]\n",
        "a[0:2] = []\n",
        "a[1:1] = [\"asd\", \"qwrt\"]\n",
        "\n",
        "\n"
      ],
      "metadata": {
        "id": "T8xMaGQy8K4P"
      },
      "execution_count": 22,
      "outputs": []
    },
    {
      "cell_type": "code",
      "source": [
        "a[:0] = a\n",
        "a[:] = []\n",
        "b = a\n",
        "b = a[:]"
      ],
      "metadata": {
        "id": "vSIK7F5SCX-D"
      },
      "execution_count": 23,
      "outputs": []
    },
    {
      "cell_type": "code",
      "source": [
        "a = [1, 2, 3]\n",
        "len(a)"
      ],
      "metadata": {
        "colab": {
          "base_uri": "https://localhost:8080/"
        },
        "id": "xxxDQrH88-9_",
        "outputId": "a9e61287-4edd-4c51-eaee-4d7fcef92304"
      },
      "execution_count": 9,
      "outputs": [
        {
          "output_type": "execute_result",
          "data": {
            "text/plain": [
              "3"
            ]
          },
          "metadata": {},
          "execution_count": 9
        }
      ]
    },
    {
      "cell_type": "code",
      "source": [
        "a = [1, 2, 3]\n",
        "min(a)"
      ],
      "metadata": {
        "colab": {
          "base_uri": "https://localhost:8080/"
        },
        "id": "E7GF2OQZ_bFX",
        "outputId": "67ee35dc-0e5b-4561-ffc3-8ef5ce10bb2b"
      },
      "execution_count": 11,
      "outputs": [
        {
          "output_type": "execute_result",
          "data": {
            "text/plain": [
              "1"
            ]
          },
          "metadata": {},
          "execution_count": 11
        }
      ]
    },
    {
      "cell_type": "code",
      "source": [
        "a = [1, 2, 3]\n",
        "max(a)"
      ],
      "metadata": {
        "colab": {
          "base_uri": "https://localhost:8080/"
        },
        "id": "dCZNwYcT_ixl",
        "outputId": "970de030-b837-455d-a3d8-f0bbdc636246"
      },
      "execution_count": 12,
      "outputs": [
        {
          "output_type": "execute_result",
          "data": {
            "text/plain": [
              "3"
            ]
          },
          "metadata": {},
          "execution_count": 12
        }
      ]
    },
    {
      "cell_type": "code",
      "source": [
        "a = [1, 2, 3]\n",
        "del a[2]\n",
        "print(a)"
      ],
      "metadata": {
        "colab": {
          "base_uri": "https://localhost:8080/"
        },
        "id": "BJrxBPyc-xBg",
        "outputId": "78e5a1d0-6351-4c26-a60a-6e940701e499"
      },
      "execution_count": 45,
      "outputs": [
        {
          "output_type": "stream",
          "name": "stdout",
          "text": [
            "[1, 2]\n"
          ]
        }
      ]
    },
    {
      "cell_type": "code",
      "source": [
        "a = [1, 2, 3]\n",
        "\n",
        "for i in range(len(a)):\n",
        "    print(a[i])\n",
        "\n",
        "for item in a:\n",
        "    print(item)"
      ],
      "metadata": {
        "colab": {
          "base_uri": "https://localhost:8080/"
        },
        "id": "5IZrY30s-yXB",
        "outputId": "c5d3af14-c493-4127-e960-b28855197988"
      },
      "execution_count": 14,
      "outputs": [
        {
          "output_type": "stream",
          "name": "stdout",
          "text": [
            "1\n",
            "2\n",
            "3\n",
            "1\n",
            "2\n",
            "3\n"
          ]
        }
      ]
    },
    {
      "cell_type": "code",
      "source": [
        "a = [i*5 for i in 4, 13, 26, 2, 8]\n",
        "i = 20\n",
        "print(a)"
      ],
      "metadata": {
        "colab": {
          "base_uri": "https://localhost:8080/",
          "height": 130
        },
        "id": "neFwIDOAAB0m",
        "outputId": "180e000d-e162-46cd-ab97-bf4ac5d4151d"
      },
      "execution_count": 16,
      "outputs": [
        {
          "output_type": "error",
          "ename": "SyntaxError",
          "evalue": "ignored",
          "traceback": [
            "\u001b[0;36m  File \u001b[0;32m\"<ipython-input-16-d4e589655b9d>\"\u001b[0;36m, line \u001b[0;32m1\u001b[0m\n\u001b[0;31m    a = [i*5 for i in 4, 13, 26, 2, 8]\u001b[0m\n\u001b[0m                       ^\u001b[0m\n\u001b[0;31mSyntaxError\u001b[0m\u001b[0;31m:\u001b[0m invalid syntax\n"
          ]
        }
      ]
    },
    {
      "cell_type": "code",
      "source": [
        "from random import randint\n",
        "a = []\n",
        "for i in range(10):\n",
        "    a.append(randint(10, 99))\n",
        "  "
      ],
      "metadata": {
        "id": "vPkOlJS4A26D"
      },
      "execution_count": 26,
      "outputs": []
    },
    {
      "cell_type": "code",
      "source": [
        "def hello(n):\n",
        "  print(\"Hello, i am a function\")\n",
        "  print(n)\n",
        "def main():\n",
        "  print(\"Сейчас вызовем функцию\")\n",
        "hello(5)"
      ],
      "metadata": {
        "colab": {
          "base_uri": "https://localhost:8080/"
        },
        "id": "rowOsFvACr7G",
        "outputId": "030a3ce6-c154-42ba-c590-e2945e8a1763"
      },
      "execution_count": 36,
      "outputs": [
        {
          "output_type": "stream",
          "name": "stdout",
          "text": [
            "Hello, i am a function\n",
            "5\n"
          ]
        }
      ]
    },
    {
      "cell_type": "code",
      "source": [
        "def test():\n",
        "  print(\"Returing a value\")\n",
        "  return 667"
      ],
      "metadata": {
        "id": "A4GyVPzkFUnl"
      },
      "execution_count": 47,
      "outputs": []
    },
    {
      "cell_type": "code",
      "source": [
        "a = test()"
      ],
      "metadata": {
        "colab": {
          "base_uri": "https://localhost:8080/"
        },
        "id": "t-yRFLqOFq9-",
        "outputId": "c4c9c7b3-d263-4eb9-aee4-d59ddc9bf662"
      },
      "execution_count": 48,
      "outputs": [
        {
          "output_type": "stream",
          "name": "stdout",
          "text": [
            "Returing a value\n"
          ]
        }
      ]
    },
    {
      "cell_type": "code",
      "source": [
        "def multi_ret():\n",
        "  print(\"This curious function\")\n",
        "  print(\"returns three values\")\n",
        "  return 1, \"test\", [796, 69, 15]"
      ],
      "metadata": {
        "id": "nJ2_-PE0GAhB"
      },
      "execution_count": 49,
      "outputs": []
    },
    {
      "cell_type": "code",
      "source": [
        "a = test()"
      ],
      "metadata": {
        "colab": {
          "base_uri": "https://localhost:8080/"
        },
        "id": "7_d7j9RDGrLB",
        "outputId": "2800afa5-eede-4813-dcf5-a17f007d75b2"
      },
      "execution_count": 50,
      "outputs": [
        {
          "output_type": "stream",
          "name": "stdout",
          "text": [
            "Returing a value\n"
          ]
        }
      ]
    },
    {
      "cell_type": "code",
      "source": [
        "a, b, c = multi_ret()\n",
        "print(a)\n",
        "print(b)\n",
        "print(c)"
      ],
      "metadata": {
        "colab": {
          "base_uri": "https://localhost:8080/"
        },
        "id": "y1KT3d2pHI4Q",
        "outputId": "a1cf4f1e-4990-4c87-d7ed-10a3b37b61a7"
      },
      "execution_count": 51,
      "outputs": [
        {
          "output_type": "stream",
          "name": "stdout",
          "text": [
            "This curious function\n",
            "returns three values\n",
            "1\n",
            "test\n",
            "[796, 69, 15]\n"
          ]
        }
      ]
    },
    {
      "cell_type": "code",
      "source": [
        "def fl(a, b, с):\n",
        "  pass"
      ],
      "metadata": {
        "id": "czZ5VMmiHxPY"
      },
      "execution_count": 55,
      "outputs": []
    },
    {
      "cell_type": "code",
      "source": [
        "def f2(value=5, key=\"test\"):\n",
        "  pass\n",
        "\n"
      ],
      "metadata": {
        "id": "p8MJ6Hw_IDqM"
      },
      "execution_count": 57,
      "outputs": []
    },
    {
      "cell_type": "code",
      "source": [
        "f2()\n",
        "f2(3, \"asd\")\n",
        "f2(key=\"hello\", value=42)"
      ],
      "metadata": {
        "id": "X1dPxhx-Ix64"
      },
      "execution_count": 58,
      "outputs": []
    },
    {
      "cell_type": "code",
      "source": [
        "def f1(*args):\n",
        "  for item in args:\n",
        "    print(item)\n",
        "f1('hello', 'world', 42, True)"
      ],
      "metadata": {
        "colab": {
          "base_uri": "https://localhost:8080/"
        },
        "id": "2acsCDRyI5Lm",
        "outputId": "4284850e-d93f-4714-93a8-82bb1b1a0f09"
      },
      "execution_count": 66,
      "outputs": [
        {
          "output_type": "stream",
          "name": "stdout",
          "text": [
            "hello\n",
            "world\n",
            "42\n",
            "True\n"
          ]
        }
      ]
    },
    {
      "cell_type": "code",
      "source": [
        "def f2(**kwargs):\n",
        "  for key, value in kwargs.items():\n",
        "    print(\"() is ()\".format(key, value))\n",
        "f2(asdf='hello', qwerty=42)"
      ],
      "metadata": {
        "colab": {
          "base_uri": "https://localhost:8080/"
        },
        "id": "PaAokIYUJvdL",
        "outputId": "e889a0c7-e88a-4852-f40b-14de0a5ceafa"
      },
      "execution_count": 68,
      "outputs": [
        {
          "output_type": "stream",
          "name": "stdout",
          "text": [
            "() is ()\n",
            "() is ()\n"
          ]
        }
      ]
    }
  ]
}