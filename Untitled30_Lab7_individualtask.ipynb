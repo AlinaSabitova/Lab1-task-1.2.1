{
  "nbformat": 4,
  "nbformat_minor": 0,
  "metadata": {
    "colab": {
      "provenance": [],
      "authorship_tag": "ABX9TyPcpZZlD6oyWRGohmJ5OUr5",
      "include_colab_link": true
    },
    "kernelspec": {
      "name": "python3",
      "display_name": "Python 3"
    },
    "language_info": {
      "name": "python"
    }
  },
  "cells": [
    {
      "cell_type": "markdown",
      "metadata": {
        "id": "view-in-github",
        "colab_type": "text"
      },
      "source": [
        "<a href=\"https://colab.research.google.com/github/AlinaSabitova/Lab1-task-1.2.1/blob/main/Untitled30_Lab7_individualtask.ipynb\" target=\"_parent\"><img src=\"https://colab.research.google.com/assets/colab-badge.svg\" alt=\"Open In Colab\"/></a>"
      ]
    },
    {
      "cell_type": "code",
      "execution_count": 95,
      "metadata": {
        "colab": {
          "base_uri": "https://localhost:8080/"
        },
        "id": "2t1J-THYadbH",
        "outputId": "ab44a3e8-fb09-4826-e787-437ccf12cade"
      },
      "outputs": [
        {
          "output_type": "stream",
          "name": "stdout",
          "text": [
            "Введите слово: мир1\n",
            "4\n"
          ]
        }
      ],
      "source": [
        "def my_function(word):\n",
        "  if len(word) < 10:\n",
        "      digit = '0123456789'\n",
        "      digits = list(map(str, digit))\n",
        "      for y in digits:\n",
        "          if y in word:\n",
        "            raise TypeError (\"Слово содержит число.\") \n",
        "            return len(word)\n",
        "          else:\n",
        "            return len(word)  \n",
        "  else:\n",
        "    raise BaseException (\"Ошибка. Количество букв больше 10.\")\n",
        "\n",
        "try:\n",
        "  word = str(input(\"Введите слово: \"))\n",
        "  print(my_function(word))\n",
        "except BaseException as err:\n",
        "  print(\"Ошибка: \", err)\n",
        "except TypeError as err:\n",
        "  print(\"Ошибка:\", err)"
      ]
    },
    {
      "cell_type": "code",
      "source": [
        "  digit = '123456789'\n",
        "  digits = list(map(str, digit))\n",
        "  for i in word:\n",
        "    if i in digit:\n",
        "      raise TypeError (\"Слово содержит число.\")\n",
        "      print(\"Слово содержит число\")\n",
        "      return len(word)"
      ],
      "metadata": {
        "id": "6eZNlS2rlhtB"
      },
      "execution_count": null,
      "outputs": []
    },
    {
      "cell_type": "code",
      "source": [
        "if word.isdigit() is False:\n",
        "      return len(word)\n",
        "    else:"
      ],
      "metadata": {
        "id": "ayQU4fRBsjNs"
      },
      "execution_count": null,
      "outputs": []
    },
    {
      "cell_type": "code",
      "source": [
        "def my_function(word):\n",
        "  if len(word) < 10:\n",
        "      words = list(map(str, word))\n",
        "      digit = '0123456789'\n",
        "      digits = list(map(str, digit))\n",
        "      for y in digits:\n",
        "          if y not in words:\n",
        "            return len(word)\n",
        "          else:\n",
        "            raise TypeError (\"Слово содержит число.\") \n",
        "            return len(word)\n",
        "            \n",
        "  else:\n",
        "    raise BaseException (\"Ошибка. Количество букв больше 10.\")\n",
        "\n",
        "try:\n",
        "  word = str(input(\"Введите слово: \"))\n",
        "  print(my_function(word))\n",
        "except BaseException as err:\n",
        "  print(\"Ошибка: \", err)\n",
        "except TypeError as err:\n",
        "  print(\"Ошибка:\", err)"
      ],
      "metadata": {
        "id": "GprAUfe5zeXy"
      },
      "execution_count": null,
      "outputs": []
    }
  ]
}