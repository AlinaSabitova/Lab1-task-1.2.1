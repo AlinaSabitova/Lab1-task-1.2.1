{
  "nbformat": 4,
  "nbformat_minor": 0,
  "metadata": {
    "colab": {
      "provenance": [],
      "authorship_tag": "ABX9TyOFbGDvNWgIxHTXMHJVBVY+",
      "include_colab_link": true
    },
    "kernelspec": {
      "name": "python3",
      "display_name": "Python 3"
    },
    "language_info": {
      "name": "python"
    }
  },
  "cells": [
    {
      "cell_type": "markdown",
      "metadata": {
        "id": "view-in-github",
        "colab_type": "text"
      },
      "source": [
        "<a href=\"https://colab.research.google.com/github/AlinaSabitova/Lab1-task-1.2.1/blob/main/Untitled19.ipynb\" target=\"_parent\"><img src=\"https://colab.research.google.com/assets/colab-badge.svg\" alt=\"Open In Colab\"/></a>"
      ]
    },
    {
      "cell_type": "code",
      "source": [
        "for x in range(1, 10, 3):\n",
        "  print(x)"
      ],
      "metadata": {
        "colab": {
          "base_uri": "https://localhost:8080/"
        },
        "id": "fy4X3ixqSwWd",
        "outputId": "965fa2ce-e898-431b-dad0-523679dd4ba8"
      },
      "execution_count": 3,
      "outputs": [
        {
          "output_type": "stream",
          "name": "stdout",
          "text": [
            "1\n",
            "4\n",
            "7\n"
          ]
        }
      ]
    },
    {
      "cell_type": "code",
      "source": [
        "def count_down(start_number):\n",
        "  current = start_number\n",
        "  while current > 0:\n",
        "    print(current)\n",
        "    current -= 1\n",
        "  print(\"Zero\")\n",
        "\n",
        "count_down(3)"
      ],
      "metadata": {
        "colab": {
          "base_uri": "https://localhost:8080/"
        },
        "id": "lZro_4JsTZ8w",
        "outputId": "c6405e84-080b-4c02-87f1-f001b9a80d7a"
      },
      "execution_count": 8,
      "outputs": [
        {
          "output_type": "stream",
          "name": "stdout",
          "text": [
            "3\n",
            "2\n",
            "1\n",
            "Zero\n"
          ]
        }
      ]
    },
    {
      "cell_type": "code",
      "execution_count": 1,
      "metadata": {
        "colab": {
          "base_uri": "https://localhost:8080/"
        },
        "id": "pGrMFDXeRA-Y",
        "outputId": "ac34aaf7-47bb-4694-d1d3-f96599030292"
      },
      "outputs": [
        {
          "output_type": "execute_result",
          "data": {
            "text/plain": [
              "False"
            ]
          },
          "metadata": {},
          "execution_count": 1
        }
      ],
      "source": [
        "\"big\">\"small\""
      ]
    },
    {
      "cell_type": "code",
      "source": [
        "print(11%5)"
      ],
      "metadata": {
        "colab": {
          "base_uri": "https://localhost:8080/"
        },
        "id": "eeqaOsFHRdDd",
        "outputId": "bde073bb-11c6-44b1-9e58-4279e9548e48"
      },
      "execution_count": 2,
      "outputs": [
        {
          "output_type": "stream",
          "name": "stdout",
          "text": [
            "1\n"
          ]
        }
      ]
    },
    {
      "cell_type": "code",
      "source": [
        "def attempts(n):\n",
        "  x=1\n",
        "  while x <= n:\n",
        "    print(\"Attemt \" + str(x))\n",
        "    x += 1\n",
        "  print(\"Done\")\n",
        "\n",
        "attempts(5)"
      ],
      "metadata": {
        "colab": {
          "base_uri": "https://localhost:8080/"
        },
        "id": "5CSGERuoUQ1L",
        "outputId": "5c9757ac-011a-4a44-e18d-0259578765a6"
      },
      "execution_count": 10,
      "outputs": [
        {
          "output_type": "stream",
          "name": "stdout",
          "text": [
            "Attemt 1\n",
            "Attemt 2\n",
            "Attemt 3\n",
            "Attemt 4\n",
            "Attemt 5\n",
            "Done\n"
          ]
        }
      ]
    },
    {
      "cell_type": "code",
      "source": [
        "import math"
      ],
      "metadata": {
        "id": "S1qerLv2V4dr"
      },
      "execution_count": 14,
      "outputs": []
    },
    {
      "cell_type": "code",
      "source": [
        "ratio = (1+(5)**(1/2))/2\n",
        "print(round(ratio, 3))"
      ],
      "metadata": {
        "colab": {
          "base_uri": "https://localhost:8080/"
        },
        "id": "hwOei35tVItc",
        "outputId": "4b0a4461-f70e-4c0b-89ab-088489327206"
      },
      "execution_count": 20,
      "outputs": [
        {
          "output_type": "stream",
          "name": "stdout",
          "text": [
            "1.618\n"
          ]
        }
      ]
    },
    {
      "cell_type": "code",
      "source": [
        "x=0\n",
        "while x < 5:\n",
        "  print(\"Not there yet, x=\" + str(x))\n",
        "  x = x + 1\n",
        "print(\"x=\" + str(x))"
      ],
      "metadata": {
        "colab": {
          "base_uri": "https://localhost:8080/"
        },
        "id": "WS6gnvQFWdMK",
        "outputId": "7dcbb343-c31f-4c37-8731-7a55a87a7af7"
      },
      "execution_count": 21,
      "outputs": [
        {
          "output_type": "stream",
          "name": "stdout",
          "text": [
            "Not there yet, x=0\n",
            "Not there yet, x=1\n",
            "Not there yet, x=2\n",
            "Not there yet, x=3\n",
            "Not there yet, x=4\n",
            "x=5\n"
          ]
        }
      ]
    },
    {
      "cell_type": "code",
      "source": [
        "def ptint_range(start, end):\n",
        "  n = start\n",
        "  while n <= end:\n",
        "    print(n)\n",
        "    n += 1\n",
        "\n",
        "ptint_range(1, 5)"
      ],
      "metadata": {
        "colab": {
          "base_uri": "https://localhost:8080/"
        },
        "id": "ZhX4h7YSXJAc",
        "outputId": "0562e243-ec45-461a-c5cf-f702c2ce228c"
      },
      "execution_count": 25,
      "outputs": [
        {
          "output_type": "stream",
          "name": "stdout",
          "text": [
            "1\n",
            "2\n",
            "3\n",
            "4\n",
            "5\n"
          ]
        }
      ]
    },
    {
      "cell_type": "code",
      "source": [
        "def sum(x, y):\n",
        "      return(x+y)\n",
        "print(sum(sum(1, 2), sum(3, 4)))"
      ],
      "metadata": {
        "colab": {
          "base_uri": "https://localhost:8080/"
        },
        "id": "E255snIHXv5e",
        "outputId": "798337a0-a3a6-444c-8d98-728093215769"
      },
      "execution_count": 26,
      "outputs": [
        {
          "output_type": "stream",
          "name": "stdout",
          "text": [
            "10\n"
          ]
        }
      ]
    },
    {
      "cell_type": "code",
      "source": [
        "def votes(params):\n",
        "  for vote in params:\n",
        "    print(\"Possible option^\" + vote)\n",
        "\n",
        "votes([\"yes\", \"no\", \"maybe\"])"
      ],
      "metadata": {
        "colab": {
          "base_uri": "https://localhost:8080/"
        },
        "id": "mh_Eb4qJYNVJ",
        "outputId": "c261dbcf-0449-4c93-9e7f-5fc657fb9f73"
      },
      "execution_count": 30,
      "outputs": [
        {
          "output_type": "stream",
          "name": "stdout",
          "text": [
            "Possible option^yes\n",
            "Possible option^no\n",
            "Possible option^maybe\n"
          ]
        }
      ]
    },
    {
      "cell_type": "code",
      "source": [
        "teams = [\"Dragons\", \"Wolves\", \"Pandas\", \"Unicorns\"]\n",
        "for home_team in teams:\n",
        "  for away_team in teams:\n",
        "    if home_team != away_team:\n",
        "      print(home_team, away_team)"
      ],
      "metadata": {
        "colab": {
          "base_uri": "https://localhost:8080/"
        },
        "id": "cf_xasQ2ZbYz",
        "outputId": "f65aae43-e0f8-4d8c-ffba-83ce25175757"
      },
      "execution_count": 31,
      "outputs": [
        {
          "output_type": "stream",
          "name": "stdout",
          "text": [
            "Dragons Wolves\n",
            "Dragons Pandas\n",
            "Dragons Unicorns\n",
            "Wolves Dragons\n",
            "Wolves Pandas\n",
            "Wolves Unicorns\n",
            "Pandas Dragons\n",
            "Pandas Wolves\n",
            "Pandas Unicorns\n",
            "Unicorns Dragons\n",
            "Unicorns Wolves\n",
            "Unicorns Pandas\n"
          ]
        }
      ]
    },
    {
      "cell_type": "code",
      "source": [
        "def decade_counter():\n",
        "  while year < 50:\n",
        "    year += 10\n",
        "  return year"
      ],
      "metadata": {
        "id": "mZ9tYhFcaYJg"
      },
      "execution_count": 32,
      "outputs": []
    },
    {
      "cell_type": "code",
      "source": [
        "for x in range(10):\n",
        "  for y in range(x):\n",
        "    print(y)"
      ],
      "metadata": {
        "colab": {
          "base_uri": "https://localhost:8080/"
        },
        "id": "PKmBV47Da5oc",
        "outputId": "c4a24357-3d76-4eaa-a1ec-2c9cf5c30057"
      },
      "execution_count": 33,
      "outputs": [
        {
          "output_type": "stream",
          "name": "stdout",
          "text": [
            "0\n",
            "0\n",
            "1\n",
            "0\n",
            "1\n",
            "2\n",
            "0\n",
            "1\n",
            "2\n",
            "3\n",
            "0\n",
            "1\n",
            "2\n",
            "3\n",
            "4\n",
            "0\n",
            "1\n",
            "2\n",
            "3\n",
            "4\n",
            "5\n",
            "0\n",
            "1\n",
            "2\n",
            "3\n",
            "4\n",
            "5\n",
            "6\n",
            "0\n",
            "1\n",
            "2\n",
            "3\n",
            "4\n",
            "5\n",
            "6\n",
            "7\n",
            "0\n",
            "1\n",
            "2\n",
            "3\n",
            "4\n",
            "5\n",
            "6\n",
            "7\n",
            "8\n"
          ]
        }
      ]
    },
    {
      "cell_type": "code",
      "source": [
        "#выполнила: Сабитова А.Б. АДЭУ-221\n",
        "\n",
        "def show_letters(word):\n",
        "  for i in range(1):\n",
        "    print(\"\\n\" .join(word))\n",
        "  \n",
        "show_letters(\"Hello\")"
      ],
      "metadata": {
        "id": "Ck2M22VJpSTM"
      },
      "execution_count": null,
      "outputs": []
    },
    {
      "cell_type": "code",
      "source": [
        "#выполнила: Сабитова А.Б. АДЭУ-221\n",
        "\n",
        "number = 1\n",
        "while number <= 7:\n",
        "  print(number, end=\" \") \n",
        "  number += 1"
      ],
      "metadata": {
        "id": "ncHCB-DupgKN"
      },
      "execution_count": null,
      "outputs": []
    },
    {
      "cell_type": "code",
      "source": [
        "#выполнила: Сабитова А.Б. АДЭУ-221\n",
        "\n",
        "def digits(n):\n",
        "  count = 0\n",
        "  if n == 0:\n",
        "    count = 1\n",
        "  while(n > 0):\n",
        "    count += 1\n",
        "    n = n // 10\n",
        "  return count\n",
        "\n",
        "print(digits(25))\n",
        "print(digits(144))\n",
        "print(digits(1000))\n",
        "print(digits(0))"
      ],
      "metadata": {
        "id": "DIYKx7DkqUDG"
      },
      "execution_count": null,
      "outputs": []
    },
    {
      "cell_type": "code",
      "source": [
        "#выполнила: Сабитова А.Б. АДЭУ-221\n",
        "\n",
        "def factorial(n):\n",
        "  result = 1\n",
        "  for i in range(n):\n",
        "    result *= i + 1\n",
        "  return result\n",
        "\n",
        "print(factorial(4))\n",
        "print(factorial(5))"
      ],
      "metadata": {
        "id": "WBHsOUDsqkfk"
      },
      "execution_count": null,
      "outputs": []
    },
    {
      "cell_type": "code",
      "source": [
        "#выполнила: Сабитова А.Б. АДЭУ-221\n",
        "\n",
        "def square(n):\n",
        "  return n*n\n",
        "\n",
        "def sum_squares(x):\n",
        "  sum = 0\n",
        "  for n in range(x):\n",
        "    sum += n * n\n",
        "  return sum\n",
        "\n",
        "print(sum_squares(10))"
      ],
      "metadata": {
        "colab": {
          "base_uri": "https://localhost:8080/"
        },
        "id": "fsF2HI-brKbL",
        "outputId": "b34a33cf-a812-48ea-88df-badff4737915"
      },
      "execution_count": 35,
      "outputs": [
        {
          "output_type": "stream",
          "name": "stdout",
          "text": [
            "285\n"
          ]
        }
      ]
    },
    {
      "cell_type": "code",
      "source": [
        "def print_prime_factors(number):\n",
        "  factor = 2\n",
        "  while factor <= number:\n",
        "    if number % factor == 0:\n",
        "      print(factor)\n",
        "      number = number / factor\n",
        "    else:\n",
        "      factor +=1\n",
        "  return \"Done\"\n",
        "\n",
        "print_prime_factors(100)"
      ],
      "metadata": {
        "id": "aIQ5xISHv0Z6"
      },
      "execution_count": null,
      "outputs": []
    },
    {
      "cell_type": "code",
      "source": [
        "#выполнила: Сабитова А.Б. АДЭУ-221\n",
        "\n",
        "def is_power_of_two(n):\n",
        "  if not n == 0:\n",
        "    while n % 2 == 0:\n",
        "      n = n / 2\n",
        "  if n == 1:\n",
        "    return True\n",
        "  return False\n",
        "  \n",
        "\n",
        "print(is_power_of_two(0)) \n",
        "print(is_power_of_two(1)) \n",
        "print(is_power_of_two(8)) \n",
        "print(is_power_of_two(9)) "
      ],
      "metadata": {
        "id": "uW55_vqAxGAT"
      },
      "execution_count": null,
      "outputs": []
    }
  ]
}