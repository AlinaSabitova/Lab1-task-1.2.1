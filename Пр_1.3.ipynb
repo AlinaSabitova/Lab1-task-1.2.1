{
  "nbformat": 4,
  "nbformat_minor": 0,
  "metadata": {
    "colab": {
      "provenance": [],
      "authorship_tag": "ABX9TyMKoQMz+7X4VEB1VOPCoPgY",
      "include_colab_link": true
    },
    "kernelspec": {
      "name": "python3",
      "display_name": "Python 3"
    },
    "language_info": {
      "name": "python"
    }
  },
  "cells": [
    {
      "cell_type": "markdown",
      "metadata": {
        "id": "view-in-github",
        "colab_type": "text"
      },
      "source": [
        "<a href=\"https://colab.research.google.com/github/AlinaSabitova/Lab1-task-1.2.1/blob/main/%D0%9F%D1%80_1.3.ipynb\" target=\"_parent\"><img src=\"https://colab.research.google.com/assets/colab-badge.svg\" alt=\"Open In Colab\"/></a>"
      ]
    },
    {
      "cell_type": "markdown",
      "source": [
        "1.3.1 Создайте для класса «студент» функцию, которая считает средний\n",
        "балл по трем дисциплинам, оценки по которым вводятся пользователям.\n",
        "Реализуйте программу двумя способами: без использования\n",
        "конструктора __init__ и с ним. "
      ],
      "metadata": {
        "id": "BEbP0-6L7EaT"
      }
    },
    {
      "cell_type": "code",
      "execution_count": null,
      "metadata": {
        "colab": {
          "base_uri": "https://localhost:8080/"
        },
        "id": "ujyA_fd35yUA",
        "outputId": "cd0f3b0e-d6eb-4276-89dc-948cb6c463fe"
      },
      "outputs": [
        {
          "output_type": "stream",
          "name": "stdout",
          "text": [
            "Введите оценку первого студента за первую дисциплину: 3\n",
            "Введите оценку первого студента за вторую дисциплину: 4\n",
            "Введите оценку первого студента за третью дисциплину: 5\n",
            "Введите оценку второго студента за первую дисциплину: 4\n",
            "Введите оценку второго студента за вторую дисциплину: 5\n",
            "Введите оценку второго студента за третью дисциплину: 5\n",
            "Средний балл студента: 4.0\n",
            "Средний балл студента: 4.666666666666667\n"
          ]
        }
      ],
      "source": [
        "# 1.3.1\n",
        "# Первый способ\n",
        "\n",
        "class Student():\n",
        "  first_subject = \"\"\n",
        "  second_subject = \"\"\n",
        "  third_subject = \"\"\n",
        "\n",
        "student1 = Student()\n",
        "student1.first_subject = int(input(\"Введите оценку первого студента за первую дисциплину: \"))\n",
        "student1.second_subject = int(input(\"Введите оценку первого студента за вторую дисциплину: \"))\n",
        "student1.third_subject = int(input(\"Введите оценку первого студента за третью дисциплину: \"))\n",
        "\n",
        "student2 = Student()\n",
        "student2.first_subject = int(input(\"Введите оценку второго студента за первую дисциплину: \"))\n",
        "student2.second_subject = int(input(\"Введите оценку второго студента за вторую дисциплину: \"))\n",
        "student2.third_subject = int(input(\"Введите оценку второго студента за третью дисциплину: \"))\n",
        "\n",
        "def average(pupil):\n",
        "  average_mark = (pupil.first_subject + pupil.second_subject + pupil.third_subject) / 3\n",
        "  return (\"Средний балл студента: {}\".format(average_mark))\n",
        "\n",
        "print(average(student1))\n",
        "print(average(student2))"
      ]
    },
    {
      "cell_type": "code",
      "source": [
        "# 1.3.1\n",
        "# Второй способ\n",
        "\n",
        "class Student():\n",
        "  #subject1 = int(input(\"Введите оценку за первую дисциплину: \"))\n",
        "  #subject2 = int(input(\"Введите оценку за вторую дисциплину: \"))\n",
        "  #subject3 = int(input(\"Введите оценку за третью дисциплину: \"))\n",
        "  def __init__(self, subject1, subject2, subject3):\n",
        "    self.subject1 = subject1\n",
        "    self.subject2 = subject2\n",
        "    self.subject3 = subject3\n",
        "\n",
        "  def average(self):\n",
        "    return (self.subject1 + self.subject2 + self.subject3) / 3\n",
        "\n",
        "student1 = Student((int(input(\"Введите оценку за первую дисциплину: \"))), (int(input(\"Введите оценку за вторую дисциплину: \"))), (int(input(\"Введите оценку за третью дисциплину: \"))))  \n",
        "print(student1.average())"
      ],
      "metadata": {
        "colab": {
          "base_uri": "https://localhost:8080/"
        },
        "id": "15xQE4fu71-l",
        "outputId": "5a59b1ed-c154-4232-a9fd-828e00fbbb96"
      },
      "execution_count": 3,
      "outputs": [
        {
          "output_type": "stream",
          "name": "stdout",
          "text": [
            "Введите оценку за первую дисциплину: 3\n",
            "Введите оценку за вторую дисциплину: 4\n",
            "Введите оценку за третью дисциплину: 5\n",
            "4.0\n"
          ]
        }
      ]
    },
    {
      "cell_type": "markdown",
      "source": [
        "1.3.2 Создайте функцию, которая считает и выводит в файл заработную\n",
        "плату сотрудника склада в зависимости от количества отработанных дней в\n",
        "месяце. Оклад является защищаемым атрибутом класса «сотрудник». "
      ],
      "metadata": {
        "id": "YVEOvov77RIQ"
      }
    },
    {
      "cell_type": "code",
      "source": [
        "# 1.3.2\n",
        "\n",
        "class Employee():\n",
        "  def __init__(self, days, payment):\n",
        "    self.days = days\n",
        "    self.payment = payment\n",
        "\n",
        "  def salary(self):\n",
        "    return self.days * self.payment\n",
        "\n",
        "employee1 = Employee(20, 1200)\n",
        "print(employee1.salary())"
      ],
      "metadata": {
        "id": "eDr-wP2c7Sjd",
        "outputId": "182bc599-26ef-4d8d-cf14-b631ababbde4",
        "colab": {
          "base_uri": "https://localhost:8080/"
        }
      },
      "execution_count": 5,
      "outputs": [
        {
          "output_type": "stream",
          "name": "stdout",
          "text": [
            "24000\n"
          ]
        }
      ]
    },
    {
      "cell_type": "markdown",
      "source": [
        "1.3.3 Используя результат предыдущего задания, создайте функцию\n",
        "начисления премии сотруднику, вычисляемую как 1% от уровня заработной\n",
        "платы. \n"
      ],
      "metadata": {
        "id": "_Zpzw6bk7TuB"
      }
    },
    {
      "cell_type": "code",
      "source": [
        "# 1.3.3\n",
        "\n"
      ],
      "metadata": {
        "id": "waWmve2e7YRL"
      },
      "execution_count": null,
      "outputs": []
    },
    {
      "cell_type": "markdown",
      "source": [
        "1.3.4 Модифицируйте предыдущую программу, позволяющую вычислять\n",
        "заработную плату, премию для сотрудников и определять величину общего\n",
        "фонда заработной платы как сумму заработной платы и премий, деленную на\n",
        "коэффициент 0,7. Данные о сотрудниках вводятся через цикл while и\n",
        "записываются в соответствующий файл .txt или .xlsx. \n"
      ],
      "metadata": {
        "id": "9FQ0jDXF7Yoy"
      }
    },
    {
      "cell_type": "code",
      "source": [
        "# 1.3.4"
      ],
      "metadata": {
        "id": "tz6yvsjG7czu"
      },
      "execution_count": null,
      "outputs": []
    },
    {
      "cell_type": "markdown",
      "source": [
        "1.3.5 Используя технологию перегрузки операторов, измените\n",
        "__truediv__(деление) так, чтобы числителем был знаменатель и наоборот.\n",
        "Аналогичные процедуры осуществите для операторов\n",
        "__floordiv__(целочисленное деление), __mod__(остаток от деления). Числа\n",
        "вводят пользователи. Предусмотрите отработку исключений."
      ],
      "metadata": {
        "id": "vxBfwbG87dMi"
      }
    },
    {
      "cell_type": "code",
      "source": [
        "# 1.3.5"
      ],
      "metadata": {
        "id": "H_eQrMue7if9"
      },
      "execution_count": null,
      "outputs": []
    }
  ]
}