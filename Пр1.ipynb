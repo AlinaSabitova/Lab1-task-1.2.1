{
  "nbformat": 4,
  "nbformat_minor": 0,
  "metadata": {
    "colab": {
      "provenance": [],
      "authorship_tag": "ABX9TyMYdM50e/yUwS51YPxH3hik",
      "include_colab_link": true
    },
    "kernelspec": {
      "name": "python3",
      "display_name": "Python 3"
    },
    "language_info": {
      "name": "python"
    }
  },
  "cells": [
    {
      "cell_type": "markdown",
      "metadata": {
        "id": "view-in-github",
        "colab_type": "text"
      },
      "source": [
        "<a href=\"https://colab.research.google.com/github/AlinaSabitova/Lab1-task-1.2.1/blob/main/%D0%9F%D1%801.ipynb\" target=\"_parent\"><img src=\"https://colab.research.google.com/assets/colab-badge.svg\" alt=\"Open In Colab\"/></a>"
      ]
    },
    {
      "cell_type": "code",
      "execution_count": null,
      "metadata": {
        "id": "yzB3OsKp1XbS"
      },
      "outputs": [],
      "source": [
        "class A:\n",
        "  def __init__(self, a, b):\n",
        "    self.a = a\n",
        "    self.b = b\n",
        "\n",
        "  def first_c(self):\n",
        "    return self.a + self.b\n",
        "\n",
        "  def second_c(self):\n",
        "    return self.a-- \n",
        "\n",
        "  def third_c(self):\n",
        "    return self.b--\n",
        "\n",
        "class Programm:\n",
        "  def main():\n",
        "    obj = A\n",
        "\n",
        "obj1 = A(5, 3)\n",
        "print(obj1.first_c())\n",
        "print(obj1.second_c())\n",
        "print(obj1.third_c())"
      ]
    },
    {
      "cell_type": "code",
      "source": [
        "class A:\n",
        "  def __init__(self, a, b):\n",
        "    self.a = a\n",
        "    self.b = b\n",
        "\n",
        "  def first_c(self):\n",
        "    return self.a + self.b\n",
        "\n",
        "class Programm:\n",
        "  def main():\n",
        "    obj = A\n",
        "\n",
        "obj1 = A(5, 3)\n",
        "print(obj1.first_c())"
      ],
      "metadata": {
        "id": "_wImo84xERxN",
        "outputId": "e77d3b75-803e-422b-b7ad-486d8bb225ba",
        "colab": {
          "base_uri": "https://localhost:8080/"
        }
      },
      "execution_count": 5,
      "outputs": [
        {
          "output_type": "stream",
          "name": "stdout",
          "text": [
            "8\n"
          ]
        }
      ]
    },
    {
      "cell_type": "code",
      "source": [
        "class Programm:\n",
        "  def main():\n",
        "    obj = A\n",
        "    print(obj.c)"
      ],
      "metadata": {
        "id": "gzcHloDhL1ao"
      },
      "execution_count": null,
      "outputs": []
    }
  ]
}