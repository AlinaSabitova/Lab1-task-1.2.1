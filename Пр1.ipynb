{
  "nbformat": 4,
  "nbformat_minor": 0,
  "metadata": {
    "colab": {
      "provenance": [],
      "authorship_tag": "ABX9TyMWnTlytLok/ow9ZC7X3NdO",
      "include_colab_link": true
    },
    "kernelspec": {
      "name": "python3",
      "display_name": "Python 3"
    },
    "language_info": {
      "name": "python"
    }
  },
  "cells": [
    {
      "cell_type": "markdown",
      "metadata": {
        "id": "view-in-github",
        "colab_type": "text"
      },
      "source": [
        "<a href=\"https://colab.research.google.com/github/AlinaSabitova/Lab1-task-1.2.1/blob/main/%D0%9F%D1%801.ipynb\" target=\"_parent\"><img src=\"https://colab.research.google.com/assets/colab-badge.svg\" alt=\"Open In Colab\"/></a>"
      ]
    },
    {
      "cell_type": "code",
      "execution_count": 15,
      "metadata": {
        "colab": {
          "base_uri": "https://localhost:8080/"
        },
        "id": "yzB3OsKp1XbS",
        "outputId": "22702318-b518-4432-fcbd-49720b2d9c67"
      },
      "outputs": [
        {
          "output_type": "stream",
          "name": "stdout",
          "text": [
            "8\n",
            "8\n"
          ]
        }
      ],
      "source": [
        "class A:\n",
        "  def __init__(self, a, b):\n",
        "    self.a = a\n",
        "    self.b = b\n",
        "\n",
        "  def sum(self):\n",
        "    return self.a + self.b\n",
        "\n",
        "  def hs(self):\n",
        "    return self.a -- self.b\n",
        "\n",
        "obj1 = A(5, 3)\n",
        "print(obj1.sum())\n",
        "print(obj1.hs())"
      ]
    },
    {
      "cell_type": "code",
      "source": [
        "class Programm:\n",
        "  def main():\n",
        "    obj = A\n",
        "    print(obj.c)"
      ],
      "metadata": {
        "id": "_wImo84xERxN"
      },
      "execution_count": null,
      "outputs": []
    },
    {
      "cell_type": "code",
      "source": [
        "5 -- 2"
      ],
      "metadata": {
        "colab": {
          "base_uri": "https://localhost:8080/"
        },
        "id": "IWsrUn51IrQz",
        "outputId": "21e01778-d029-4e23-85a2-e9cc44a87e74"
      },
      "execution_count": 10,
      "outputs": [
        {
          "output_type": "execute_result",
          "data": {
            "text/plain": [
              "7"
            ]
          },
          "metadata": {},
          "execution_count": 10
        }
      ]
    }
  ]
}