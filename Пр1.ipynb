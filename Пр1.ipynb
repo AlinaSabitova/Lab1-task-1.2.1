{
  "nbformat": 4,
  "nbformat_minor": 0,
  "metadata": {
    "colab": {
      "provenance": [],
      "authorship_tag": "ABX9TyOThcIr7mGM6zqrLXTRHe5V",
      "include_colab_link": true
    },
    "kernelspec": {
      "name": "python3",
      "display_name": "Python 3"
    },
    "language_info": {
      "name": "python"
    }
  },
  "cells": [
    {
      "cell_type": "markdown",
      "metadata": {
        "id": "view-in-github",
        "colab_type": "text"
      },
      "source": [
        "<a href=\"https://colab.research.google.com/github/AlinaSabitova/Lab1-task-1.2.1/blob/main/%D0%9F%D1%801.ipynb\" target=\"_parent\"><img src=\"https://colab.research.google.com/assets/colab-badge.svg\" alt=\"Open In Colab\"/></a>"
      ]
    },
    {
      "cell_type": "code",
      "source": [
        "class A:\n",
        "  a = int() \n",
        "  b = int()\n",
        "\n",
        "  def __init__(self, a, b):\n",
        "    self.a = a\n",
        "    self.b = b\n",
        "\n",
        "  def summa(self): \n",
        "    return self.a+self.b\n",
        "\n",
        "  def residual_a(self):\n",
        "    return self.a-1\n",
        "\n",
        "  def residual_b(self):\n",
        "    return self.b-1\n",
        "\n",
        "c = A(20,10)\n",
        "print(c.summa())\n",
        "print(c.residual_a())\n",
        "print(c.residual_b()) "
      ],
      "metadata": {
        "id": "VVHVnOi4_NaB",
        "outputId": "1495e4d0-4a06-4b3d-dd63-dca325e26e42",
        "colab": {
          "base_uri": "https://localhost:8080/"
        }
      },
      "execution_count": 15,
      "outputs": [
        {
          "output_type": "stream",
          "name": "stdout",
          "text": [
            "30\n",
            "19\n",
            "9\n"
          ]
        }
      ]
    },
    {
      "cell_type": "code",
      "source": [
        "class Programm():\n",
        "  def __init__(self):\n",
        "        c = A(20, 10)\n",
        "        print(c.summa())\n",
        "        print(c.residual_a())\n",
        "        print(c.residual_b()) \n",
        "\n",
        "if __name__ == \"__main__\":\n",
        "    c = Programm()\n",
        "    print(\"Programm end\")"
      ],
      "metadata": {
        "id": "N08anPbXARUm",
        "outputId": "eb9d2d1f-9d32-45f9-abe0-196e1e82bcfd",
        "colab": {
          "base_uri": "https://localhost:8080/"
        }
      },
      "execution_count": 16,
      "outputs": [
        {
          "output_type": "stream",
          "name": "stdout",
          "text": [
            "30\n",
            "19\n",
            "9\n",
            "Programm end\n"
          ]
        }
      ]
    },
    {
      "cell_type": "code",
      "execution_count": null,
      "metadata": {
        "id": "yzB3OsKp1XbS"
      },
      "outputs": [],
      "source": [
        "class A:\n",
        "  def __init__(self, a, b):\n",
        "    self.a = a\n",
        "    self.b = b\n",
        "\n",
        "  def first_c(self):\n",
        "    return self.a + self.b\n",
        "\n",
        "  def second_c(self):\n",
        "    return self.a-- \n",
        "\n",
        "  def third_c(self):\n",
        "    return self.b--\n",
        "\n",
        "class Programm:\n",
        "  def main():\n",
        "    obj = A\n",
        "\n",
        "obj1 = A(5, 3)\n",
        "print(obj1.first_c())\n",
        "print(obj1.second_c())\n",
        "print(obj1.third_c())"
      ]
    },
    {
      "cell_type": "code",
      "source": [
        "class A:\n",
        "  def __init__(self, a, b):\n",
        "    self.a = a\n",
        "    self.b = b\n",
        "\n",
        "  def first_c(self):\n",
        "    return self.a + self.b\n",
        "\n",
        "class Programm:\n",
        "  def main():\n",
        "    obj = A\n",
        "\n",
        "obj1 = A(5, 3)\n",
        "print(obj1.first_c())"
      ],
      "metadata": {
        "id": "_wImo84xERxN",
        "outputId": "e77d3b75-803e-422b-b7ad-486d8bb225ba",
        "colab": {
          "base_uri": "https://localhost:8080/"
        }
      },
      "execution_count": null,
      "outputs": [
        {
          "output_type": "stream",
          "name": "stdout",
          "text": [
            "8\n"
          ]
        }
      ]
    },
    {
      "cell_type": "code",
      "source": [
        "class Programm:\n",
        "  def main():\n",
        "    obj = A\n",
        "    print(obj.c)"
      ],
      "metadata": {
        "id": "gzcHloDhL1ao"
      },
      "execution_count": null,
      "outputs": []
    }
  ]
}