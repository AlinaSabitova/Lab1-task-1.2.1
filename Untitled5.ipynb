{
  "nbformat": 4,
  "nbformat_minor": 0,
  "metadata": {
    "colab": {
      "provenance": [],
      "authorship_tag": "ABX9TyMCY2FkJkyUaVHo9Q1Ms5pp",
      "include_colab_link": true
    },
    "kernelspec": {
      "name": "python3",
      "display_name": "Python 3"
    },
    "language_info": {
      "name": "python"
    }
  },
  "cells": [
    {
      "cell_type": "markdown",
      "metadata": {
        "id": "view-in-github",
        "colab_type": "text"
      },
      "source": [
        "<a href=\"https://colab.research.google.com/github/AlinaSabitova/Lab1-task-1.2.1/blob/main/Untitled5.ipynb\" target=\"_parent\"><img src=\"https://colab.research.google.com/assets/colab-badge.svg\" alt=\"Open In Colab\"/></a>"
      ]
    },
    {
      "cell_type": "markdown",
      "source": [
        "5.2.1"
      ],
      "metadata": {
        "id": "MACidyajOM5n"
      }
    },
    {
      "cell_type": "code",
      "source": [
        "from math import *"
      ],
      "metadata": {
        "id": "2dTpoBH0NEVg"
      },
      "execution_count": 4,
      "outputs": []
    },
    {
      "cell_type": "code",
      "execution_count": 1,
      "metadata": {
        "id": "uwjOMPUBJEN7"
      },
      "outputs": [],
      "source": [
        "def input_data():\n",
        "\n",
        "  return(float(x) for x in input(\"Введите x, y:\").split())\n",
        "\n",
        "\n",
        "def sgn(a):\n",
        "  if a > 0:\n",
        "    res = 1\n",
        "    return res\n",
        "  elif a < 0:\n",
        "    res = -1\n",
        "    return res\n",
        "  elif a == 0:\n",
        "    res = 0\n",
        "    return res\n",
        "\n",
        "def znachenie(a, b):\n",
        "\n",
        "  if (a==0 and b==0 or abs(a)==abs(b) or abs(a)-abs(b)==1):\n",
        "    return\n",
        "  z = (sgn(a)+b**2)/(sgn(b)-sqrt(abs(a)))\n",
        "  return z\n",
        "\n",
        "def print_res(res):\n",
        "    if res:\n",
        "      print(\"Ответ: {:.2f}\".format(res))\n",
        "    else:\n",
        "      print(\"Проверить ОДЗ\")"
      ]
    },
    {
      "cell_type": "code",
      "source": [
        "x, y = input_data()\n",
        "res = znachenie(x, y)\n",
        "print_res(res)"
      ],
      "metadata": {
        "colab": {
          "base_uri": "https://localhost:8080/"
        },
        "id": "jRw4Rpk4Milh",
        "outputId": "33b7bddc-624c-4377-b132-7342c83a9249"
      },
      "execution_count": 5,
      "outputs": [
        {
          "output_type": "stream",
          "name": "stdout",
          "text": [
            "Введите x, y:-9 0\n",
            "Ответ: 0.33\n"
          ]
        }
      ]
    },
    {
      "cell_type": "markdown",
      "source": [
        "5.2.2"
      ],
      "metadata": {
        "id": "b2icEAdGOd24"
      }
    },
    {
      "cell_type": "code",
      "source": [
        "def input_data():\n",
        "\n",
        "  for i in range(n):\n",
        "      dimension = input(\"Измерение {}-e: \".format(i + 1))\n",
        "      if dimension == \"-\":\n",
        "        data.append(None)\n",
        "      else:\n",
        "        data.append(int(dimension))\n",
        "      i += 1\n",
        "\n",
        "def avg(new_data):\n",
        "  return sum(new_data) / len(new_data)\n",
        "\n",
        "def cleared_data(data):\n",
        "    new_data = []\n",
        "    for i in data:\n",
        "        if x != None:\n",
        "          new_data.append(x)\n",
        "    return new_data\n",
        "\n",
        "def print_res2():\n",
        "  z=avg(cleared_data(data))\n",
        "  print(\"Средняя температура: {:.2f}\".format(z))"
      ],
      "metadata": {
        "id": "0A7Zg2W5OguE"
      },
      "execution_count": 7,
      "outputs": []
    },
    {
      "cell_type": "code",
      "source": [
        "def input_data():\n",
        "\n",
        "  for i in range(n):\n",
        "      dimension = input('Измерение{}-е: '.format(i+1))\n",
        "      if dimension == \"-\":\n",
        "        data.append(None)\n",
        "      else:\n",
        "        data.append(int(dimension))\n",
        "      i+=1\n",
        "\n",
        "def avg(new_data):\n",
        "    return sum(new_data)/len(new_data)\n",
        "def cleared_data(data):\n",
        "    new_data = []\n",
        "    for x in data:\n",
        "        if x != None:\n",
        "            new_data.append(x)\n",
        "    return new_data\n",
        "\n",
        "def print_res2():\n",
        "  z = avg(cleared_data(data))\n",
        "  print('Средняя температура: {:.2f}'.format(z))"
      ],
      "metadata": {
        "id": "p3xiQt12R0ya"
      },
      "execution_count": 15,
      "outputs": []
    },
    {
      "cell_type": "code",
      "source": [
        "n = int(input(\"Кол-во измерений: \"))\n",
        "data = []\n",
        "\n",
        "input_data()\n",
        "print_res2()"
      ],
      "metadata": {
        "colab": {
          "base_uri": "https://localhost:8080/"
        },
        "id": "kdwZzUdGQl3J",
        "outputId": "6b0cd99f-4a2a-42b5-f5a4-7f5d0d89de09"
      },
      "execution_count": 16,
      "outputs": [
        {
          "output_type": "stream",
          "name": "stdout",
          "text": [
            "Кол-во измерений: 3\n",
            "Измерение1-е: 10\n",
            "Измерение2-е: -\n",
            "Измерение3-е: 20\n",
            "Средняя температура: 15.00\n"
          ]
        }
      ]
    },
    {
      "cell_type": "markdown",
      "source": [
        "5.2.3"
      ],
      "metadata": {
        "id": "Kgxg7cDZSXpx"
      }
    },
    {
      "cell_type": "code",
      "source": [
        "def input_data():\n",
        "\n",
        "  return(int(x) for x in input(\"Введите первый номер билета и последний номер билета: \").split())\n",
        "\n",
        "def is_lucky(num):\n",
        "    even = 0\n",
        "    odd = 0\n",
        "    for i in map(int, str(num)):\n",
        "        if i % 2 ==0:\n",
        "            even += 1\n",
        "        else:\n",
        "            odd += 1\n",
        "    if even == odd:\n",
        "        lucky_num.append(num)\n",
        "    else:\n",
        "        pass\n",
        "\n",
        "def lucky_numbers(a, b):\n",
        "    num = a\n",
        "    while num in range(a, b + 1):\n",
        "      is_lucky(num)\n",
        "      if num in lucky_num:\n",
        "          lk_num.append(num)\n",
        "          num += 1\n",
        "      else:\n",
        "          num  += 1\n",
        "\n",
        "    return lk_num\n"
      ],
      "metadata": {
        "id": "3TbhbuqWSb3r"
      },
      "execution_count": 19,
      "outputs": []
    },
    {
      "cell_type": "code",
      "source": [
        "lucky_num=[]\n",
        "number=[]\n",
        "lk_num = []\n",
        "\n",
        "a, b=input_data()\n",
        "\n",
        "print(lucky_numbers(a, b))"
      ],
      "metadata": {
        "colab": {
          "base_uri": "https://localhost:8080/"
        },
        "id": "EtoXqlY4US3z",
        "outputId": "f4e49897-0f46-46a0-8109-10d6d409f682"
      },
      "execution_count": 20,
      "outputs": [
        {
          "output_type": "stream",
          "name": "stdout",
          "text": [
            "Введите первый номер билета и последний номер билета: 10 25\n",
            "[10, 12, 14, 16, 18, 21, 23, 25]\n"
          ]
        }
      ]
    }
  ]
}