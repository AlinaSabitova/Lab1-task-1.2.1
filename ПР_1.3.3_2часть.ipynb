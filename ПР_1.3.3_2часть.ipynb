{
  "nbformat": 4,
  "nbformat_minor": 0,
  "metadata": {
    "colab": {
      "provenance": [],
      "authorship_tag": "ABX9TyPTKIU2WkojksHSPmX+dbFL",
      "include_colab_link": true
    },
    "kernelspec": {
      "name": "python3",
      "display_name": "Python 3"
    },
    "language_info": {
      "name": "python"
    }
  },
  "cells": [
    {
      "cell_type": "markdown",
      "metadata": {
        "id": "view-in-github",
        "colab_type": "text"
      },
      "source": [
        "<a href=\"https://colab.research.google.com/github/AlinaSabitova/Lab1-task-1.2.1/blob/main/%D0%9F%D0%A0_1.3.3_2%D1%87%D0%B0%D1%81%D1%82%D1%8C.ipynb\" target=\"_parent\"><img src=\"https://colab.research.google.com/assets/colab-badge.svg\" alt=\"Open In Colab\"/></a>"
      ]
    },
    {
      "cell_type": "code",
      "source": [
        "# 1.3.4\n",
        "\n",
        "class Employee():\n",
        "  salary = 0\n",
        "  days = int(input(\"Введите количество отработанных дней: \"))\n",
        "  payment = int(input(\"Введите плату за 1 рабочий день: \"))\n",
        "  salary = 0\n",
        "\n",
        "  def employee_salary(self):\n",
        "    self.salary = self.days * self.payment\n",
        "    f = open(\"task_1.3.2\", \"w\")\n",
        "    f.write(\"Зарплата: \" + str(self.salary) + \"\\n\")\n",
        "    f.close()\n",
        "    return self.salary\n",
        "\n",
        "  def premium(self):\n",
        "    self.salary = self.salary + (self.salary * 0.01)\n",
        "    f = open(\"task_1.3.2\", \"a\")\n",
        "    f.write(\"Зарплата с премией: \" + str(self.salary))\n",
        "    f.close()\n",
        "    return self.salary\n",
        "\n",
        "quantity = int(input(\"Введите количество работников: \"))\n",
        "i = 0\n",
        "open('Worker_list', 'w')\n",
        "while i <= quantity:\n",
        "  i += 1\n",
        "  f = open(\"Worker_list\", \"w\")\n",
        "  f.write(str(salary) + \"\\n\")\n",
        "  f.close()\n",
        "\n",
        "  def salary_f(filename):\n",
        "    resource = open(filename, 'r')\n",
        "    a = resource.read()\n",
        "    open(filename).read().split('\\n')\n",
        "\n",
        "    result = []\n",
        "    with open(filename) as f:\n",
        "        for line in f:\n",
        "            result.append([float(x) for x in line.split()])\n",
        "\n",
        "    res1 = []\n",
        "    for x in result:\n",
        "      for y in x:\n",
        "          res1.append(y)\n",
        "    sum_salary = sum(res1)\n",
        "\n",
        "    listing = open('Worker_list', 'a')\n",
        "    listing.write('sum_salary = ' + str(sum_salary) + '\\n')\n",
        "    listing.close()\n",
        "    return sum_salary\n",
        "\n",
        "test = salary_f('Worker_list')\n",
        "\n",
        "print('sum_salary = ', test)"
      ],
      "metadata": {
        "id": "0SStHkYoxY_3",
        "outputId": "1f17881f-27b5-4fd2-a60f-715f36fbdb0b",
        "colab": {
          "base_uri": "https://localhost:8080/",
          "height": 299
        }
      },
      "execution_count": 8,
      "outputs": [
        {
          "name": "stdout",
          "output_type": "stream",
          "text": [
            "Введите количество отработанных дней: 20\n",
            "Введите плату за 1 рабочий день: 1200\n",
            "Введите количество работников: 3\n"
          ]
        },
        {
          "output_type": "error",
          "ename": "NameError",
          "evalue": "ignored",
          "traceback": [
            "\u001b[0;31m---------------------------------------------------------------------------\u001b[0m",
            "\u001b[0;31mNameError\u001b[0m                                 Traceback (most recent call last)",
            "\u001b[0;32m<ipython-input-8-a3068df792f4>\u001b[0m in \u001b[0;36m<module>\u001b[0;34m\u001b[0m\n\u001b[1;32m     27\u001b[0m   \u001b[0mi\u001b[0m \u001b[0;34m+=\u001b[0m \u001b[0;36m1\u001b[0m\u001b[0;34m\u001b[0m\u001b[0;34m\u001b[0m\u001b[0m\n\u001b[1;32m     28\u001b[0m   \u001b[0mf\u001b[0m \u001b[0;34m=\u001b[0m \u001b[0mopen\u001b[0m\u001b[0;34m(\u001b[0m\u001b[0;34m\"Worker_list\"\u001b[0m\u001b[0;34m,\u001b[0m \u001b[0;34m\"w\"\u001b[0m\u001b[0;34m)\u001b[0m\u001b[0;34m\u001b[0m\u001b[0;34m\u001b[0m\u001b[0m\n\u001b[0;32m---> 29\u001b[0;31m   \u001b[0mf\u001b[0m\u001b[0;34m.\u001b[0m\u001b[0mwrite\u001b[0m\u001b[0;34m(\u001b[0m\u001b[0mstr\u001b[0m\u001b[0;34m(\u001b[0m\u001b[0msalary\u001b[0m\u001b[0;34m)\u001b[0m \u001b[0;34m+\u001b[0m \u001b[0;34m\"\\n\"\u001b[0m\u001b[0;34m)\u001b[0m\u001b[0;34m\u001b[0m\u001b[0;34m\u001b[0m\u001b[0m\n\u001b[0m\u001b[1;32m     30\u001b[0m   \u001b[0mf\u001b[0m\u001b[0;34m.\u001b[0m\u001b[0mclose\u001b[0m\u001b[0;34m(\u001b[0m\u001b[0;34m)\u001b[0m\u001b[0;34m\u001b[0m\u001b[0;34m\u001b[0m\u001b[0m\n\u001b[1;32m     31\u001b[0m \u001b[0;34m\u001b[0m\u001b[0m\n",
            "\u001b[0;31mNameError\u001b[0m: name 'salary' is not defined"
          ]
        }
      ]
    },
    {
      "cell_type": "code",
      "execution_count": null,
      "metadata": {
        "id": "PDFwiO8jEMZR"
      },
      "outputs": [],
      "source": [
        "# 1.3.5\n",
        "\n",
        "class Task():\n",
        "  def __init__(self, x):\n",
        "    self.x = x\n",
        "\n",
        "  def __truediv__(self, other):\n",
        "    if self.x == 0:\n",
        "      raise ZeroDivisionError(\"Невозможно выполнить деление\")\n",
        "    else:\n",
        "      return other/self.x\n",
        "\n",
        "  def __floordiv__(self, other):\n",
        "    if self.x == 0:\n",
        "      raise ZeroDivisionError(\"Невозможно выполнить деление\")\n",
        "    else:\n",
        "      return other//self.x\n",
        "\n",
        "  def __mod__(self, other):\n",
        "    if self.x == 0:\n",
        "      raise ZeroDivisionError(\"Невозможно выполнить деление\")\n",
        "    else:\n",
        "      return other%self.x\n",
        "try:\n",
        "  a = Task(5)\n",
        "  print(a/2)\n",
        "  print(a//14)\n",
        "  print(a%13)\n",
        "except ZeroDivisionError as err:\n",
        "  print(\"Ошибка: \", err, \"На ноль делить нельзя!\")"
      ]
    }
  ]
}