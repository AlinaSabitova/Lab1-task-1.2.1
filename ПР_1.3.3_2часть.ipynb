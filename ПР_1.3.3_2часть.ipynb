{
  "nbformat": 4,
  "nbformat_minor": 0,
  "metadata": {
    "colab": {
      "provenance": [],
      "authorship_tag": "ABX9TyNhue4hgDSc8DlDDyt585o/",
      "include_colab_link": true
    },
    "kernelspec": {
      "name": "python3",
      "display_name": "Python 3"
    },
    "language_info": {
      "name": "python"
    }
  },
  "cells": [
    {
      "cell_type": "markdown",
      "metadata": {
        "id": "view-in-github",
        "colab_type": "text"
      },
      "source": [
        "<a href=\"https://colab.research.google.com/github/AlinaSabitova/Lab1-task-1.2.1/blob/main/%D0%9F%D0%A0_1.3.3_2%D1%87%D0%B0%D1%81%D1%82%D1%8C.ipynb\" target=\"_parent\"><img src=\"https://colab.research.google.com/assets/colab-badge.svg\" alt=\"Open In Colab\"/></a>"
      ]
    },
    {
      "cell_type": "code",
      "source": [
        "# 1.3.4\n",
        "\n",
        "class Employee():\n",
        "  days = int(input(\"Введите количество отработанных дней: \"))\n",
        "  payment = int(input(\"Введите плату за 1 рабочий день: \"))\n",
        "  salary = 0\n",
        "\n",
        "  def employee_salary(self):\n",
        "    self.salary = self.days * self.payment\n",
        "    f = open(\"task_1.3.2\", \"w\")\n",
        "    f.write(\"Зарплата: \" + str(self.salary) + \"\\n\")\n",
        "    f.close()\n",
        "    return self.salary\n",
        "\n",
        "  def premium(self):\n",
        "    self.salary = self.salary + (self.salary * 0.01)\n",
        "    f = open(\"task_1.3.2\", \"a\")\n",
        "    f.write(\"Зарплата с премией: \" + str(self.salary))\n",
        "    f.close()\n",
        "    return self.salary\n",
        "\n",
        "employee1 = Employee()\n",
        "print(employee1.employee_salary())\n",
        "print(employee1.premium())\n",
        "\n",
        "quantity = int(input(\"Введите количество работников: \"))\n",
        "while i <= quantity:\n",
        "  f = open(\"Worker_list\", \"w\")\n",
        "  f.write"
      ],
      "metadata": {
        "id": "0SStHkYoxY_3"
      },
      "execution_count": null,
      "outputs": []
    },
    {
      "cell_type": "code",
      "execution_count": null,
      "metadata": {
        "id": "PDFwiO8jEMZR"
      },
      "outputs": [],
      "source": [
        "# 1.3.5\n",
        "\n",
        "class Task():\n",
        "  def __init__(self, x):\n",
        "    self.x = x\n",
        "\n",
        "  def __truediv__(self, other):\n",
        "    if self.x == 0:\n",
        "      raise ZeroDivisionError(\"Невозможно выполнить деление\")\n",
        "    else:\n",
        "      return other/self.x\n",
        "\n",
        "  def __floordiv__(self, other):\n",
        "    if self.x == 0:\n",
        "      raise ZeroDivisionError(\"Невозможно выполнить деление\")\n",
        "    else:\n",
        "      return other//self.x\n",
        "\n",
        "  def __mod__(self, other):\n",
        "    if self.x == 0:\n",
        "      raise ZeroDivisionError(\"Невозможно выполнить деление\")\n",
        "    else:\n",
        "      return other%self.x\n",
        "try:\n",
        "  a = Task(5)\n",
        "  print(a/2)\n",
        "  print(a//14)\n",
        "  print(a%13)\n",
        "except ZeroDivisionError as err:\n",
        "  print(\"Ошибка: \", err, \"На ноль делить нельзя!\")"
      ]
    }
  ]
}