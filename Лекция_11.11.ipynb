{
  "nbformat": 4,
  "nbformat_minor": 0,
  "metadata": {
    "colab": {
      "provenance": [],
      "authorship_tag": "ABX9TyN1/Z4mI4lV7NXbLib2BWEe",
      "include_colab_link": true
    },
    "kernelspec": {
      "name": "python3",
      "display_name": "Python 3"
    },
    "language_info": {
      "name": "python"
    }
  },
  "cells": [
    {
      "cell_type": "markdown",
      "metadata": {
        "id": "view-in-github",
        "colab_type": "text"
      },
      "source": [
        "<a href=\"https://colab.research.google.com/github/AlinaSabitova/Lab1-task-1.2.1/blob/main/%D0%9B%D0%B5%D0%BA%D1%86%D0%B8%D1%8F_11.11.ipynb\" target=\"_parent\"><img src=\"https://colab.research.google.com/assets/colab-badge.svg\" alt=\"Open In Colab\"/></a>"
      ]
    },
    {
      "cell_type": "code",
      "execution_count": 2,
      "metadata": {
        "id": "s_CJxWzHSRpT"
      },
      "outputs": [],
      "source": [
        "from datetime import datetime\n",
        "\n",
        "now = datetime.now()\n",
        "\n",
        "def print_date(date):\n",
        "    print(date.year)\n",
        "    print(date.month)\n",
        "    print(date.day)\n",
        "    print(date.hour)\n",
        "    print(date.minute)\n",
        "    print(date.second)\n",
        "    print(date.timestamp())"
      ]
    },
    {
      "cell_type": "code",
      "source": [
        "print_date(now)"
      ],
      "metadata": {
        "colab": {
          "base_uri": "https://localhost:8080/"
        },
        "id": "86ZKutzVUXos",
        "outputId": "01cd3731-da1c-4bb9-8d2a-f630a52b870c"
      },
      "execution_count": 3,
      "outputs": [
        {
          "output_type": "stream",
          "name": "stdout",
          "text": [
            "2022\n",
            "11\n",
            "11\n",
            "6\n",
            "11\n",
            "59\n",
            "1668147119.226551\n"
          ]
        }
      ]
    },
    {
      "cell_type": "code",
      "source": [
        "year_2023 = datetime(2023, 1, 1)\n",
        "\n",
        "print_date(year_2023)"
      ],
      "metadata": {
        "colab": {
          "base_uri": "https://localhost:8080/"
        },
        "id": "fbs_VxifUk8h",
        "outputId": "db9a2a37-f82a-4e9e-fd50-3c444df7060a"
      },
      "execution_count": 4,
      "outputs": [
        {
          "output_type": "stream",
          "name": "stdout",
          "text": [
            "2023\n",
            "1\n",
            "1\n",
            "0\n",
            "0\n",
            "0\n",
            "1672531200.0\n"
          ]
        }
      ]
    },
    {
      "cell_type": "code",
      "source": [
        "diff = year_2023 - now\n",
        "print(diff)\n",
        "\n",
        "diff = year_2023.date() - current_date\n",
        "print(diff)\n"
      ],
      "metadata": {
        "colab": {
          "base_uri": "https://localhost:8080/"
        },
        "id": "9iWRz9FpVUNK",
        "outputId": "733bccab-c2b8-494e-81ac-2b3bda3e5f02"
      },
      "execution_count": 10,
      "outputs": [
        {
          "output_type": "stream",
          "name": "stdout",
          "text": [
            "50 days, 17:48:00.773449\n",
            "21 days, 0:00:00\n"
          ]
        }
      ]
    },
    {
      "cell_type": "code",
      "source": [
        "from datetime import date\n",
        "\n",
        "current_date = date.today()\n",
        "\n",
        "print(current_date.year)\n",
        "print(current_date.month)\n",
        "print(current_date.day)\n",
        "\n",
        "current_date = date(2022, 11, 11)\n",
        "print(current_date.year)\n",
        "print(current_date.month)\n",
        "print(current_date.day)\n",
        "\n",
        "current_date = date(current_date.year, current_date.month+1, current_date.day)\n",
        "print(current_date.month)"
      ],
      "metadata": {
        "colab": {
          "base_uri": "https://localhost:8080/"
        },
        "id": "3YgTXCWPXoQi",
        "outputId": "c3429a27-f280-4204-ddfc-146314bbb268"
      },
      "execution_count": 9,
      "outputs": [
        {
          "output_type": "stream",
          "name": "stdout",
          "text": [
            "2022\n",
            "11\n",
            "11\n",
            "2022\n",
            "11\n",
            "11\n",
            "12\n"
          ]
        }
      ]
    },
    {
      "cell_type": "code",
      "source": [
        "from datetime import time\n",
        "\n",
        "current_time = time(21, 6, 0)\n",
        "\n",
        "print(current_time.hour)\n",
        "print(current_time.minute)\n",
        "print(current_time.second)"
      ],
      "metadata": {
        "colab": {
          "base_uri": "https://localhost:8080/"
        },
        "id": "J_5f80RSXNFn",
        "outputId": "25f241f0-df9f-4947-8d3a-b7ede408ec3d"
      },
      "execution_count": 8,
      "outputs": [
        {
          "output_type": "stream",
          "name": "stdout",
          "text": [
            "21\n",
            "6\n",
            "0\n"
          ]
        }
      ]
    },
    {
      "cell_type": "code",
      "source": [
        "from datetime import timedelta\n",
        "\n",
        "start_timedelta = timedelta(200, 100, 100, weeks = 10)\n",
        "end_timedelta = timedelta(300, 100, 100, weeks = 13)\n",
        "print(end_timedelta - start_timedelta)\n",
        "print(end_timedelta + start_timedelta)"
      ],
      "metadata": {
        "colab": {
          "base_uri": "https://localhost:8080/"
        },
        "id": "EAvr_d3zX3Ax",
        "outputId": "0c082513-9950-4313-acac-ac057002d70d"
      },
      "execution_count": 11,
      "outputs": [
        {
          "output_type": "stream",
          "name": "stdout",
          "text": [
            "121 days, 0:00:00\n",
            "661 days, 0:03:20.000200\n"
          ]
        }
      ]
    },
    {
      "cell_type": "code",
      "source": [
        "my_original_list = [0, 1, 2, 3, 4, 5, 6, 7]\n",
        "print(my_original_list)\n",
        "\n",
        "my_range = range(8)\n",
        "print(list(my_range))\n"
      ],
      "metadata": {
        "colab": {
          "base_uri": "https://localhost:8080/"
        },
        "id": "gC-IjbqNYahw",
        "outputId": "75af5fcf-de5d-434e-adaf-03dd951c719d"
      },
      "execution_count": 12,
      "outputs": [
        {
          "output_type": "stream",
          "name": "stdout",
          "text": [
            "[0, 1, 2, 3, 4, 5, 6, 7]\n",
            "[0, 1, 2, 3, 4, 5, 6, 7]\n"
          ]
        }
      ]
    },
    {
      "cell_type": "code",
      "source": [
        "my_list = [i + 1 for i in range(8)]\n",
        "print(my_list)\n",
        "\n",
        "my_list = [i * 2 for i in range(8)]\n",
        "print(my_list)\n",
        "\n",
        "my_list = [i * i for i in range(8)]\n",
        "print(my_list)\n",
        "\n",
        "def sum_five(number):\n",
        "    return number + 5\n",
        "\n",
        "my_list = [sum_five(i) for i in range(8)]\n",
        "print(my_list)"
      ],
      "metadata": {
        "colab": {
          "base_uri": "https://localhost:8080/"
        },
        "id": "Dzd3CL18Y6TB",
        "outputId": "44404424-be14-42c3-8a85-dcae697bd54d"
      },
      "execution_count": 15,
      "outputs": [
        {
          "output_type": "stream",
          "name": "stdout",
          "text": [
            "[1, 2, 3, 4, 5, 6, 7, 8]\n",
            "[0, 2, 4, 6, 8, 10, 12, 14]\n",
            "[0, 1, 4, 9, 16, 25, 36, 49]\n",
            "[5, 6, 7, 8, 9, 10, 11, 12]\n"
          ]
        }
      ]
    },
    {
      "cell_type": "code",
      "source": [
        "\"\"\"\n",
        "ИЗВЕСТНЫЙ \"ШУМ\"\n",
        "Напишите программу, выводящую на консоль (с печатью) числа от 1 до 100\n",
        "- Кратно 3 для слова \"Нет\".\n",
        "- Число, кратное 5, для слова \"Да\".\n",
        "- Кратные 3 и 5 одноверменно слова \"НетДа\".\n",
        "\"\"\"\n",
        "\n",
        "def NoYes():\n",
        "  for index in range(1, 101):\n",
        "      if index % 3 ==0 and index % 5 == 0:\n",
        "          print('НетДа')\n",
        "      elif index % 3 == 0:\n",
        "          print('Нет')\n",
        "      elif index % 5 == 0:\n",
        "          print('Да')\n",
        "      else:\n",
        "          print(index)\n",
        "\n",
        "NoYes()"
      ],
      "metadata": {
        "colab": {
          "base_uri": "https://localhost:8080/"
        },
        "id": "XbMavTCHa2B-",
        "outputId": "3b9a14b1-0e31-46f8-8d7f-c7cb5d911dab"
      },
      "execution_count": 20,
      "outputs": [
        {
          "output_type": "stream",
          "name": "stdout",
          "text": [
            "1\n",
            "2\n",
            "Нет\n",
            "4\n",
            "Да\n",
            "Нет\n",
            "7\n",
            "8\n",
            "Нет\n",
            "Да\n",
            "11\n",
            "Нет\n",
            "13\n",
            "14\n",
            "НетДа\n",
            "16\n",
            "17\n",
            "Нет\n",
            "19\n",
            "Да\n",
            "Нет\n",
            "22\n",
            "23\n",
            "Нет\n",
            "Да\n",
            "26\n",
            "Нет\n",
            "28\n",
            "29\n",
            "НетДа\n",
            "31\n",
            "32\n",
            "Нет\n",
            "34\n",
            "Да\n",
            "Нет\n",
            "37\n",
            "38\n",
            "Нет\n",
            "Да\n",
            "41\n",
            "Нет\n",
            "43\n",
            "44\n",
            "НетДа\n",
            "46\n",
            "47\n",
            "Нет\n",
            "49\n",
            "Да\n",
            "Нет\n",
            "52\n",
            "53\n",
            "Нет\n",
            "Да\n",
            "56\n",
            "Нет\n",
            "58\n",
            "59\n",
            "НетДа\n",
            "61\n",
            "62\n",
            "Нет\n",
            "64\n",
            "Да\n",
            "Нет\n",
            "67\n",
            "68\n",
            "Нет\n",
            "Да\n",
            "71\n",
            "Нет\n",
            "73\n",
            "74\n",
            "НетДа\n",
            "76\n",
            "77\n",
            "Нет\n",
            "79\n",
            "Да\n",
            "Нет\n",
            "82\n",
            "83\n",
            "Нет\n",
            "Да\n",
            "86\n",
            "Нет\n",
            "88\n",
            "89\n",
            "НетДа\n",
            "91\n",
            "92\n",
            "Нет\n",
            "94\n",
            "Да\n",
            "Нет\n",
            "97\n",
            "98\n",
            "Нет\n",
            "Да\n"
          ]
        }
      ]
    },
    {
      "cell_type": "code",
      "source": [
        "\"\"\"\n",
        "ЭТО АНАГРАММА?\n",
        "\"\"\"\n",
        "\n",
        "def is_anagram(word_one, word_two):\n",
        "    if word_one.lower() == word_two.lower():\n",
        "      return False\n",
        "    return sorted(word_one.lower()) == sorted(word_two.lower())\n",
        "\n",
        "print(is_anagram(\"Amor\", \"Roma\"))\n",
        "print(is_anagram(\"Атлас\", \"Салат\"))\n",
        "print(is_anagram(\"adobe\", \"Abode\"))\n",
        "print(is_anagram(\"Воз\", \"Зов\"))\n",
        "print(is_anagram(\"Ток\", \"Кот\"))\n",
        "print(is_anagram(\"Торг\", \"Грот\"))\n",
        "print(is_anagram(\"Кабан\", \"Банка\"))\n",
        "print(is_anagram(\"Актер\", \"Терка\"))\n",
        "print(is_anagram(\"Потеха\", \"Пехота\"))\n",
        "print(is_anagram(\"Нора\", \"Рано\"))\n",
        "print(is_anagram(\"Нос\", \"Сон\"))\n",
        "print(is_anagram(\"Сосна\", \"Насос\"))\n",
        "print(is_anagram(\"Нитка\", \"Ткани\"))\n",
        "print(is_anagram(\"Парк\", \"Карп\"))\n",
        "print(is_anagram(\"Лыжи\", \"Жилы\"))\n",
        "print(is_anagram('act', 'cat'))\n",
        "print(is_anagram('dog', 'god'))\n",
        "print(is_anagram('meteor', 'remote'))\n",
        "print(is_anagram(\"Мышка\", \"Камыш\"))\n",
        "print(is_anagram(\"Кукла\", \"Кулак\"))\n",
        "print(is_anagram(\"Каприз\", \"Приказ\"))\n",
        "print(is_anagram(\"Коршун\", \"Шнурок\"))\n",
        "print(is_anagram(\"Росинка\", \"Соринка\"))\n",
        "print(is_anagram(\"Лучок\", \"Чулок\"))"
      ],
      "metadata": {
        "colab": {
          "base_uri": "https://localhost:8080/"
        },
        "id": "U6YSamx8cdDk",
        "outputId": "f083c87d-04a0-4adf-b568-af3ca3814de2"
      },
      "execution_count": 28,
      "outputs": [
        {
          "output_type": "stream",
          "name": "stdout",
          "text": [
            "True\n",
            "True\n",
            "True\n",
            "True\n",
            "True\n",
            "True\n",
            "True\n",
            "True\n",
            "True\n",
            "True\n",
            "True\n",
            "True\n",
            "True\n",
            "True\n",
            "True\n",
            "True\n",
            "True\n",
            "True\n",
            "False\n",
            "True\n",
            "True\n",
            "True\n",
            "True\n",
            "True\n",
            "True\n"
          ]
        }
      ]
    },
    {
      "cell_type": "code",
      "source": [
        "\"\"\"\n",
        "ЭТО ПРОСТОЕ ЧИСЛО?\n",
        "\"\"\"\n",
        "def is_prime():\n",
        "\n",
        "  for number in range(1, 101):\n",
        "\n",
        "    if number >= 2:\n",
        "\n",
        "      is_divisible = False\n",
        "\n",
        "      for index in range(2, number):\n",
        "        if number % index == 0:\n",
        "          is_divisible = True\n",
        "          break\n",
        "\n",
        "      if not is_divisible:\n",
        "        print(number)\n",
        "\n",
        "is_prime()"
      ],
      "metadata": {
        "colab": {
          "base_uri": "https://localhost:8080/"
        },
        "id": "AOHdRvaHfKg2",
        "outputId": "9b8f3e5f-c908-40e9-ea8f-abafb0551cdf"
      },
      "execution_count": 24,
      "outputs": [
        {
          "output_type": "stream",
          "name": "stdout",
          "text": [
            "2\n",
            "3\n",
            "5\n",
            "7\n",
            "11\n",
            "13\n",
            "17\n",
            "19\n",
            "23\n",
            "29\n",
            "31\n",
            "37\n",
            "41\n",
            "43\n",
            "47\n",
            "53\n",
            "59\n",
            "61\n",
            "67\n",
            "71\n",
            "73\n",
            "79\n",
            "83\n",
            "89\n",
            "97\n"
          ]
        }
      ]
    },
    {
      "cell_type": "code",
      "source": [
        "def reverse(text):\n",
        "  text_len = len(text)\n",
        "  reversed_text = \"\"\n",
        "  for index in range(0, text_len):\n",
        "    reversed_text += text[text_len - index - 1]\n",
        "  return reversed_text\n",
        "\n",
        "print(reverse(\"Hello world\"))"
      ],
      "metadata": {
        "colab": {
          "base_uri": "https://localhost:8080/"
        },
        "id": "vypICO-2gEQo",
        "outputId": "4c9e7dcc-2ba5-49c0-9834-8d046f4a5f62"
      },
      "execution_count": 25,
      "outputs": [
        {
          "output_type": "stream",
          "name": "stdout",
          "text": [
            "dlrow olleH\n"
          ]
        }
      ]
    }
  ]
}